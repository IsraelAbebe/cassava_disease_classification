{
  "nbformat": 4,
  "nbformat_minor": 0,
  "metadata": {
    "colab": {
      "name": "cross validation and TTA FAST AI",
      "provenance": [],
      "collapsed_sections": [],
      "toc_visible": true,
      "machine_shape": "hm"
    },
    "kernelspec": {
      "name": "python3",
      "display_name": "Python 3"
    },
    "accelerator": "GPU"
  },
  "cells": [
    {
      "cell_type": "markdown",
      "metadata": {
        "id": "hEH3RaRC5N0W",
        "colab_type": "text"
      },
      "source": [
        "## **Fast AI Experements Based on [this](https://towardsdatascience.com/transfer-learning-using-the-fastai-library-d686b238213e) blog**\n",
        "\n",
        "trained models in this [google Drive Folder](https://drive.google.com/open?id=1bW0UjVudEarP5qTToxwDtcIKXX9iuM9L)"
      ]
    },
    {
      "cell_type": "code",
      "metadata": {
        "id": "_oaYbXMlyyjB",
        "colab_type": "code",
        "outputId": "78abb275-d43c-47d5-a936-9cd7538d4199",
        "colab": {
          "base_uri": "https://localhost:8080/",
          "height": 128
        }
      },
      "source": [
        "from google.colab import drive\n",
        "drive.mount('/content/drive/')"
      ],
      "execution_count": 0,
      "outputs": [
        {
          "output_type": "stream",
          "text": [
            "Go to this URL in a browser: https://accounts.google.com/o/oauth2/auth?client_id=947318989803-6bn6qk8qdgf4n4g3pfee6491hc0brc4i.apps.googleusercontent.com&redirect_uri=urn%3aietf%3awg%3aoauth%3a2.0%3aoob&response_type=code&scope=email%20https%3a%2f%2fwww.googleapis.com%2fauth%2fdocs.test%20https%3a%2f%2fwww.googleapis.com%2fauth%2fdrive%20https%3a%2f%2fwww.googleapis.com%2fauth%2fdrive.photos.readonly%20https%3a%2f%2fwww.googleapis.com%2fauth%2fpeopleapi.readonly\n",
            "\n",
            "Enter your authorization code:\n",
            "··········\n",
            "Mounted at /content/drive/\n"
          ],
          "name": "stdout"
        }
      ]
    },
    {
      "cell_type": "code",
      "metadata": {
        "id": "c8PhQHFEyz2x",
        "colab_type": "code",
        "colab": {}
      },
      "source": [
        "# !unzip drive/My\\ Drive/ammi-2020-convnets.zip \n",
        "\n",
        "# !mkdir models\n",
        "# !cp -r drive/My\\ Drive/data/models/* models/.\n",
        "\n",
        "\n",
        "!cp -r models/* drive/My\\ Drive/data/models/.\n"
      ],
      "execution_count": 0,
      "outputs": []
    },
    {
      "cell_type": "code",
      "metadata": {
        "id": "G2jW1hhDy8oy",
        "colab_type": "code",
        "outputId": "1c02ff16-3a01-454d-b69e-27f90b7a934d",
        "colab": {
          "base_uri": "https://localhost:8080/",
          "height": 655
        }
      },
      "source": [
        "!pip install pretrainedmodels\n",
        "!pip uninstall torch torchvision -y \n",
        "!pip install torch==1.4.0 torchvision==0.5.0 "
      ],
      "execution_count": 0,
      "outputs": [
        {
          "output_type": "stream",
          "text": [
            "Collecting pretrainedmodels\n",
            "\u001b[?25l  Downloading https://files.pythonhosted.org/packages/84/0e/be6a0e58447ac16c938799d49bfb5fb7a80ac35e137547fc6cee2c08c4cf/pretrainedmodels-0.7.4.tar.gz (58kB)\n",
            "\r\u001b[K     |█████▋                          | 10kB 23.3MB/s eta 0:00:01\r\u001b[K     |███████████▏                    | 20kB 1.7MB/s eta 0:00:01\r\u001b[K     |████████████████▊               | 30kB 2.2MB/s eta 0:00:01\r\u001b[K     |██████████████████████▎         | 40kB 2.5MB/s eta 0:00:01\r\u001b[K     |███████████████████████████▉    | 51kB 2.0MB/s eta 0:00:01\r\u001b[K     |████████████████████████████████| 61kB 1.8MB/s \n",
            "\u001b[?25hRequirement already satisfied: torch in /usr/local/lib/python3.6/dist-packages (from pretrainedmodels) (1.5.0+cu101)\n",
            "Requirement already satisfied: torchvision in /usr/local/lib/python3.6/dist-packages (from pretrainedmodels) (0.6.0+cu101)\n",
            "Collecting munch\n",
            "  Downloading https://files.pythonhosted.org/packages/cc/ab/85d8da5c9a45e072301beb37ad7f833cd344e04c817d97e0cc75681d248f/munch-2.5.0-py2.py3-none-any.whl\n",
            "Requirement already satisfied: tqdm in /usr/local/lib/python3.6/dist-packages (from pretrainedmodels) (4.38.0)\n",
            "Requirement already satisfied: numpy in /usr/local/lib/python3.6/dist-packages (from torch->pretrainedmodels) (1.18.3)\n",
            "Requirement already satisfied: future in /usr/local/lib/python3.6/dist-packages (from torch->pretrainedmodels) (0.16.0)\n",
            "Requirement already satisfied: pillow>=4.1.1 in /usr/local/lib/python3.6/dist-packages (from torchvision->pretrainedmodels) (7.0.0)\n",
            "Requirement already satisfied: six in /usr/local/lib/python3.6/dist-packages (from munch->pretrainedmodels) (1.12.0)\n",
            "Building wheels for collected packages: pretrainedmodels\n",
            "  Building wheel for pretrainedmodels (setup.py) ... \u001b[?25l\u001b[?25hdone\n",
            "  Created wheel for pretrainedmodels: filename=pretrainedmodels-0.7.4-cp36-none-any.whl size=60962 sha256=288e624eac9b28a91b625a31b0ae9122802d2d076c207370c8e5d421852a169f\n",
            "  Stored in directory: /root/.cache/pip/wheels/69/df/63/62583c096289713f22db605aa2334de5b591d59861a02c2ecd\n",
            "Successfully built pretrainedmodels\n",
            "Installing collected packages: munch, pretrainedmodels\n",
            "Successfully installed munch-2.5.0 pretrainedmodels-0.7.4\n",
            "Uninstalling torch-1.5.0+cu101:\n",
            "  Successfully uninstalled torch-1.5.0+cu101\n",
            "Uninstalling torchvision-0.6.0+cu101:\n",
            "  Successfully uninstalled torchvision-0.6.0+cu101\n",
            "Collecting torch==1.4.0\n",
            "\u001b[?25l  Downloading https://files.pythonhosted.org/packages/24/19/4804aea17cd136f1705a5e98a00618cb8f6ccc375ad8bfa437408e09d058/torch-1.4.0-cp36-cp36m-manylinux1_x86_64.whl (753.4MB)\n",
            "\u001b[K     |████████████████████████████████| 753.4MB 22kB/s \n",
            "\u001b[?25hCollecting torchvision==0.5.0\n",
            "\u001b[?25l  Downloading https://files.pythonhosted.org/packages/7e/90/6141bf41f5655c78e24f40f710fdd4f8a8aff6c8b7c6f0328240f649bdbe/torchvision-0.5.0-cp36-cp36m-manylinux1_x86_64.whl (4.0MB)\n",
            "\u001b[K     |████████████████████████████████| 4.0MB 67kB/s \n",
            "\u001b[?25hRequirement already satisfied: numpy in /usr/local/lib/python3.6/dist-packages (from torchvision==0.5.0) (1.18.3)\n",
            "Requirement already satisfied: pillow>=4.1.1 in /usr/local/lib/python3.6/dist-packages (from torchvision==0.5.0) (7.0.0)\n",
            "Requirement already satisfied: six in /usr/local/lib/python3.6/dist-packages (from torchvision==0.5.0) (1.12.0)\n",
            "Installing collected packages: torch, torchvision\n",
            "Successfully installed torch-1.4.0 torchvision-0.5.0\n"
          ],
          "name": "stdout"
        }
      ]
    },
    {
      "cell_type": "markdown",
      "metadata": {
        "id": "4Lv3vy7CxUG-",
        "colab_type": "text"
      },
      "source": [
        "# Importing Fast AI library"
      ]
    },
    {
      "cell_type": "code",
      "metadata": {
        "id": "6hPxPI9RzC8b",
        "colab_type": "code",
        "colab": {}
      },
      "source": [
        "import os \n",
        "import pretrainedmodels\n",
        "\n",
        "from tqdm import tqdm"
      ],
      "execution_count": 0,
      "outputs": []
    },
    {
      "cell_type": "code",
      "metadata": {
        "id": "uIVOLxsrw-BX",
        "colab_type": "code",
        "outputId": "dc48e057-45cb-491c-a555-9df5be9102ea",
        "colab": {
          "base_uri": "https://localhost:8080/",
          "height": 74
        }
      },
      "source": [
        "from fastai import *\n",
        "from fastai.vision import *\n",
        "\n",
        "import numpy as np \n",
        "import pandas as pd\n",
        "import seaborn as sns\n",
        "import matplotlib.pyplot as plt\n",
        "from sklearn.metrics import auc,roc_curve\n",
        "\n",
        "from math import floor"
      ],
      "execution_count": 0,
      "outputs": [
        {
          "output_type": "stream",
          "text": [
            "/usr/local/lib/python3.6/dist-packages/statsmodels/tools/_testing.py:19: FutureWarning: pandas.util.testing is deprecated. Use the functions in the public API at pandas.testing instead.\n",
            "  import pandas.util.testing as tm\n"
          ],
          "name": "stderr"
        }
      ]
    },
    {
      "cell_type": "code",
      "metadata": {
        "id": "YY7XirmPTeMb",
        "colab_type": "code",
        "outputId": "66588a70-27b9-474c-beaa-aae32762fd5e",
        "colab": {
          "base_uri": "https://localhost:8080/",
          "height": 35
        }
      },
      "source": [
        "import os,glob\n",
        "os.listdir('train/train/')"
      ],
      "execution_count": 0,
      "outputs": [
        {
          "output_type": "execute_result",
          "data": {
            "text/plain": [
              "['cbb', 'healthy', 'cbsd', 'cmd', 'cgm']"
            ]
          },
          "metadata": {
            "tags": []
          },
          "execution_count": 7
        }
      ]
    },
    {
      "cell_type": "code",
      "metadata": {
        "id": "iXUSdk4RTeW2",
        "colab_type": "code",
        "colab": {}
      },
      "source": [
        "healthy=glob.glob('train/train/healthy/*.*')\n",
        "cmd=glob.glob('train/train/cmd/*.*')\n",
        "cbsd=glob.glob('train/train/cbsd/*.*')\n",
        "cgm=glob.glob('train/train/cgm/*.*')\n",
        "cbb=glob.glob('train/train/cbb/*.*')"
      ],
      "execution_count": 0,
      "outputs": []
    },
    {
      "cell_type": "code",
      "metadata": {
        "id": "GMul-IIATehv",
        "colab_type": "code",
        "outputId": "c1184b3e-df77-4a6c-d043-1c951cb08f86",
        "colab": {
          "base_uri": "https://localhost:8080/",
          "height": 35
        }
      },
      "source": [
        "img_path=[]\n",
        "img_path=img_path+healthy+cmd+cbsd+cgm+cbb\n",
        "df=pd.DataFrame({'img_path':img_path})\n",
        "df.shape"
      ],
      "execution_count": 0,
      "outputs": [
        {
          "output_type": "execute_result",
          "data": {
            "text/plain": [
              "(5656, 1)"
            ]
          },
          "metadata": {
            "tags": []
          },
          "execution_count": 9
        }
      ]
    },
    {
      "cell_type": "code",
      "metadata": {
        "id": "N2vEPPX8U5wp",
        "colab_type": "code",
        "outputId": "4e69f87f-6095-4a56-c057-5effc02769be",
        "colab": {
          "base_uri": "https://localhost:8080/",
          "height": 198
        }
      },
      "source": [
        "df.head()"
      ],
      "execution_count": 0,
      "outputs": [
        {
          "output_type": "execute_result",
          "data": {
            "text/html": [
              "<div>\n",
              "<style scoped>\n",
              "    .dataframe tbody tr th:only-of-type {\n",
              "        vertical-align: middle;\n",
              "    }\n",
              "\n",
              "    .dataframe tbody tr th {\n",
              "        vertical-align: top;\n",
              "    }\n",
              "\n",
              "    .dataframe thead th {\n",
              "        text-align: right;\n",
              "    }\n",
              "</style>\n",
              "<table border=\"1\" class=\"dataframe\">\n",
              "  <thead>\n",
              "    <tr style=\"text-align: right;\">\n",
              "      <th></th>\n",
              "      <th>img_path</th>\n",
              "    </tr>\n",
              "  </thead>\n",
              "  <tbody>\n",
              "    <tr>\n",
              "      <th>0</th>\n",
              "      <td>train/train/healthy/train-healthy-294.jpg</td>\n",
              "    </tr>\n",
              "    <tr>\n",
              "      <th>1</th>\n",
              "      <td>train/train/healthy/train-healthy-128.jpg</td>\n",
              "    </tr>\n",
              "    <tr>\n",
              "      <th>2</th>\n",
              "      <td>train/train/healthy/train-healthy-231.jpg</td>\n",
              "    </tr>\n",
              "    <tr>\n",
              "      <th>3</th>\n",
              "      <td>train/train/healthy/train-healthy-225.jpg</td>\n",
              "    </tr>\n",
              "    <tr>\n",
              "      <th>4</th>\n",
              "      <td>train/train/healthy/train-healthy-120.jpg</td>\n",
              "    </tr>\n",
              "  </tbody>\n",
              "</table>\n",
              "</div>"
            ],
            "text/plain": [
              "                                    img_path\n",
              "0  train/train/healthy/train-healthy-294.jpg\n",
              "1  train/train/healthy/train-healthy-128.jpg\n",
              "2  train/train/healthy/train-healthy-231.jpg\n",
              "3  train/train/healthy/train-healthy-225.jpg\n",
              "4  train/train/healthy/train-healthy-120.jpg"
            ]
          },
          "metadata": {
            "tags": []
          },
          "execution_count": 10
        }
      ]
    },
    {
      "cell_type": "code",
      "metadata": {
        "id": "VJKjgNFsVnq3",
        "colab_type": "code",
        "colab": {}
      },
      "source": [
        "df['disease_class'] = df['img_path'].apply(lambda x: x.split(\"/\")[3].split('.')[0].split('-')[1])\n",
        "df['ext'] = df['img_path'].apply(lambda x: x.split(\".\")[-1])\n"
      ],
      "execution_count": 0,
      "outputs": []
    },
    {
      "cell_type": "code",
      "metadata": {
        "id": "y9FTk8hpVnxq",
        "colab_type": "code",
        "outputId": "389f4020-c7c1-4c8e-895d-5e9441c3167d",
        "colab": {
          "base_uri": "https://localhost:8080/",
          "height": 498
        }
      },
      "source": [
        "df.tail(15)"
      ],
      "execution_count": 0,
      "outputs": [
        {
          "output_type": "execute_result",
          "data": {
            "text/html": [
              "<div>\n",
              "<style scoped>\n",
              "    .dataframe tbody tr th:only-of-type {\n",
              "        vertical-align: middle;\n",
              "    }\n",
              "\n",
              "    .dataframe tbody tr th {\n",
              "        vertical-align: top;\n",
              "    }\n",
              "\n",
              "    .dataframe thead th {\n",
              "        text-align: right;\n",
              "    }\n",
              "</style>\n",
              "<table border=\"1\" class=\"dataframe\">\n",
              "  <thead>\n",
              "    <tr style=\"text-align: right;\">\n",
              "      <th></th>\n",
              "      <th>img_path</th>\n",
              "      <th>disease_class</th>\n",
              "      <th>ext</th>\n",
              "    </tr>\n",
              "  </thead>\n",
              "  <tbody>\n",
              "    <tr>\n",
              "      <th>5641</th>\n",
              "      <td>train/train/cbb/train-cbb-303.jpg</td>\n",
              "      <td>cbb</td>\n",
              "      <td>jpg</td>\n",
              "    </tr>\n",
              "    <tr>\n",
              "      <th>5642</th>\n",
              "      <td>train/train/cbb/train-cbb-140.jpg</td>\n",
              "      <td>cbb</td>\n",
              "      <td>jpg</td>\n",
              "    </tr>\n",
              "    <tr>\n",
              "      <th>5643</th>\n",
              "      <td>train/train/cbb/train-cbb-111.jpg</td>\n",
              "      <td>cbb</td>\n",
              "      <td>jpg</td>\n",
              "    </tr>\n",
              "    <tr>\n",
              "      <th>5644</th>\n",
              "      <td>train/train/cbb/train-cbb-70.jpg</td>\n",
              "      <td>cbb</td>\n",
              "      <td>jpg</td>\n",
              "    </tr>\n",
              "    <tr>\n",
              "      <th>5645</th>\n",
              "      <td>train/train/cbb/train-cbb-327.jpg</td>\n",
              "      <td>cbb</td>\n",
              "      <td>jpg</td>\n",
              "    </tr>\n",
              "    <tr>\n",
              "      <th>5646</th>\n",
              "      <td>train/train/cbb/train-cbb-305.jpg</td>\n",
              "      <td>cbb</td>\n",
              "      <td>jpg</td>\n",
              "    </tr>\n",
              "    <tr>\n",
              "      <th>5647</th>\n",
              "      <td>train/train/cbb/train-cbb-313.jpg</td>\n",
              "      <td>cbb</td>\n",
              "      <td>jpg</td>\n",
              "    </tr>\n",
              "    <tr>\n",
              "      <th>5648</th>\n",
              "      <td>train/train/cbb/train-cbb-403.jpg</td>\n",
              "      <td>cbb</td>\n",
              "      <td>jpg</td>\n",
              "    </tr>\n",
              "    <tr>\n",
              "      <th>5649</th>\n",
              "      <td>train/train/cbb/train-cbb-294.jpg</td>\n",
              "      <td>cbb</td>\n",
              "      <td>jpg</td>\n",
              "    </tr>\n",
              "    <tr>\n",
              "      <th>5650</th>\n",
              "      <td>train/train/cbb/train-cbb-101.jpg</td>\n",
              "      <td>cbb</td>\n",
              "      <td>jpg</td>\n",
              "    </tr>\n",
              "    <tr>\n",
              "      <th>5651</th>\n",
              "      <td>train/train/cbb/train-cbb-354.jpg</td>\n",
              "      <td>cbb</td>\n",
              "      <td>jpg</td>\n",
              "    </tr>\n",
              "    <tr>\n",
              "      <th>5652</th>\n",
              "      <td>train/train/cbb/train-cbb-274.jpg</td>\n",
              "      <td>cbb</td>\n",
              "      <td>jpg</td>\n",
              "    </tr>\n",
              "    <tr>\n",
              "      <th>5653</th>\n",
              "      <td>train/train/cbb/train-cbb-64.jpg</td>\n",
              "      <td>cbb</td>\n",
              "      <td>jpg</td>\n",
              "    </tr>\n",
              "    <tr>\n",
              "      <th>5654</th>\n",
              "      <td>train/train/cbb/train-cbb-430.jpg</td>\n",
              "      <td>cbb</td>\n",
              "      <td>jpg</td>\n",
              "    </tr>\n",
              "    <tr>\n",
              "      <th>5655</th>\n",
              "      <td>train/train/cbb/train-cbb-129.jpg</td>\n",
              "      <td>cbb</td>\n",
              "      <td>jpg</td>\n",
              "    </tr>\n",
              "  </tbody>\n",
              "</table>\n",
              "</div>"
            ],
            "text/plain": [
              "                               img_path disease_class  ext\n",
              "5641  train/train/cbb/train-cbb-303.jpg           cbb  jpg\n",
              "5642  train/train/cbb/train-cbb-140.jpg           cbb  jpg\n",
              "5643  train/train/cbb/train-cbb-111.jpg           cbb  jpg\n",
              "5644   train/train/cbb/train-cbb-70.jpg           cbb  jpg\n",
              "5645  train/train/cbb/train-cbb-327.jpg           cbb  jpg\n",
              "5646  train/train/cbb/train-cbb-305.jpg           cbb  jpg\n",
              "5647  train/train/cbb/train-cbb-313.jpg           cbb  jpg\n",
              "5648  train/train/cbb/train-cbb-403.jpg           cbb  jpg\n",
              "5649  train/train/cbb/train-cbb-294.jpg           cbb  jpg\n",
              "5650  train/train/cbb/train-cbb-101.jpg           cbb  jpg\n",
              "5651  train/train/cbb/train-cbb-354.jpg           cbb  jpg\n",
              "5652  train/train/cbb/train-cbb-274.jpg           cbb  jpg\n",
              "5653   train/train/cbb/train-cbb-64.jpg           cbb  jpg\n",
              "5654  train/train/cbb/train-cbb-430.jpg           cbb  jpg\n",
              "5655  train/train/cbb/train-cbb-129.jpg           cbb  jpg"
            ]
          },
          "metadata": {
            "tags": []
          },
          "execution_count": 12
        }
      ]
    },
    {
      "cell_type": "code",
      "metadata": {
        "id": "fMFLG0EmVn45",
        "colab_type": "code",
        "outputId": "e9ff66a7-c1f4-4b16-f6ac-c3b1e12d5719",
        "colab": {
          "base_uri": "https://localhost:8080/",
          "height": 198
        }
      },
      "source": [
        "df.drop('ext',axis=1,inplace=True)\n",
        "df.head()"
      ],
      "execution_count": 0,
      "outputs": [
        {
          "output_type": "execute_result",
          "data": {
            "text/html": [
              "<div>\n",
              "<style scoped>\n",
              "    .dataframe tbody tr th:only-of-type {\n",
              "        vertical-align: middle;\n",
              "    }\n",
              "\n",
              "    .dataframe tbody tr th {\n",
              "        vertical-align: top;\n",
              "    }\n",
              "\n",
              "    .dataframe thead th {\n",
              "        text-align: right;\n",
              "    }\n",
              "</style>\n",
              "<table border=\"1\" class=\"dataframe\">\n",
              "  <thead>\n",
              "    <tr style=\"text-align: right;\">\n",
              "      <th></th>\n",
              "      <th>img_path</th>\n",
              "      <th>disease_class</th>\n",
              "    </tr>\n",
              "  </thead>\n",
              "  <tbody>\n",
              "    <tr>\n",
              "      <th>0</th>\n",
              "      <td>train/train/healthy/train-healthy-294.jpg</td>\n",
              "      <td>healthy</td>\n",
              "    </tr>\n",
              "    <tr>\n",
              "      <th>1</th>\n",
              "      <td>train/train/healthy/train-healthy-128.jpg</td>\n",
              "      <td>healthy</td>\n",
              "    </tr>\n",
              "    <tr>\n",
              "      <th>2</th>\n",
              "      <td>train/train/healthy/train-healthy-231.jpg</td>\n",
              "      <td>healthy</td>\n",
              "    </tr>\n",
              "    <tr>\n",
              "      <th>3</th>\n",
              "      <td>train/train/healthy/train-healthy-225.jpg</td>\n",
              "      <td>healthy</td>\n",
              "    </tr>\n",
              "    <tr>\n",
              "      <th>4</th>\n",
              "      <td>train/train/healthy/train-healthy-120.jpg</td>\n",
              "      <td>healthy</td>\n",
              "    </tr>\n",
              "  </tbody>\n",
              "</table>\n",
              "</div>"
            ],
            "text/plain": [
              "                                    img_path disease_class\n",
              "0  train/train/healthy/train-healthy-294.jpg       healthy\n",
              "1  train/train/healthy/train-healthy-128.jpg       healthy\n",
              "2  train/train/healthy/train-healthy-231.jpg       healthy\n",
              "3  train/train/healthy/train-healthy-225.jpg       healthy\n",
              "4  train/train/healthy/train-healthy-120.jpg       healthy"
            ]
          },
          "metadata": {
            "tags": []
          },
          "execution_count": 13
        }
      ]
    },
    {
      "cell_type": "code",
      "metadata": {
        "id": "FyowtW07Vn71",
        "colab_type": "code",
        "outputId": "a328ac32-0f23-470e-a396-baabd889e3aa",
        "colab": {
          "base_uri": "https://localhost:8080/",
          "height": 35
        }
      },
      "source": [
        "df.shape"
      ],
      "execution_count": 0,
      "outputs": [
        {
          "output_type": "execute_result",
          "data": {
            "text/plain": [
              "(5656, 2)"
            ]
          },
          "metadata": {
            "tags": []
          },
          "execution_count": 14
        }
      ]
    },
    {
      "cell_type": "code",
      "metadata": {
        "id": "Uqw2jLhqVn3t",
        "colab_type": "code",
        "colab": {}
      },
      "source": [
        "df.reset_index(inplace=True)"
      ],
      "execution_count": 0,
      "outputs": []
    },
    {
      "cell_type": "code",
      "metadata": {
        "id": "hOioPVghVn2I",
        "colab_type": "code",
        "outputId": "47dd8fca-ec30-43c5-d92f-1fff7ce736fa",
        "colab": {
          "base_uri": "https://localhost:8080/",
          "height": 198
        }
      },
      "source": [
        "df.drop('index',axis=1,inplace=True)\n",
        "df.head()"
      ],
      "execution_count": 0,
      "outputs": [
        {
          "output_type": "execute_result",
          "data": {
            "text/html": [
              "<div>\n",
              "<style scoped>\n",
              "    .dataframe tbody tr th:only-of-type {\n",
              "        vertical-align: middle;\n",
              "    }\n",
              "\n",
              "    .dataframe tbody tr th {\n",
              "        vertical-align: top;\n",
              "    }\n",
              "\n",
              "    .dataframe thead th {\n",
              "        text-align: right;\n",
              "    }\n",
              "</style>\n",
              "<table border=\"1\" class=\"dataframe\">\n",
              "  <thead>\n",
              "    <tr style=\"text-align: right;\">\n",
              "      <th></th>\n",
              "      <th>img_path</th>\n",
              "      <th>disease_class</th>\n",
              "    </tr>\n",
              "  </thead>\n",
              "  <tbody>\n",
              "    <tr>\n",
              "      <th>0</th>\n",
              "      <td>train/train/healthy/train-healthy-294.jpg</td>\n",
              "      <td>healthy</td>\n",
              "    </tr>\n",
              "    <tr>\n",
              "      <th>1</th>\n",
              "      <td>train/train/healthy/train-healthy-128.jpg</td>\n",
              "      <td>healthy</td>\n",
              "    </tr>\n",
              "    <tr>\n",
              "      <th>2</th>\n",
              "      <td>train/train/healthy/train-healthy-231.jpg</td>\n",
              "      <td>healthy</td>\n",
              "    </tr>\n",
              "    <tr>\n",
              "      <th>3</th>\n",
              "      <td>train/train/healthy/train-healthy-225.jpg</td>\n",
              "      <td>healthy</td>\n",
              "    </tr>\n",
              "    <tr>\n",
              "      <th>4</th>\n",
              "      <td>train/train/healthy/train-healthy-120.jpg</td>\n",
              "      <td>healthy</td>\n",
              "    </tr>\n",
              "  </tbody>\n",
              "</table>\n",
              "</div>"
            ],
            "text/plain": [
              "                                    img_path disease_class\n",
              "0  train/train/healthy/train-healthy-294.jpg       healthy\n",
              "1  train/train/healthy/train-healthy-128.jpg       healthy\n",
              "2  train/train/healthy/train-healthy-231.jpg       healthy\n",
              "3  train/train/healthy/train-healthy-225.jpg       healthy\n",
              "4  train/train/healthy/train-healthy-120.jpg       healthy"
            ]
          },
          "metadata": {
            "tags": []
          },
          "execution_count": 16
        }
      ]
    },
    {
      "cell_type": "code",
      "metadata": {
        "id": "NXLnIOG4VnvT",
        "colab_type": "code",
        "outputId": "33ad8fab-468a-4e49-c9e2-5666ff970d62",
        "colab": {
          "base_uri": "https://localhost:8080/",
          "height": 35
        }
      },
      "source": [
        "test_img_path=glob.glob('./test/test/0/*.*')\n",
        "test_df=pd.DataFrame({'test_img_path':test_img_path})\n",
        "test_df['ext'] = test_df['test_img_path'].apply(lambda x: x.split(\".\")[-1])\n",
        "test_df.shape\n"
      ],
      "execution_count": 0,
      "outputs": [
        {
          "output_type": "execute_result",
          "data": {
            "text/plain": [
              "(3774, 2)"
            ]
          },
          "metadata": {
            "tags": []
          },
          "execution_count": 17
        }
      ]
    },
    {
      "cell_type": "code",
      "metadata": {
        "id": "rZx8QpYHW-jg",
        "colab_type": "code",
        "outputId": "9fb567b5-84fb-4c33-b476-3edd5a0dfbfa",
        "colab": {
          "base_uri": "https://localhost:8080/",
          "height": 198
        }
      },
      "source": [
        "test_df.drop('ext',axis=1,inplace=True)\n",
        "test_df.reset_index(inplace=True)\n",
        "test_df.drop('index',axis=1,inplace=True)\n",
        "test_df.head()"
      ],
      "execution_count": 0,
      "outputs": [
        {
          "output_type": "execute_result",
          "data": {
            "text/html": [
              "<div>\n",
              "<style scoped>\n",
              "    .dataframe tbody tr th:only-of-type {\n",
              "        vertical-align: middle;\n",
              "    }\n",
              "\n",
              "    .dataframe tbody tr th {\n",
              "        vertical-align: top;\n",
              "    }\n",
              "\n",
              "    .dataframe thead th {\n",
              "        text-align: right;\n",
              "    }\n",
              "</style>\n",
              "<table border=\"1\" class=\"dataframe\">\n",
              "  <thead>\n",
              "    <tr style=\"text-align: right;\">\n",
              "      <th></th>\n",
              "      <th>test_img_path</th>\n",
              "    </tr>\n",
              "  </thead>\n",
              "  <tbody>\n",
              "    <tr>\n",
              "      <th>0</th>\n",
              "      <td>./test/test/0/test-img-2372.jpg</td>\n",
              "    </tr>\n",
              "    <tr>\n",
              "      <th>1</th>\n",
              "      <td>./test/test/0/test-img-2618.jpg</td>\n",
              "    </tr>\n",
              "    <tr>\n",
              "      <th>2</th>\n",
              "      <td>./test/test/0/test-img-2205.jpg</td>\n",
              "    </tr>\n",
              "    <tr>\n",
              "      <th>3</th>\n",
              "      <td>./test/test/0/test-img-3488.jpg</td>\n",
              "    </tr>\n",
              "    <tr>\n",
              "      <th>4</th>\n",
              "      <td>./test/test/0/test-img-3079.jpg</td>\n",
              "    </tr>\n",
              "  </tbody>\n",
              "</table>\n",
              "</div>"
            ],
            "text/plain": [
              "                     test_img_path\n",
              "0  ./test/test/0/test-img-2372.jpg\n",
              "1  ./test/test/0/test-img-2618.jpg\n",
              "2  ./test/test/0/test-img-2205.jpg\n",
              "3  ./test/test/0/test-img-3488.jpg\n",
              "4  ./test/test/0/test-img-3079.jpg"
            ]
          },
          "metadata": {
            "tags": []
          },
          "execution_count": 18
        }
      ]
    },
    {
      "cell_type": "code",
      "metadata": {
        "id": "2lAt9wLhW-pD",
        "colab_type": "code",
        "outputId": "ec9b863b-aa04-4434-c968-5a09d66d2746",
        "colab": {
          "base_uri": "https://localhost:8080/",
          "height": 126
        }
      },
      "source": [
        "df['disease_class'].value_counts()"
      ],
      "execution_count": 0,
      "outputs": [
        {
          "output_type": "execute_result",
          "data": {
            "text/plain": [
              "cmd        2658\n",
              "cbsd       1443\n",
              "cgm         773\n",
              "cbb         466\n",
              "healthy     316\n",
              "Name: disease_class, dtype: int64"
            ]
          },
          "metadata": {
            "tags": []
          },
          "execution_count": 19
        }
      ]
    },
    {
      "cell_type": "code",
      "metadata": {
        "id": "SDBiKdwsYVT8",
        "colab_type": "code",
        "outputId": "615c132f-5b80-46fd-af46-66c6b5b7642d",
        "colab": {
          "base_uri": "https://localhost:8080/",
          "height": 198
        }
      },
      "source": [
        "df.head()"
      ],
      "execution_count": 0,
      "outputs": [
        {
          "output_type": "execute_result",
          "data": {
            "text/html": [
              "<div>\n",
              "<style scoped>\n",
              "    .dataframe tbody tr th:only-of-type {\n",
              "        vertical-align: middle;\n",
              "    }\n",
              "\n",
              "    .dataframe tbody tr th {\n",
              "        vertical-align: top;\n",
              "    }\n",
              "\n",
              "    .dataframe thead th {\n",
              "        text-align: right;\n",
              "    }\n",
              "</style>\n",
              "<table border=\"1\" class=\"dataframe\">\n",
              "  <thead>\n",
              "    <tr style=\"text-align: right;\">\n",
              "      <th></th>\n",
              "      <th>img_path</th>\n",
              "      <th>disease_class</th>\n",
              "    </tr>\n",
              "  </thead>\n",
              "  <tbody>\n",
              "    <tr>\n",
              "      <th>0</th>\n",
              "      <td>train/train/healthy/train-healthy-294.jpg</td>\n",
              "      <td>healthy</td>\n",
              "    </tr>\n",
              "    <tr>\n",
              "      <th>1</th>\n",
              "      <td>train/train/healthy/train-healthy-128.jpg</td>\n",
              "      <td>healthy</td>\n",
              "    </tr>\n",
              "    <tr>\n",
              "      <th>2</th>\n",
              "      <td>train/train/healthy/train-healthy-231.jpg</td>\n",
              "      <td>healthy</td>\n",
              "    </tr>\n",
              "    <tr>\n",
              "      <th>3</th>\n",
              "      <td>train/train/healthy/train-healthy-225.jpg</td>\n",
              "      <td>healthy</td>\n",
              "    </tr>\n",
              "    <tr>\n",
              "      <th>4</th>\n",
              "      <td>train/train/healthy/train-healthy-120.jpg</td>\n",
              "      <td>healthy</td>\n",
              "    </tr>\n",
              "  </tbody>\n",
              "</table>\n",
              "</div>"
            ],
            "text/plain": [
              "                                    img_path disease_class\n",
              "0  train/train/healthy/train-healthy-294.jpg       healthy\n",
              "1  train/train/healthy/train-healthy-128.jpg       healthy\n",
              "2  train/train/healthy/train-healthy-231.jpg       healthy\n",
              "3  train/train/healthy/train-healthy-225.jpg       healthy\n",
              "4  train/train/healthy/train-healthy-120.jpg       healthy"
            ]
          },
          "metadata": {
            "tags": []
          },
          "execution_count": 20
        }
      ]
    },
    {
      "cell_type": "code",
      "metadata": {
        "id": "XMvWPFeKW-sO",
        "colab_type": "code",
        "colab": {}
      },
      "source": [
        "def create_databunch(valid_idx):\n",
        "    transform_kwargs = {\"do_flip\": True,\n",
        "                    \"flip_vert\": True,\n",
        "                    \"max_rotate\": 180,\n",
        "                    \"max_zoom\": 1.1,\n",
        "                    \"max_lighting\": 0.2,\n",
        "                    \"max_warp\": 0.2,\n",
        "                    \"p_affine\": 0.75,\n",
        "                    \"p_lighting\": 0.7}\n",
        "    test = ImageList.from_df(test_df,path='.')\n",
        "    data = (ImageList.from_df(df, path='.')\n",
        "                .split_by_idx(valid_idx)\n",
        "                .label_from_df(cols='disease_class')\n",
        "                .add_test(test)\n",
        "                .transform(get_transforms(**transform_kwargs), size=256)\n",
        "                .databunch(path='.', bs=32)\n",
        "                .normalize(imagenet_stats)\n",
        "                )\n",
        "    return data"
      ],
      "execution_count": 0,
      "outputs": []
    },
    {
      "cell_type": "code",
      "metadata": {
        "id": "vcAs1edRwNeY",
        "colab_type": "code",
        "colab": {}
      },
      "source": [
        ""
      ],
      "execution_count": 0,
      "outputs": []
    },
    {
      "cell_type": "code",
      "metadata": {
        "id": "e818DjQgYCwV",
        "colab_type": "code",
        "outputId": "06d95a9d-040e-462f-ad58-97d280c848ec",
        "colab": {
          "base_uri": "https://localhost:8080/",
          "height": 1000
        }
      },
      "source": [
        "from sklearn.model_selection import KFold\n",
        "kf = KFold(n_splits=4,shuffle=True,random_state=123)\n",
        "acc_val=[]\n",
        "i = 0\n",
        "\n",
        "final_preds1=np.zeros((df.shape[0],df.shape[1]))\n",
        "for train_idx, valid_idx in kf.split(df):\n",
        "      print(\"Validation set:--->  \",i+1)\n",
        "      data = create_databunch(valid_idx)\n",
        "      learn = cnn_learner(data,models.resnet152, metrics=[error_rate,accuracy])\n",
        "      learn.load('resnet152_89_cross_all')\n",
        "      learn.fit_one_cycle(9, slice(1e-4,1e-2))\n",
        "      test_dl = learn.data.test_dl\n",
        "      preds= accuracy(*learn.TTA())\n",
        "      print('Prediction Completed in fold: {}  Accuracy:{}'.format(str(i),preds))\n",
        "      final_preds1+=preds.numpy()\n",
        "\n",
        "final_preds1 = final_preds1/4\n",
        "\n",
        "print(\"The validation accuracy is: \",np.mean(final_preds1))"
      ],
      "execution_count": 0,
      "outputs": [
        {
          "output_type": "stream",
          "text": [
            "Validation set:--->   1\n"
          ],
          "name": "stdout"
        },
        {
          "output_type": "display_data",
          "data": {
            "text/html": [
              "<table border=\"1\" class=\"dataframe\">\n",
              "  <thead>\n",
              "    <tr style=\"text-align: left;\">\n",
              "      <th>epoch</th>\n",
              "      <th>train_loss</th>\n",
              "      <th>valid_loss</th>\n",
              "      <th>error_rate</th>\n",
              "      <th>accuracy</th>\n",
              "      <th>time</th>\n",
              "    </tr>\n",
              "  </thead>\n",
              "  <tbody>\n",
              "    <tr>\n",
              "      <td>0</td>\n",
              "      <td>0.356512</td>\n",
              "      <td>0.195929</td>\n",
              "      <td>0.059406</td>\n",
              "      <td>0.940594</td>\n",
              "      <td>01:07</td>\n",
              "    </tr>\n",
              "    <tr>\n",
              "      <td>1</td>\n",
              "      <td>0.379130</td>\n",
              "      <td>0.276676</td>\n",
              "      <td>0.093352</td>\n",
              "      <td>0.906648</td>\n",
              "      <td>01:07</td>\n",
              "    </tr>\n",
              "    <tr>\n",
              "      <td>2</td>\n",
              "      <td>0.416373</td>\n",
              "      <td>0.423972</td>\n",
              "      <td>0.139321</td>\n",
              "      <td>0.860679</td>\n",
              "      <td>01:07</td>\n",
              "    </tr>\n",
              "    <tr>\n",
              "      <td>3</td>\n",
              "      <td>0.390237</td>\n",
              "      <td>0.317623</td>\n",
              "      <td>0.094059</td>\n",
              "      <td>0.905941</td>\n",
              "      <td>01:07</td>\n",
              "    </tr>\n",
              "    <tr>\n",
              "      <td>4</td>\n",
              "      <td>0.365929</td>\n",
              "      <td>0.371573</td>\n",
              "      <td>0.111740</td>\n",
              "      <td>0.888260</td>\n",
              "      <td>01:07</td>\n",
              "    </tr>\n",
              "    <tr>\n",
              "      <td>5</td>\n",
              "      <td>0.314019</td>\n",
              "      <td>0.313811</td>\n",
              "      <td>0.100424</td>\n",
              "      <td>0.899576</td>\n",
              "      <td>01:07</td>\n",
              "    </tr>\n",
              "    <tr>\n",
              "      <td>6</td>\n",
              "      <td>0.291696</td>\n",
              "      <td>0.301609</td>\n",
              "      <td>0.095474</td>\n",
              "      <td>0.904526</td>\n",
              "      <td>01:07</td>\n",
              "    </tr>\n",
              "    <tr>\n",
              "      <td>7</td>\n",
              "      <td>0.257521</td>\n",
              "      <td>0.286203</td>\n",
              "      <td>0.088402</td>\n",
              "      <td>0.911598</td>\n",
              "      <td>01:07</td>\n",
              "    </tr>\n",
              "    <tr>\n",
              "      <td>8</td>\n",
              "      <td>0.230446</td>\n",
              "      <td>0.286513</td>\n",
              "      <td>0.090523</td>\n",
              "      <td>0.909477</td>\n",
              "      <td>01:07</td>\n",
              "    </tr>\n",
              "  </tbody>\n",
              "</table>"
            ],
            "text/plain": [
              "<IPython.core.display.HTML object>"
            ]
          },
          "metadata": {
            "tags": []
          }
        },
        {
          "output_type": "display_data",
          "data": {
            "text/html": [
              ""
            ],
            "text/plain": [
              "<IPython.core.display.HTML object>"
            ]
          },
          "metadata": {
            "tags": []
          }
        },
        {
          "output_type": "display_data",
          "data": {
            "text/html": [
              ""
            ],
            "text/plain": [
              "<IPython.core.display.HTML object>"
            ]
          },
          "metadata": {
            "tags": []
          }
        },
        {
          "output_type": "stream",
          "text": [
            "Prediction Completed in fold: 0  Accuracy:0.9193776249885559\n",
            "Validation set:--->   1\n"
          ],
          "name": "stdout"
        },
        {
          "output_type": "display_data",
          "data": {
            "text/html": [
              "<table border=\"1\" class=\"dataframe\">\n",
              "  <thead>\n",
              "    <tr style=\"text-align: left;\">\n",
              "      <th>epoch</th>\n",
              "      <th>train_loss</th>\n",
              "      <th>valid_loss</th>\n",
              "      <th>error_rate</th>\n",
              "      <th>accuracy</th>\n",
              "      <th>time</th>\n",
              "    </tr>\n",
              "  </thead>\n",
              "  <tbody>\n",
              "    <tr>\n",
              "      <td>0</td>\n",
              "      <td>0.326530</td>\n",
              "      <td>0.171650</td>\n",
              "      <td>0.055870</td>\n",
              "      <td>0.944130</td>\n",
              "      <td>01:06</td>\n",
              "    </tr>\n",
              "    <tr>\n",
              "      <td>1</td>\n",
              "      <td>0.375008</td>\n",
              "      <td>0.230022</td>\n",
              "      <td>0.076379</td>\n",
              "      <td>0.923621</td>\n",
              "      <td>01:07</td>\n",
              "    </tr>\n",
              "    <tr>\n",
              "      <td>2</td>\n",
              "      <td>0.423207</td>\n",
              "      <td>0.315692</td>\n",
              "      <td>0.101132</td>\n",
              "      <td>0.898868</td>\n",
              "      <td>01:06</td>\n",
              "    </tr>\n",
              "    <tr>\n",
              "      <td>3</td>\n",
              "      <td>0.401047</td>\n",
              "      <td>0.366853</td>\n",
              "      <td>0.127298</td>\n",
              "      <td>0.872702</td>\n",
              "      <td>01:06</td>\n",
              "    </tr>\n",
              "    <tr>\n",
              "      <td>4</td>\n",
              "      <td>0.336933</td>\n",
              "      <td>0.307049</td>\n",
              "      <td>0.095474</td>\n",
              "      <td>0.904526</td>\n",
              "      <td>01:06</td>\n",
              "    </tr>\n",
              "    <tr>\n",
              "      <td>5</td>\n",
              "      <td>0.323307</td>\n",
              "      <td>0.301422</td>\n",
              "      <td>0.101132</td>\n",
              "      <td>0.898868</td>\n",
              "      <td>01:06</td>\n",
              "    </tr>\n",
              "    <tr>\n",
              "      <td>6</td>\n",
              "      <td>0.271701</td>\n",
              "      <td>0.300438</td>\n",
              "      <td>0.091231</td>\n",
              "      <td>0.908769</td>\n",
              "      <td>01:06</td>\n",
              "    </tr>\n",
              "    <tr>\n",
              "      <td>7</td>\n",
              "      <td>0.257074</td>\n",
              "      <td>0.278040</td>\n",
              "      <td>0.088402</td>\n",
              "      <td>0.911598</td>\n",
              "      <td>01:06</td>\n",
              "    </tr>\n",
              "    <tr>\n",
              "      <td>8</td>\n",
              "      <td>0.239602</td>\n",
              "      <td>0.276561</td>\n",
              "      <td>0.086280</td>\n",
              "      <td>0.913720</td>\n",
              "      <td>01:07</td>\n",
              "    </tr>\n",
              "  </tbody>\n",
              "</table>"
            ],
            "text/plain": [
              "<IPython.core.display.HTML object>"
            ]
          },
          "metadata": {
            "tags": []
          }
        },
        {
          "output_type": "display_data",
          "data": {
            "text/html": [
              ""
            ],
            "text/plain": [
              "<IPython.core.display.HTML object>"
            ]
          },
          "metadata": {
            "tags": []
          }
        },
        {
          "output_type": "display_data",
          "data": {
            "text/html": [
              ""
            ],
            "text/plain": [
              "<IPython.core.display.HTML object>"
            ]
          },
          "metadata": {
            "tags": []
          }
        },
        {
          "output_type": "stream",
          "text": [
            "Prediction Completed in fold: 0  Accuracy:0.9179632067680359\n",
            "Validation set:--->   1\n"
          ],
          "name": "stdout"
        },
        {
          "output_type": "display_data",
          "data": {
            "text/html": [
              "<table border=\"1\" class=\"dataframe\">\n",
              "  <thead>\n",
              "    <tr style=\"text-align: left;\">\n",
              "      <th>epoch</th>\n",
              "      <th>train_loss</th>\n",
              "      <th>valid_loss</th>\n",
              "      <th>error_rate</th>\n",
              "      <th>accuracy</th>\n",
              "      <th>time</th>\n",
              "    </tr>\n",
              "  </thead>\n",
              "  <tbody>\n",
              "    <tr>\n",
              "      <td>0</td>\n",
              "      <td>0.317859</td>\n",
              "      <td>0.199990</td>\n",
              "      <td>0.074965</td>\n",
              "      <td>0.925035</td>\n",
              "      <td>01:07</td>\n",
              "    </tr>\n",
              "    <tr>\n",
              "      <td>1</td>\n",
              "      <td>0.365849</td>\n",
              "      <td>0.288577</td>\n",
              "      <td>0.094767</td>\n",
              "      <td>0.905233</td>\n",
              "      <td>01:06</td>\n",
              "    </tr>\n",
              "    <tr>\n",
              "      <td>2</td>\n",
              "      <td>0.408640</td>\n",
              "      <td>0.333806</td>\n",
              "      <td>0.112447</td>\n",
              "      <td>0.887553</td>\n",
              "      <td>01:06</td>\n",
              "    </tr>\n",
              "    <tr>\n",
              "      <td>3</td>\n",
              "      <td>0.395923</td>\n",
              "      <td>0.333274</td>\n",
              "      <td>0.104668</td>\n",
              "      <td>0.895332</td>\n",
              "      <td>01:07</td>\n",
              "    </tr>\n",
              "    <tr>\n",
              "      <td>4</td>\n",
              "      <td>0.394630</td>\n",
              "      <td>0.319508</td>\n",
              "      <td>0.103253</td>\n",
              "      <td>0.896747</td>\n",
              "      <td>01:06</td>\n",
              "    </tr>\n",
              "    <tr>\n",
              "      <td>5</td>\n",
              "      <td>0.313580</td>\n",
              "      <td>0.322122</td>\n",
              "      <td>0.103253</td>\n",
              "      <td>0.896747</td>\n",
              "      <td>01:07</td>\n",
              "    </tr>\n",
              "    <tr>\n",
              "      <td>6</td>\n",
              "      <td>0.285999</td>\n",
              "      <td>0.320107</td>\n",
              "      <td>0.100424</td>\n",
              "      <td>0.899576</td>\n",
              "      <td>01:07</td>\n",
              "    </tr>\n",
              "    <tr>\n",
              "      <td>7</td>\n",
              "      <td>0.270729</td>\n",
              "      <td>0.289058</td>\n",
              "      <td>0.091938</td>\n",
              "      <td>0.908062</td>\n",
              "      <td>01:07</td>\n",
              "    </tr>\n",
              "    <tr>\n",
              "      <td>8</td>\n",
              "      <td>0.236475</td>\n",
              "      <td>0.287662</td>\n",
              "      <td>0.094059</td>\n",
              "      <td>0.905941</td>\n",
              "      <td>01:06</td>\n",
              "    </tr>\n",
              "  </tbody>\n",
              "</table>"
            ],
            "text/plain": [
              "<IPython.core.display.HTML object>"
            ]
          },
          "metadata": {
            "tags": []
          }
        },
        {
          "output_type": "display_data",
          "data": {
            "text/html": [
              ""
            ],
            "text/plain": [
              "<IPython.core.display.HTML object>"
            ]
          },
          "metadata": {
            "tags": []
          }
        },
        {
          "output_type": "display_data",
          "data": {
            "text/html": [
              ""
            ],
            "text/plain": [
              "<IPython.core.display.HTML object>"
            ]
          },
          "metadata": {
            "tags": []
          }
        },
        {
          "output_type": "stream",
          "text": [
            "Prediction Completed in fold: 0  Accuracy:0.909476637840271\n",
            "Validation set:--->   1\n"
          ],
          "name": "stdout"
        },
        {
          "output_type": "display_data",
          "data": {
            "text/html": [
              "<table border=\"1\" class=\"dataframe\">\n",
              "  <thead>\n",
              "    <tr style=\"text-align: left;\">\n",
              "      <th>epoch</th>\n",
              "      <th>train_loss</th>\n",
              "      <th>valid_loss</th>\n",
              "      <th>error_rate</th>\n",
              "      <th>accuracy</th>\n",
              "      <th>time</th>\n",
              "    </tr>\n",
              "  </thead>\n",
              "  <tbody>\n",
              "    <tr>\n",
              "      <td>0</td>\n",
              "      <td>0.244626</td>\n",
              "      <td>0.371011</td>\n",
              "      <td>0.110325</td>\n",
              "      <td>0.889675</td>\n",
              "      <td>01:07</td>\n",
              "    </tr>\n",
              "    <tr>\n",
              "      <td>1</td>\n",
              "      <td>0.325691</td>\n",
              "      <td>0.522259</td>\n",
              "      <td>0.154173</td>\n",
              "      <td>0.845827</td>\n",
              "      <td>01:07</td>\n",
              "    </tr>\n",
              "    <tr>\n",
              "      <td>2</td>\n",
              "      <td>0.366985</td>\n",
              "      <td>0.517574</td>\n",
              "      <td>0.146393</td>\n",
              "      <td>0.853607</td>\n",
              "      <td>01:07</td>\n",
              "    </tr>\n",
              "    <tr>\n",
              "      <td>3</td>\n",
              "      <td>0.398165</td>\n",
              "      <td>0.460404</td>\n",
              "      <td>0.136492</td>\n",
              "      <td>0.863508</td>\n",
              "      <td>01:07</td>\n",
              "    </tr>\n",
              "    <tr>\n",
              "      <td>4</td>\n",
              "      <td>0.327180</td>\n",
              "      <td>0.453533</td>\n",
              "      <td>0.137907</td>\n",
              "      <td>0.862093</td>\n",
              "      <td>01:07</td>\n",
              "    </tr>\n",
              "    <tr>\n",
              "      <td>5</td>\n",
              "      <td>0.307096</td>\n",
              "      <td>0.412243</td>\n",
              "      <td>0.126591</td>\n",
              "      <td>0.873409</td>\n",
              "      <td>01:07</td>\n",
              "    </tr>\n",
              "    <tr>\n",
              "      <td>6</td>\n",
              "      <td>0.269445</td>\n",
              "      <td>0.492939</td>\n",
              "      <td>0.120934</td>\n",
              "      <td>0.879066</td>\n",
              "      <td>01:07</td>\n",
              "    </tr>\n",
              "    <tr>\n",
              "      <td>7</td>\n",
              "      <td>0.245376</td>\n",
              "      <td>0.411478</td>\n",
              "      <td>0.120226</td>\n",
              "      <td>0.879774</td>\n",
              "      <td>01:06</td>\n",
              "    </tr>\n",
              "    <tr>\n",
              "      <td>8</td>\n",
              "      <td>0.207456</td>\n",
              "      <td>0.422047</td>\n",
              "      <td>0.121641</td>\n",
              "      <td>0.878359</td>\n",
              "      <td>01:07</td>\n",
              "    </tr>\n",
              "  </tbody>\n",
              "</table>"
            ],
            "text/plain": [
              "<IPython.core.display.HTML object>"
            ]
          },
          "metadata": {
            "tags": []
          }
        },
        {
          "output_type": "display_data",
          "data": {
            "text/html": [
              ""
            ],
            "text/plain": [
              "<IPython.core.display.HTML object>"
            ]
          },
          "metadata": {
            "tags": []
          }
        },
        {
          "output_type": "display_data",
          "data": {
            "text/html": [
              ""
            ],
            "text/plain": [
              "<IPython.core.display.HTML object>"
            ]
          },
          "metadata": {
            "tags": []
          }
        },
        {
          "output_type": "stream",
          "text": [
            "Prediction Completed in fold: 0  Accuracy:0.8875530362129211\n",
            "The validation accuracy is:  0.908592626452446\n"
          ],
          "name": "stdout"
        }
      ]
    },
    {
      "cell_type": "code",
      "metadata": {
        "id": "HfJLcEZWYCzY",
        "colab_type": "code",
        "outputId": "45448d61-8856-4035-d6b0-22e7070b6acb",
        "colab": {
          "base_uri": "https://localhost:8080/",
          "height": 35
        }
      },
      "source": [
        "learn.save(\"resnet152_89_cross_all_90\", return_path=True)"
      ],
      "execution_count": 0,
      "outputs": [
        {
          "output_type": "execute_result",
          "data": {
            "text/plain": [
              "PosixPath('models/resnet152_89_cross_all_90.pth')"
            ]
          },
          "metadata": {
            "tags": []
          },
          "execution_count": 30
        }
      ]
    },
    {
      "cell_type": "code",
      "metadata": {
        "id": "PBfTKo5RVntN",
        "colab_type": "code",
        "colab": {}
      },
      "source": [
        "#Prediction of the Test Set\n",
        "preds_test, y_test = learn.get_preds(DatasetType.Test)"
      ],
      "execution_count": 0,
      "outputs": []
    },
    {
      "cell_type": "code",
      "metadata": {
        "id": "wMhFOQi7Vnou",
        "colab_type": "code",
        "colab": {}
      },
      "source": [
        "submission = pd.DataFrame({'ID': [s.split('.')[0] for s in os.listdir('test/test/0/') ]})\n",
        "for i, c in enumerate(learn.data.classes):\n",
        "  submission[c] = preds_test[:,i]\n",
        "submission = submission[['Category']] # Get same order as sample sub\n",
        "submission.head()"
      ],
      "execution_count": 0,
      "outputs": []
    },
    {
      "cell_type": "code",
      "metadata": {
        "id": "vDhMwnRcntNf",
        "colab_type": "code",
        "colab": {}
      },
      "source": [
        "submission.to_csv('/content/drive/My Drive/ICLR/submission.csv', index = False)"
      ],
      "execution_count": 0,
      "outputs": []
    }
  ]
}