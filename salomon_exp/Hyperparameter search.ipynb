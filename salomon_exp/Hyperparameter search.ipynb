{
 "cells": [
  {
   "cell_type": "code",
   "execution_count": 1,
   "metadata": {
    "_cell_guid": "b1076dfc-b9ad-4769-8c92-a6c4dae69d19",
    "_uuid": "8f2839f25d086af736a60e9eeb907d3b93b6e0e5"
   },
   "outputs": [
    {
     "name": "stdout",
     "output_type": "stream",
     "text": [
      "Requirement already satisfied: pretrainedmodels in /usr/local/lib/python3.6/dist-packages (0.7.4)\n",
      "Requirement already satisfied: torch in /usr/local/lib/python3.6/dist-packages (from pretrainedmodels) (1.5.0+cu101)\n",
      "Requirement already satisfied: torchvision in /usr/local/lib/python3.6/dist-packages (from pretrainedmodels) (0.6.0+cu101)\n",
      "Requirement already satisfied: munch in /usr/local/lib/python3.6/dist-packages (from pretrainedmodels) (2.5.0)\n",
      "Requirement already satisfied: tqdm in /usr/local/lib/python3.6/dist-packages (from pretrainedmodels) (4.38.0)\n",
      "Requirement already satisfied: future in /usr/local/lib/python3.6/dist-packages (from torch->pretrainedmodels) (0.16.0)\n",
      "Requirement already satisfied: numpy in /usr/local/lib/python3.6/dist-packages (from torch->pretrainedmodels) (1.18.3)\n",
      "Requirement already satisfied: pillow>=4.1.1 in /usr/local/lib/python3.6/dist-packages (from torchvision->pretrainedmodels) (7.0.0)\n",
      "Requirement already satisfied: six in /usr/local/lib/python3.6/dist-packages (from munch->pretrainedmodels) (1.12.0)\n",
      "Collecting optuna\n",
      "\u001b[?25l  Downloading https://files.pythonhosted.org/packages/85/ee/2688cce5ced0597e12832d1ec4f4383a468f6bddff768eeaa3b5bf4f6500/optuna-1.3.0.tar.gz (163kB)\n",
      "\u001b[K     |████████████████████████████████| 163kB 3.3MB/s eta 0:00:01\n",
      "\u001b[?25hCollecting alembic\n",
      "\u001b[?25l  Downloading https://files.pythonhosted.org/packages/60/1e/cabc75a189de0fbb2841d0975243e59bde8b7822bacbb95008ac6fe9ad47/alembic-1.4.2.tar.gz (1.1MB)\n",
      "\u001b[K     |████████████████████████████████| 1.1MB 55.2MB/s eta 0:00:01\n",
      "\u001b[?25h  Installing build dependencies ... \u001b[?25l\u001b[?25hdone\n",
      "  Getting requirements to build wheel ... \u001b[?25l\u001b[?25hdone\n",
      "    Preparing wheel metadata ... \u001b[?25l\u001b[?25hdone\n",
      "Collecting cliff\n",
      "\u001b[?25l  Downloading https://files.pythonhosted.org/packages/b9/17/57187872842bf9f65815b6969b515528ec7fd754137d2d3f49e3bc016175/cliff-3.1.0-py3-none-any.whl (80kB)\n",
      "\u001b[K     |████████████████████████████████| 81kB 12.5MB/s eta 0:00:01\n",
      "\u001b[?25hCollecting cmaes\n",
      "  Downloading https://files.pythonhosted.org/packages/03/de/6ed34ebc0e5c34ed371d898540bca36edb4afe5bb2ca382483054e573c75/cmaes-0.5.0-py3-none-any.whl\n",
      "Collecting colorlog\n",
      "  Downloading https://files.pythonhosted.org/packages/00/0d/22c73c2eccb21dd3498df7d22c0b1d4a30f5a5fb3feb64e1ce06bc247747/colorlog-4.1.0-py2.py3-none-any.whl\n",
      "Requirement already satisfied: joblib in /usr/local/lib/python3.6/dist-packages (from optuna) (0.14.1)\n",
      "Requirement already satisfied: numpy in /usr/local/lib/python3.6/dist-packages (from optuna) (1.18.3)\n",
      "Requirement already satisfied: scipy!=1.4.0 in /usr/local/lib/python3.6/dist-packages (from optuna) (1.4.1)\n",
      "Requirement already satisfied: sqlalchemy>=1.1.0 in /usr/local/lib/python3.6/dist-packages (from optuna) (1.3.16)\n",
      "Requirement already satisfied: tqdm in /usr/local/lib/python3.6/dist-packages (from optuna) (4.38.0)\n",
      "Collecting python-editor>=0.3\n",
      "  Downloading https://files.pythonhosted.org/packages/c6/d3/201fc3abe391bbae6606e6f1d598c15d367033332bd54352b12f35513717/python_editor-1.0.4-py3-none-any.whl\n",
      "Collecting Mako\n",
      "\u001b[?25l  Downloading https://files.pythonhosted.org/packages/50/78/f6ade1e18aebda570eed33b7c534378d9659351cadce2fcbc7b31be5f615/Mako-1.1.2-py2.py3-none-any.whl (75kB)\n",
      "\u001b[K     |████████████████████████████████| 81kB 7.6MB/s  eta 0:00:01\n",
      "\u001b[?25hRequirement already satisfied: python-dateutil in /usr/local/lib/python3.6/dist-packages (from alembic->optuna) (2.8.1)\n",
      "Requirement already satisfied: six>=1.10.0 in /usr/local/lib/python3.6/dist-packages (from cliff->optuna) (1.12.0)\n",
      "Requirement already satisfied: PyYAML>=3.12 in /usr/local/lib/python3.6/dist-packages (from cliff->optuna) (3.13)\n",
      "Collecting pbr!=2.1.0,>=2.0.0\n",
      "\u001b[?25l  Downloading https://files.pythonhosted.org/packages/96/ba/aa953a11ec014b23df057ecdbc922fdb40ca8463466b1193f3367d2711a6/pbr-5.4.5-py2.py3-none-any.whl (110kB)\n",
      "\u001b[K     |████████████████████████████████| 112kB 54.5MB/s eta 0:00:01\n",
      "\u001b[?25hCollecting cmd2!=0.8.3,<0.9.0,>=0.8.0\n",
      "\u001b[?25l  Downloading https://files.pythonhosted.org/packages/e9/40/a71caa2aaff10c73612a7106e2d35f693e85b8cf6e37ab0774274bca3cf9/cmd2-0.8.9-py2.py3-none-any.whl (53kB)\n",
      "\u001b[K     |████████████████████████████████| 61kB 8.5MB/s  eta 0:00:01\n",
      "\u001b[?25hRequirement already satisfied: PrettyTable<0.8,>=0.7.2 in /usr/local/lib/python3.6/dist-packages (from cliff->optuna) (0.7.2)\n",
      "Collecting stevedore>=1.20.0\n",
      "\u001b[?25l  Downloading https://files.pythonhosted.org/packages/e6/49/a35dd566626892d577e426dbe5ea424dd7fbe10645f2c1070dcba474eca9/stevedore-1.32.0-py2.py3-none-any.whl (43kB)\n",
      "\u001b[K     |████████████████████████████████| 51kB 7.7MB/s  eta 0:00:01\n",
      "\u001b[?25hRequirement already satisfied: pyparsing>=2.1.0 in /usr/local/lib/python3.6/dist-packages (from cliff->optuna) (2.4.7)\n",
      "Requirement already satisfied: MarkupSafe>=0.9.2 in /usr/local/lib/python3.6/dist-packages (from Mako->alembic->optuna) (1.1.1)\n",
      "Requirement already satisfied: wcwidth; sys_platform != \"win32\" in /usr/local/lib/python3.6/dist-packages (from cmd2!=0.8.3,<0.9.0,>=0.8.0->cliff->optuna) (0.1.9)\n",
      "Collecting pyperclip\n",
      "  Downloading https://files.pythonhosted.org/packages/f6/5b/55866e1cde0f86f5eec59dab5de8a66628cb0d53da74b8dbc15ad8dabda3/pyperclip-1.8.0.tar.gz\n",
      "Building wheels for collected packages: alembic\n",
      "  Building wheel for alembic (PEP 517) ... \u001b[?25l\u001b[?25hdone\n",
      "  Created wheel for alembic: filename=alembic-1.4.2-cp36-none-any.whl size=159543 sha256=f84d2727b1665d186e34b9d7961706324b3a2e61b5a3517f778f679041d1fbfb\n",
      "  Stored in directory: /root/.cache/pip/wheels/1f/04/83/76023f7a4c14688c0b5c2682a96392cfdd3ee4449eaaa287ef\n",
      "Successfully built alembic\n",
      "Building wheels for collected packages: optuna, pyperclip\n",
      "  Building wheel for optuna (setup.py) ... \u001b[?25l\u001b[?25hdone\n",
      "  Created wheel for optuna: filename=optuna-1.3.0-cp36-none-any.whl size=221121 sha256=bf7740fc87d1626b7697a6d2337df2dffb8153053e2ef96cbdf844d9587a5382\n",
      "  Stored in directory: /root/.cache/pip/wheels/62/fd/dd/71cfd4cee14164152b952f477a16dac42ba413cfb1981585e4\n",
      "  Building wheel for pyperclip (setup.py) ... \u001b[?25l\u001b[?25hdone\n",
      "  Created wheel for pyperclip: filename=pyperclip-1.8.0-cp36-none-any.whl size=8693 sha256=36c15772eead4617762881d83e21f19fedc1ed78dfea8e2a9c228be799cb1d20\n",
      "  Stored in directory: /root/.cache/pip/wheels/b2/ac/0a/b784f0afe26eaf52e88a7e15c7369090deea0354fa1c6fc689\n",
      "Successfully built optuna pyperclip\n",
      "Installing collected packages: python-editor, Mako, alembic, pbr, pyperclip, cmd2, stevedore, cliff, cmaes, colorlog, optuna\n",
      "Successfully installed Mako-1.1.2 alembic-1.4.2 cliff-3.1.0 cmaes-0.5.0 cmd2-0.8.9 colorlog-4.1.0 optuna-1.3.0 pbr-5.4.5 pyperclip-1.8.0 python-editor-1.0.4 stevedore-1.32.0\n"
     ]
    }
   ],
   "source": [
    "!pip install pretrainedmodels\n",
    "!pip install optuna"
   ]
  },
  {
   "cell_type": "code",
   "execution_count": 2,
   "metadata": {
    "_cell_guid": "79c7e3d0-c299-4dcb-8224-4455121ee9b0",
    "_uuid": "d629ff2d2480ee46fbb7e2d37f6b5fab8052498a"
   },
   "outputs": [
    {
     "name": "stdout",
     "output_type": "stream",
     "text": [
      "PyTorch Version:  1.5.0+cu101\n",
      "Torchvision Version:  0.6.0+cu101\n"
     ]
    }
   ],
   "source": [
    "from __future__ import print_function\n",
    "from __future__ import division\n",
    "import torch\n",
    "import torch.nn as nn\n",
    "import torch.optim as optim\n",
    "import numpy as np\n",
    "import torchvision\n",
    "from torchvision import datasets, models, transforms\n",
    "import matplotlib.pyplot as plt\n",
    "\n",
    "import torch.nn.functional as F\n",
    "import time\n",
    "import os\n",
    "import copy\n",
    "print(\"PyTorch Version: \",torch.__version__)\n",
    "print(\"Torchvision Version: \",torchvision.__version__)\n",
    "import pretrainedmodels\n",
    "import os\n",
    "from torch.utils.data import Dataset\n",
    "import glob\n",
    "import matplotlib.pyplot as plt\n",
    "from mpl_toolkits.axes_grid1 import ImageGrid\n",
    "import time\n",
    "import numpy as np\n",
    "import pandas as pd\n",
    "import os\n",
    "import datetime as dt\n",
    "from os import listdir, makedirs, getcwd, remove\n",
    "from os.path import isfile, join, abspath, exists, isdir, expanduser\n",
    "from PIL import Image\n",
    "import torch\n",
    "from torch.optim import lr_scheduler\n",
    "from torch.autograd import Variable\n",
    "from torch.utils.data import Dataset, DataLoader\n",
    "import torchvision\n",
    "from torchvision import transforms, datasets, models\n",
    "\n",
    "\n",
    "\n",
    "%matplotlib inline"
   ]
  },
  {
   "cell_type": "code",
   "execution_count": 3,
   "metadata": {},
   "outputs": [],
   "source": [
    "data_path = \"./data/train/train\"\n",
    "test_path = \"./data/test/test\"\n",
    "extraimage_path = \"./data/extraimages/extraimages\""
   ]
  },
  {
   "cell_type": "code",
   "execution_count": 4,
   "metadata": {},
   "outputs": [
    {
     "name": "stdout",
     "output_type": "stream",
     "text": [
      "Train set:\n",
      "cmd:2658\n",
      "healthy:316\n",
      "cgm:773\n",
      "cbb:466\n",
      "cbsd:1443\n",
      "(500, 500)\n"
     ]
    },
    {
     "data": {
      "text/plain": [
       "{'cbb': 466, 'cbsd': 1443, 'cgm': 773, 'cmd': 2658, 'healthy': 316}"
      ]
     },
     "execution_count": 4,
     "metadata": {},
     "output_type": "execute_result"
    }
   ],
   "source": [
    "print('Train set:')\n",
    "class_distrbution = {}\n",
    "for cls in os.listdir(data_path):\n",
    "    print('{}:{}'.format(cls, len(os.listdir(os.path.join(data_path, cls)))))\n",
    "    class_distrbution[cls] =  len(os.listdir(os.path.join(data_path, cls)))\n",
    "im = Image.open(data_path+'/cgm/train-cgm-738.jpg')\n",
    "print(im.size)\n",
    "class_distrbution"
   ]
  },
  {
   "cell_type": "code",
   "execution_count": 5,
   "metadata": {},
   "outputs": [],
   "source": [
    "# Transformations for both the training and testing data\n",
    "mean=[0.4543, 0.5137, 0.3240]\n",
    "std=[0.1949, 0.1977, 0.1661]\n",
    "\n",
    "\n",
    "train_transforms = transforms.Compose([transforms.RandomRotation(30),\n",
    "                                       transforms.RandomResizedCrop(224), #448, 299, 224, 331\n",
    "                                       transforms.RandomHorizontalFlip(),\n",
    "                                       transforms.ToTensor(),\n",
    "                                      transforms.Normalize(mean=mean,std=std)])\n",
    "\n",
    "test_transforms = transforms.Compose([ transforms.Resize(224),\n",
    "                                       transforms.CenterCrop(224),\n",
    "                                       transforms.ToTensor(),\n",
    "                                      transforms.Normalize(mean=mean,std=std)])\n",
    "\n",
    "# normalize = transforms.Normalize(mean=mean, std=std)"
   ]
  },
  {
   "cell_type": "code",
   "execution_count": 6,
   "metadata": {},
   "outputs": [],
   "source": [
    "class CassavaDataset(Dataset):\n",
    "    def __init__(self, path, transform=None):\n",
    "        self.classes = os.listdir(path)\n",
    "        self.path = [f\"{path}/{className}\" for className in self.classes]\n",
    "        self.file_list = [glob.glob(f\"{x}/*\") for x in self.path]\n",
    "        self.transform = transform\n",
    "\n",
    "        files = []\n",
    "        class_names = {}\n",
    "        for i, className in enumerate(self.classes):\n",
    "            for fileName in self.file_list[i]:\n",
    "                files.append([i, className, fileName])\n",
    "\n",
    "                name = str(i)+'-'+className\n",
    "                if name not in class_names:\n",
    "                    class_names[name] = 1\n",
    "                else:\n",
    "                    class_names[name] += 1\n",
    "        self.file_list = files\n",
    "#         print(class_names)\n",
    "        files = None\n",
    "\n",
    "    def __len__(self):\n",
    "        return len(self.file_list)\n",
    "\n",
    "    def __getitem__(self, idx):\n",
    "        fileName = self.file_list[idx][2]\n",
    "        classCategory = self.file_list[idx][0]\n",
    "        im = Image.open(fileName)\n",
    "        if self.transform:\n",
    "            im = self.transform(im)\n",
    "        \n",
    "# #         return im.view(3, 448, 448), classCategory\n",
    "        return im.view(3, 224, 224), classCategory\n",
    "# #         return im.view(3, 299, 299), classCategory\n",
    "#         return im.view(3, 331, 331), classCategory   # NASNetLarge 331x331"
   ]
  },
  {
   "cell_type": "code",
   "execution_count": 7,
   "metadata": {},
   "outputs": [],
   "source": [
    "train_data = CassavaDataset(data_path, transform=train_transforms)\n",
    "\n",
    "test_data = CassavaDataset(test_path, transform=test_transforms)\n",
    "\n",
    "extraimage_data = CassavaDataset(extraimage_path, transform=train_transforms) #maybe need an other trasforms, I had to change the dataset structure :)"
   ]
  },
  {
   "cell_type": "code",
   "execution_count": 8,
   "metadata": {},
   "outputs": [],
   "source": [
    "from torch.utils.data.sampler import SubsetRandomSampler\n",
    "\n",
    "validation_split = 0.2\n",
    "shuffle_dataset = True\n",
    "random_seed= 42 #42\n",
    "\n",
    "# Creating data indices for training and validation splits:\n",
    "dataset_size = len(train_data)\n",
    "indices = list(range(dataset_size))\n",
    "split = int(np.floor(validation_split * dataset_size))\n",
    "\n",
    "if shuffle_dataset :\n",
    "    np.random.seed(random_seed)\n",
    "    np.random.shuffle(indices)\n",
    "\n",
    "train_indices, val_indices = indices[split:], indices[:split]"
   ]
  },
  {
   "cell_type": "code",
   "execution_count": 9,
   "metadata": {},
   "outputs": [],
   "source": [
    "# Creating PT data samplers and loaders:\n",
    "train_sampler = SubsetRandomSampler(train_indices)\n",
    "valid_sampler = SubsetRandomSampler(val_indices)\n",
    "\n",
    "batch_size = 64 #16\n",
    "\n",
    "train_loader = torch.utils.data.DataLoader(train_data, batch_size=batch_size,\n",
    "                                             sampler=train_sampler)\n",
    "valid_loader = torch.utils.data.DataLoader(train_data, batch_size=batch_size,\n",
    "                                             sampler=valid_sampler)\n",
    "\n",
    "# unlabeled_loader = torch.utils.data.DataLoader(extraimage_data, batch_size=batch_size) # to make batch_size work, I had to moove all the unlabeled data in a 0 folder\n",
    "\n",
    "# test_loader = torch.utils.data.DataLoader(test_data, batch_size=1) # make batch = 1 here "
   ]
  },
  {
   "cell_type": "code",
   "execution_count": null,
   "metadata": {},
   "outputs": [],
   "source": []
  },
  {
   "cell_type": "code",
   "execution_count": 10,
   "metadata": {},
   "outputs": [],
   "source": [
    "inv_normalize = transforms.Normalize(\n",
    "   mean= [-m/s for m, s in zip(mean, std)],\n",
    "   std=[1/s for s in std]\n",
    ")\n",
    "\n",
    "def matplotlib_imshow(img, one_channel=False):\n",
    "    if one_channel:\n",
    "        img = img.mean(dim=0)\n",
    "    img = inv_normalize(img)# / 2 + 0.5     # unnormalize\n",
    "    npimg = img.cpu().numpy()\n",
    "    if one_channel:\n",
    "        plt.imshow(npimg, cmap=\"Greys\")\n",
    "    else:\n",
    "        plt.figure(figsize=(20,20))\n",
    "        plt.imshow(np.transpose(npimg, (1, 2, 0)))"
   ]
  },
  {
   "cell_type": "code",
   "execution_count": 11,
   "metadata": {},
   "outputs": [],
   "source": [
    "# dataiter = iter(unlabeled_loader)\n",
    "# images, labels = dataiter.next()\n",
    "\n",
    "# print(labels)\n",
    "# img_grid = torchvision.utils.make_grid(images)\n",
    "\n",
    "# matplotlib_imshow(img_grid, one_channel=False)"
   ]
  },
  {
   "cell_type": "code",
   "execution_count": 12,
   "metadata": {},
   "outputs": [],
   "source": [
    "\n",
    "class Additional(nn.Module):\n",
    "    def __init__(self, modelA,in_features,nb_classes=5,drop=0.1):\n",
    "        super(Additional, self).__init__()\n",
    "        self.modelA = modelA\n",
    "        # Remove last linear layer\n",
    "        self.modelA.last_linear = nn.Identity()\n",
    "        \n",
    "        for p in self.modelA.parameters():\n",
    "            p.requires_grad = False\n",
    "        \n",
    "        # Create new classifier\n",
    "        self.fc_1 = nn.Linear(in_features,1024)\n",
    "        self.fc_2 = nn.Linear(1024,  512)\n",
    "        self.fc_out = nn.Linear( 512, nb_classes)\n",
    "        \n",
    "        #Dropout\n",
    "        self.dropout = nn.Dropout(p=0.2)\n",
    "        \n",
    "    def forward(self, x):\n",
    "        #model\n",
    "        x = self.modelA(x)  \n",
    "        x = x.view(x.size(0), -1)\n",
    "        \n",
    "        #FC\n",
    "        x  = self.dropout(F.relu(self.fc_1(x)))\n",
    "        x = self.dropout(F.relu(self.fc_2(x)))\n",
    "        x = self.fc_out(x)\n",
    "        \n",
    "        return x\n",
    "\n",
    "class Additional_(nn.Module):\n",
    "    def __init__(self, modelA,in_features,nb_classes=5, freeze = False):\n",
    "        super(Additional, self).__init__()\n",
    "        self.modelA = modelA\n",
    "        # Remove last linear layer\n",
    "#         self.modelA.fc = nn.Identity() # for resnet\n",
    "        self.modelA.last_linear = nn.Identity() #for re_renext\n",
    "#         self.modelA.classifier = nn.Identity()    # densenet201\n",
    "        for p in self.modelA.parameters():\n",
    "            if freeze:\n",
    "                p.requires_grad = False\n",
    "            else :\n",
    "                p.requires_grad = True\n",
    "        \n",
    "        # Create new classifier\n",
    "        self.fc_1 = nn.Linear(in_features,256)\n",
    "        self.fc_2 = nn.Linear(256,  512)\n",
    "        self.fc_out = nn.Linear( 512, nb_classes)\n",
    "        \n",
    "        #Dropout\n",
    "        self.dropout = nn.Dropout(p=0.1)\n",
    "        \n",
    "    def forward(self, x):\n",
    "        #model\n",
    "        x = self.modelA(x.clone())  \n",
    "        x = x.view(x.size(0), -1)\n",
    "        \n",
    "        #FC\n",
    "        x  = self.dropout(self.fc_1(F.relu(x)))\n",
    "        x = self.dropout(self.fc_2(F.relu(x)))\n",
    "        x = self.fc_out(F.relu(x))\n",
    "        \n",
    "        return x"
   ]
  },
  {
   "cell_type": "code",
   "execution_count": 13,
   "metadata": {},
   "outputs": [],
   "source": [
    "# this function is used during training process, to calculation the loss and accuracy\n",
    "class AverageMeter(object):\n",
    "    def __init__(self):\n",
    "        self.reset()\n",
    "\n",
    "    def reset(self):\n",
    "        self.val = 0\n",
    "        self.avg = 0\n",
    "        self.sum = 0\n",
    "        self.count = 0\n",
    "\n",
    "    def update(self, val, n=1):\n",
    "        self.val = val\n",
    "        self.sum += val * n\n",
    "        self.count += n\n",
    "        self.avg = self.sum / self.count"
   ]
  },
  {
   "cell_type": "code",
   "execution_count": 14,
   "metadata": {},
   "outputs": [],
   "source": [
    "total_loss_train, total_acc_train = [],[]\n",
    "def train(train_loader, model, criterion, optimizer, epoch,device):\n",
    "    model.train()\n",
    "    train_loss = AverageMeter()\n",
    "    train_acc = AverageMeter()\n",
    "    curr_iter = (epoch - 1) * len(train_loader)\n",
    "    for i, data in enumerate(train_loader):\n",
    "        images, labels = data\n",
    "        N = images.size(0)\n",
    "#         print('image shape:',images.size(0), 'label shape',labels.size(0))\n",
    "        images = Variable(images).to(device)\n",
    "        labels = Variable(labels).to(device)\n",
    "\n",
    "        optimizer.zero_grad()\n",
    "        outputs = model(images)\n",
    "\n",
    "        loss = criterion(outputs, labels)\n",
    "        loss.backward()\n",
    "        optimizer.step()\n",
    "        prediction = outputs.max(1, keepdim=True)[1]\n",
    "        train_acc.update(prediction.eq(labels.view_as(prediction)).sum().item()/N)\n",
    "        train_loss.update(loss.item())\n",
    "        curr_iter += 1\n",
    "        if (i + 1) % 100 == 0:\n",
    "            print('[epoch %d], [iter %d / %d], [train loss %.5f], [train acc %.5f]' % (\n",
    "                epoch, i + 1, len(train_loader), train_loss.avg, train_acc.avg))\n",
    "            total_loss_train.append(train_loss.avg)\n",
    "            total_acc_train.append(train_acc.avg)\n",
    "            \n",
    "            \n",
    "        \n",
    "    return train_loss.avg, train_acc.avg"
   ]
  },
  {
   "cell_type": "code",
   "execution_count": 15,
   "metadata": {},
   "outputs": [],
   "source": [
    "def validate(val_loader, model, criterion, optimizer, epoch,device):\n",
    "    model.eval()\n",
    "    val_loss = AverageMeter()\n",
    "    val_acc = AverageMeter()\n",
    "    with torch.no_grad():\n",
    "        for i, data in enumerate(val_loader):\n",
    "            images, labels = data\n",
    "            N = images.size(0)\n",
    "            images = Variable(images).to(device)\n",
    "            labels = Variable(labels).to(device)\n",
    "\n",
    "            outputs = model(images)\n",
    "            prediction = outputs.max(1, keepdim=True)[1]\n",
    "\n",
    "            val_acc.update(prediction.eq(labels.view_as(prediction)).sum().item()/N)\n",
    "\n",
    "            val_loss.update(criterion(outputs, labels).item())\n",
    "\n",
    "    print('------------------------------------------------------------')\n",
    "    print('[epoch %d], [val loss %.5f], [val acc %.5f]' % (epoch, val_loss.avg, val_acc.avg))\n",
    "    print('------------------------------------------------------------')\n",
    "    return val_loss.avg, val_acc.avg"
   ]
  },
  {
   "cell_type": "code",
   "execution_count": 16,
   "metadata": {},
   "outputs": [],
   "source": [
    "def test(test_loader, model):\n",
    "    model.eval()\n",
    "    pred = []\n",
    "    _class_labels = np.array(['cbsd','cgm','cbb','healthy','cmd'])\n",
    "    with torch.no_grad():\n",
    "        for i, data in enumerate(test_loader):\n",
    "            images, _ = data\n",
    "            images = Variable(images).to(device)\n",
    "    \n",
    "            outputs = model(images)\n",
    "    \n",
    "            prediction = outputs.data.cpu().numpy().argmax()\n",
    "            \n",
    "            _predicted_class_labels = _class_labels[prediction]\n",
    "            \n",
    "            pred.append(_predicted_class_labels)\n",
    "\n",
    "    return pred"
   ]
  },
  {
   "cell_type": "code",
   "execution_count": 17,
   "metadata": {},
   "outputs": [],
   "source": [
    "# device = torch.device('cuda' if torch.cuda.is_available() else 'cpu')\n",
    "# model = pretrainedmodels.se_resnext50_32x4d(num_classes=1000, pretrained=\"imagenet\")\n",
    "   \n",
    "# # model.last_linear.in_features\n",
    "# # model.last_linear=nn.Identity()\n",
    "# # model = Additional(model,model.last_linear.in_features,drop=0.3)\n",
    "# # model = model.to(device)\n",
    "# model\n",
    "\n"
   ]
  },
  {
   "cell_type": "code",
   "execution_count": 18,
   "metadata": {},
   "outputs": [],
   "source": [
    "\n",
    "#     model = Additional(model,num_fits)\n",
    "#     model = model.to(device)\n",
    "    \n",
    "#     class_weights = [class_distrbution[i] for i in train_loader.dataset.classes]\n",
    "#     class_weights_normalized = [max(class_weights)/i for i in class_weights]\n",
    "\n",
    "#     class_weights_normalized,torch.Tensor(class_weights_normalized)\n",
    "\n",
    "#     weights = torch.Tensor(class_weights_normalized)\n",
    "#     weights = weights.to(device)\n",
    "    \n",
    "    \n",
    "#     criterion = nn.CrossEntropyLoss(weight = weights)\n",
    "#     optimizer = optim.Adam(model.parameters())\n",
    "    \n",
    "#     epoch_num = 15\n",
    "#     best_val_acc = 0.60\n",
    "#     total_loss_val, total_acc_val = [],[]\n",
    "#     for epoch in range(1, epoch_num+1):\n",
    "#         loss_train, acc_train = train(train_loader, model, criterion, optimizer, epoch)\n",
    "#         loss_val, acc_val = validate(valid_loader, model, criterion, optimizer, epoch)\n",
    "#         total_loss_val.append(loss_val)\n",
    "#         total_acc_val.append(acc_val)\n",
    "#         if acc_val > best_val_acc:\n",
    "#             best_val_acc = acc_val\n",
    "#             torch.save(model.state_dict(), model_name+'freeze_'+str(best_val_acc)[:4]+'.ckpt')\n",
    "#             print('*****************************************************')\n",
    "#             print('best record: [epoch %d], [val loss %.5f], [val acc %.5f]' % (epoch, loss_val, acc_val))\n",
    "#             print('*****************************************************')"
   ]
  },
  {
   "cell_type": "code",
   "execution_count": 19,
   "metadata": {},
   "outputs": [],
   "source": [
    "def objective(trial):\n",
    "    \n",
    "    \n",
    "    device = torch.device('cuda' if torch.cuda.is_available() else 'cpu')\n",
    "    \n",
    "    drop  = trial.suggest_loguniform('drop', 0.1, 0.3)\n",
    "    \n",
    "#     model = model = torch.hub.load('pytorch/vision:v0.5.0', 'resnet18', pretrained=True)\n",
    "\n",
    "    model = pretrainedmodels.resnet18(num_classes=1000, \n",
    "                                                 pretrained=\"imagenet\")\n",
    "    model_name = 'resnet18'\n",
    "\n",
    "    model = Additional(model, \n",
    "                       model.last_linear.in_features,\n",
    "                       drop=drop)\n",
    "    \n",
    "    model = model.to(device)\n",
    "    \n",
    "#     class_weights = [class_distrbution[i] for i in train_loader.dataset.classes]\n",
    "#     class_weights_normalized = [max(class_weights)/i for i in class_weights]\n",
    "\n",
    "#     class_weights_normalized,torch.Tensor(class_weights_normalized)\n",
    "\n",
    "#     weights = torch.Tensor(class_weights_normalized)\n",
    "#     weights = weights.to(device)\n",
    "    \n",
    "    \n",
    "    \n",
    "    \n",
    "    lr  = trial.suggest_loguniform('lr', 1e-5, 1e-1)\n",
    "#     optim_ = trial.suggest_categorical('optim_',[optim.SGD, optim.RMSprop,optim.Adam])\n",
    "#     momentum = trial.suggest_uniform('momentum', 0.4, 0.99)\n",
    "#     optimizer = optim_(model.parameters(), lr=lr)\n",
    "    optimizer = optim.Adam(model.parameters(), lr=lr)\n",
    "    \n",
    "    \n",
    "    \n",
    "#     criterion = nn.CrossEntropyLoss(weight = weights)\n",
    "    criterion = nn.CrossEntropyLoss()\n",
    "    \n",
    "    epoch_num = 5\n",
    "    best_val_acc = 0.85\n",
    "    total_loss_val, total_acc_val = [],[]\n",
    "    for epoch in range(1, epoch_num+1):\n",
    "        loss_train, acc_train = train(train_loader, model, criterion, optimizer, epoch,device)\n",
    "        loss_val, acc_val = validate(valid_loader, model, criterion, optimizer, epoch,device)\n",
    "        total_loss_val.append(loss_val)\n",
    "        total_acc_val.append(acc_val)\n",
    "        if acc_val > best_val_acc:\n",
    "            best_val_acc = acc_val\n",
    "            torch.save(model.state_dict(), model_name+'freeze_'+str(best_val_acc)[:4]+'.ckpt')\n",
    "            print('*****************************************************')\n",
    "            print('best record: [epoch %d], [val loss %.5f], [val acc %.5f]' % (epoch, loss_val, acc_val))\n",
    "            print('*****************************************************')\n",
    "            \n",
    "     # Handle pruning based on the intermediate value.\n",
    "        if trial.should_prune():\n",
    "            raise optuna.exceptions.TrialPruned()\n",
    "            \n",
    "            \n",
    "    return acc_val"
   ]
  },
  {
   "cell_type": "code",
   "execution_count": null,
   "metadata": {},
   "outputs": [
    {
     "name": "stdout",
     "output_type": "stream",
     "text": [
      "------------------------------------------------------------\n",
      "[epoch 1], [val loss 0.85473], [val acc 0.68290]\n",
      "------------------------------------------------------------\n",
      "------------------------------------------------------------\n",
      "[epoch 2], [val loss 0.81649], [val acc 0.71409]\n",
      "------------------------------------------------------------\n",
      "------------------------------------------------------------\n",
      "[epoch 3], [val loss 0.77097], [val acc 0.71843]\n",
      "------------------------------------------------------------\n",
      "------------------------------------------------------------\n",
      "[epoch 4], [val loss 0.78474], [val acc 0.72150]\n",
      "------------------------------------------------------------\n"
     ]
    },
    {
     "name": "stderr",
     "output_type": "stream",
     "text": [
      "\u001b[32m[I 2020-05-07 11:33:51,943]\u001b[0m Finished trial#0 with value: 0.740108204134367 with parameters: {'drop': 0.21265799138619704, 'lr': 0.00030091198877706956}. Best is trial#0 with value: 0.740108204134367.\u001b[0m\n"
     ]
    },
    {
     "name": "stdout",
     "output_type": "stream",
     "text": [
      "------------------------------------------------------------\n",
      "[epoch 5], [val loss 0.73081], [val acc 0.74011]\n",
      "------------------------------------------------------------\n",
      "------------------------------------------------------------\n",
      "[epoch 1], [val loss 1.20551], [val acc 0.49931]\n",
      "------------------------------------------------------------\n",
      "------------------------------------------------------------\n",
      "[epoch 2], [val loss 1.07016], [val acc 0.63990]\n",
      "------------------------------------------------------------\n",
      "------------------------------------------------------------\n",
      "[epoch 3], [val loss 0.94254], [val acc 0.65165]\n",
      "------------------------------------------------------------\n",
      "------------------------------------------------------------\n",
      "[epoch 4], [val loss 0.88288], [val acc 0.68504]\n",
      "------------------------------------------------------------\n",
      "------------------------------------------------------------\n",
      "[epoch 5], [val loss 0.84408], [val acc 0.70367]\n",
      "------------------------------------------------------------\n"
     ]
    },
    {
     "name": "stderr",
     "output_type": "stream",
     "text": [
      "\u001b[32m[I 2020-05-07 11:47:02,103]\u001b[0m Finished trial#1 with value: 0.7036700581395349 with parameters: {'drop': 0.2948316023146652, 'lr': 3.103129396458461e-05}. Best is trial#0 with value: 0.740108204134367.\u001b[0m\n"
     ]
    },
    {
     "name": "stdout",
     "output_type": "stream",
     "text": [
      "------------------------------------------------------------\n",
      "[epoch 1], [val loss 0.86890], [val acc 0.67985]\n",
      "------------------------------------------------------------\n",
      "------------------------------------------------------------\n",
      "[epoch 2], [val loss 0.89379], [val acc 0.68197]\n",
      "------------------------------------------------------------\n",
      "------------------------------------------------------------\n",
      "[epoch 3], [val loss 0.92534], [val acc 0.66380]\n",
      "------------------------------------------------------------\n",
      "------------------------------------------------------------\n",
      "[epoch 4], [val loss 0.74192], [val acc 0.74007]\n",
      "------------------------------------------------------------\n"
     ]
    },
    {
     "name": "stderr",
     "output_type": "stream",
     "text": [
      "\u001b[32m[I 2020-05-07 12:01:15,913]\u001b[0m Finished trial#2 with value: 0.7115431201550387 with parameters: {'drop': 0.14556412733635113, 'lr': 0.0011301886962324231}. Best is trial#0 with value: 0.740108204134367.\u001b[0m\n"
     ]
    },
    {
     "name": "stdout",
     "output_type": "stream",
     "text": [
      "------------------------------------------------------------\n",
      "[epoch 5], [val loss 0.81666], [val acc 0.71154]\n",
      "------------------------------------------------------------\n",
      "------------------------------------------------------------\n",
      "[epoch 1], [val loss 1.31850], [val acc 0.48845]\n",
      "------------------------------------------------------------\n",
      "------------------------------------------------------------\n",
      "[epoch 2], [val loss 1.32378], [val acc 0.48591]\n",
      "------------------------------------------------------------\n",
      "------------------------------------------------------------\n",
      "[epoch 3], [val loss 1.32505], [val acc 0.48337]\n",
      "------------------------------------------------------------\n",
      "------------------------------------------------------------\n",
      "[epoch 4], [val loss 1.32113], [val acc 0.48718]\n",
      "------------------------------------------------------------\n",
      "------------------------------------------------------------\n",
      "[epoch 5], [val loss 1.32298], [val acc 0.48718]\n",
      "------------------------------------------------------------\n"
     ]
    },
    {
     "name": "stderr",
     "output_type": "stream",
     "text": [
      "\u001b[32m[I 2020-05-07 12:16:58,812]\u001b[0m Finished trial#3 with value: 0.48718104005167956 with parameters: {'drop': 0.10552863411070124, 'lr': 0.05094068008124052}. Best is trial#0 with value: 0.740108204134367.\u001b[0m\n"
     ]
    },
    {
     "name": "stdout",
     "output_type": "stream",
     "text": [
      "------------------------------------------------------------\n",
      "[epoch 1], [val loss 1.28433], [val acc 0.48633]\n",
      "------------------------------------------------------------\n",
      "------------------------------------------------------------\n",
      "[epoch 2], [val loss 1.22285], [val acc 0.49069]\n",
      "------------------------------------------------------------\n",
      "------------------------------------------------------------\n",
      "[epoch 3], [val loss 1.14201], [val acc 0.58521]\n",
      "------------------------------------------------------------\n",
      "------------------------------------------------------------\n",
      "[epoch 4], [val loss 1.08105], [val acc 0.62904]\n",
      "------------------------------------------------------------\n",
      "------------------------------------------------------------\n",
      "[epoch 5], [val loss 1.01200], [val acc 0.63299]\n",
      "------------------------------------------------------------\n"
     ]
    },
    {
     "name": "stderr",
     "output_type": "stream",
     "text": [
      "\u001b[32m[I 2020-05-07 12:33:43,300]\u001b[0m Finished trial#4 with value: 0.6329941860465116 with parameters: {'drop': 0.2538965061941024, 'lr': 1.3756442144173413e-05}. Best is trial#0 with value: 0.740108204134367.\u001b[0m\n"
     ]
    },
    {
     "name": "stdout",
     "output_type": "stream",
     "text": [
      "------------------------------------------------------------\n",
      "[epoch 1], [val loss 0.91579], [val acc 0.67204]\n",
      "------------------------------------------------------------\n",
      "------------------------------------------------------------\n",
      "[epoch 2], [val loss 0.80906], [val acc 0.71927]\n",
      "------------------------------------------------------------\n",
      "------------------------------------------------------------\n",
      "[epoch 3], [val loss 0.93406], [val acc 0.64297]\n",
      "------------------------------------------------------------\n",
      "------------------------------------------------------------\n",
      "[epoch 4], [val loss 0.79040], [val acc 0.71324]\n",
      "------------------------------------------------------------\n",
      "------------------------------------------------------------\n",
      "[epoch 5], [val loss 0.92582], [val acc 0.65556]\n",
      "------------------------------------------------------------\n"
     ]
    },
    {
     "name": "stderr",
     "output_type": "stream",
     "text": [
      "\u001b[32m[I 2020-05-07 12:50:11,657]\u001b[0m Finished trial#5 with value: 0.655563630490956 with parameters: {'drop': 0.11306305605682987, 'lr': 0.002214653877597961}. Best is trial#0 with value: 0.740108204134367.\u001b[0m\n"
     ]
    },
    {
     "name": "stdout",
     "output_type": "stream",
     "text": [
      "------------------------------------------------------------\n",
      "[epoch 1], [val loss 1.21784], [val acc 0.49061]\n",
      "------------------------------------------------------------\n",
      "------------------------------------------------------------\n",
      "[epoch 2], [val loss 1.06761], [val acc 0.62902]\n",
      "------------------------------------------------------------\n",
      "------------------------------------------------------------\n",
      "[epoch 3], [val loss 0.94319], [val acc 0.65161]\n",
      "------------------------------------------------------------\n",
      "------------------------------------------------------------\n",
      "[epoch 4], [val loss 0.90067], [val acc 0.65379]\n",
      "------------------------------------------------------------\n"
     ]
    },
    {
     "name": "stderr",
     "output_type": "stream",
     "text": [
      "\u001b[32m[I 2020-05-07 13:06:11,735]\u001b[0m Finished trial#6 with value: 0.6923853359173127 with parameters: {'drop': 0.11048565681766748, 'lr': 3.0128513424451944e-05}. Best is trial#0 with value: 0.740108204134367.\u001b[0m\n"
     ]
    },
    {
     "name": "stdout",
     "output_type": "stream",
     "text": [
      "------------------------------------------------------------\n",
      "[epoch 5], [val loss 0.84416], [val acc 0.69239]\n",
      "------------------------------------------------------------\n",
      "------------------------------------------------------------\n",
      "[epoch 1], [val loss 0.88210], [val acc 0.67852]\n",
      "------------------------------------------------------------\n",
      "------------------------------------------------------------\n",
      "[epoch 2], [val loss 0.78614], [val acc 0.70409]\n",
      "------------------------------------------------------------\n",
      "------------------------------------------------------------\n",
      "[epoch 3], [val loss 0.83328], [val acc 0.70847]\n",
      "------------------------------------------------------------\n",
      "------------------------------------------------------------\n",
      "[epoch 4], [val loss 0.77062], [val acc 0.72709]\n",
      "------------------------------------------------------------\n"
     ]
    },
    {
     "name": "stderr",
     "output_type": "stream",
     "text": [
      "\u001b[32m[I 2020-05-07 13:22:30,771]\u001b[0m Finished trial#7 with value: 0.7240794573643411 with parameters: {'drop': 0.13443950704101462, 'lr': 0.00023991552023668893}. Best is trial#0 with value: 0.740108204134367.\u001b[0m\n"
     ]
    },
    {
     "name": "stdout",
     "output_type": "stream",
     "text": [
      "------------------------------------------------------------\n",
      "[epoch 5], [val loss 0.76779], [val acc 0.72408]\n",
      "------------------------------------------------------------\n",
      "------------------------------------------------------------\n",
      "[epoch 1], [val loss 1.27326], [val acc 0.48718]\n",
      "------------------------------------------------------------\n",
      "------------------------------------------------------------\n",
      "[epoch 2], [val loss 1.15117], [val acc 0.60388]\n",
      "------------------------------------------------------------\n",
      "------------------------------------------------------------\n",
      "[epoch 3], [val loss 1.11309], [val acc 0.60219]\n",
      "------------------------------------------------------------\n",
      "------------------------------------------------------------\n",
      "[epoch 4], [val loss 1.10309], [val acc 0.60302]\n",
      "------------------------------------------------------------\n",
      "------------------------------------------------------------\n",
      "[epoch 5], [val loss 1.38285], [val acc 0.31888]\n",
      "------------------------------------------------------------\n"
     ]
    },
    {
     "name": "stderr",
     "output_type": "stream",
     "text": [
      "\u001b[32m[I 2020-05-07 13:38:48,888]\u001b[0m Finished trial#8 with value: 0.31887919896640826 with parameters: {'drop': 0.2593920682857084, 'lr': 0.029133714224196958}. Best is trial#0 with value: 0.740108204134367.\u001b[0m\n"
     ]
    },
    {
     "name": "stdout",
     "output_type": "stream",
     "text": [
      "------------------------------------------------------------\n",
      "[epoch 1], [val loss 0.85820], [val acc 0.68633]\n",
      "------------------------------------------------------------\n",
      "------------------------------------------------------------\n",
      "[epoch 2], [val loss 0.88666], [val acc 0.66422]\n",
      "------------------------------------------------------------\n",
      "------------------------------------------------------------\n",
      "[epoch 3], [val loss 0.76824], [val acc 0.72886]\n",
      "------------------------------------------------------------\n",
      "------------------------------------------------------------\n",
      "[epoch 4], [val loss 0.72717], [val acc 0.74709]\n",
      "------------------------------------------------------------\n",
      "------------------------------------------------------------\n",
      "[epoch 5], [val loss 0.77809], [val acc 0.71023]\n",
      "------------------------------------------------------------\n"
     ]
    },
    {
     "name": "stderr",
     "output_type": "stream",
     "text": [
      "\u001b[32m[I 2020-05-07 13:55:07,527]\u001b[0m Finished trial#9 with value: 0.7102309431524547 with parameters: {'drop': 0.14185823958653382, 'lr': 0.0003536531999798614}. Best is trial#0 with value: 0.740108204134367.\u001b[0m\n"
     ]
    },
    {
     "name": "stdout",
     "output_type": "stream",
     "text": [
      "------------------------------------------------------------\n",
      "[epoch 1], [val loss 0.93163], [val acc 0.64511]\n",
      "------------------------------------------------------------\n",
      "------------------------------------------------------------\n",
      "[epoch 2], [val loss 0.85456], [val acc 0.68712]\n",
      "------------------------------------------------------------\n",
      "------------------------------------------------------------\n",
      "[epoch 3], [val loss 0.87301], [val acc 0.68546]\n",
      "------------------------------------------------------------\n",
      "------------------------------------------------------------\n",
      "[epoch 4], [val loss 0.81154], [val acc 0.71324]\n",
      "------------------------------------------------------------\n"
     ]
    },
    {
     "name": "stderr",
     "output_type": "stream",
     "text": [
      "\u001b[32m[I 2020-05-07 14:09:35,867]\u001b[0m Finished trial#10 with value: 0.7127947351421189 with parameters: {'drop': 0.20741530935023247, 'lr': 0.007704692062256307}. Best is trial#0 with value: 0.740108204134367.\u001b[0m\n"
     ]
    },
    {
     "name": "stdout",
     "output_type": "stream",
     "text": [
      "------------------------------------------------------------\n",
      "[epoch 5], [val loss 0.83943], [val acc 0.71279]\n",
      "------------------------------------------------------------\n",
      "------------------------------------------------------------\n",
      "[epoch 1], [val loss 0.94366], [val acc 0.63907]\n",
      "------------------------------------------------------------\n",
      "------------------------------------------------------------\n",
      "[epoch 2], [val loss 0.81410], [val acc 0.70327]\n",
      "------------------------------------------------------------\n",
      "------------------------------------------------------------\n",
      "[epoch 3], [val loss 0.76910], [val acc 0.72277]\n",
      "------------------------------------------------------------\n",
      "------------------------------------------------------------\n",
      "[epoch 4], [val loss 0.76400], [val acc 0.72798]\n",
      "------------------------------------------------------------\n"
     ]
    },
    {
     "name": "stderr",
     "output_type": "stream",
     "text": [
      "\u001b[32m[I 2020-05-07 14:19:00,003]\u001b[0m Finished trial#11 with value: 0.7102107558139534 with parameters: {'drop': 0.18894723542530503, 'lr': 0.00016709028068675054}. Best is trial#0 with value: 0.740108204134367.\u001b[0m\n"
     ]
    },
    {
     "name": "stdout",
     "output_type": "stream",
     "text": [
      "------------------------------------------------------------\n",
      "[epoch 5], [val loss 0.77311], [val acc 0.71021]\n",
      "------------------------------------------------------------\n",
      "------------------------------------------------------------\n",
      "[epoch 1], [val loss 0.94254], [val acc 0.65510]\n",
      "------------------------------------------------------------\n",
      "------------------------------------------------------------\n",
      "[epoch 2], [val loss 0.85767], [val acc 0.69025]\n",
      "------------------------------------------------------------\n",
      "------------------------------------------------------------\n",
      "[epoch 3], [val loss 0.76740], [val acc 0.71972]\n",
      "------------------------------------------------------------\n",
      "------------------------------------------------------------\n",
      "[epoch 4], [val loss 0.77155], [val acc 0.70837]\n",
      "------------------------------------------------------------\n"
     ]
    },
    {
     "name": "stderr",
     "output_type": "stream",
     "text": [
      "\u001b[32m[I 2020-05-07 14:34:01,958]\u001b[0m Finished trial#12 with value: 0.7340721899224806 with parameters: {'drop': 0.15249709576535994, 'lr': 0.00015229903094613422}. Best is trial#0 with value: 0.740108204134367.\u001b[0m\n"
     ]
    },
    {
     "name": "stdout",
     "output_type": "stream",
     "text": [
      "------------------------------------------------------------\n",
      "[epoch 5], [val loss 0.75169], [val acc 0.73407]\n",
      "------------------------------------------------------------\n",
      "------------------------------------------------------------\n",
      "[epoch 1], [val loss 0.94901], [val acc 0.64813]\n",
      "------------------------------------------------------------\n",
      "------------------------------------------------------------\n",
      "[epoch 2], [val loss 0.84050], [val acc 0.68332]\n",
      "------------------------------------------------------------\n"
     ]
    }
   ],
   "source": [
    "import optuna\n",
    "\n",
    "sampler = optuna.samplers.TPESampler()\n",
    "study = optuna.create_study(sampler=sampler, direction='maximize')\n",
    "study.optimize(func=objective, n_trials=50)"
   ]
  },
  {
   "cell_type": "markdown",
   "metadata": {},
   "source": [
    "## Sumission"
   ]
  },
  {
   "cell_type": "code",
   "execution_count": null,
   "metadata": {},
   "outputs": [],
   "source": [
    "class_names = {0:'cbsd', 1: 'cgm', 2: 'cbb', 3: 'healthy', 4: 'cmd'}"
   ]
  },
  {
   "cell_type": "code",
   "execution_count": null,
   "metadata": {},
   "outputs": [],
   "source": [
    "def process_image(image_dir):\n",
    "    # Process a PIL image for use in a PyTorch model\n",
    "    # tensor.numpy().transpose(1, 2, 0)\n",
    "    image = Image.open(image_dir)\n",
    "    preprocess = transforms.Compose([ transforms.Resize(224),\n",
    "                                       transforms.CenterCrop(224),\n",
    "                                       transforms.ToTensor(),\n",
    "                                      transforms.Normalize(mean=mean,std=std)])\n",
    "    image = preprocess(image)\n",
    "    # Convert 2D image to 1D vector\n",
    "    image = np.expand_dims(image, 0)\n",
    "    image = torch.from_numpy(image)\n",
    "    inputs = image.to(device)\n",
    "    return inputs"
   ]
  },
  {
   "cell_type": "code",
   "execution_count": null,
   "metadata": {},
   "outputs": [],
   "source": []
  },
  {
   "cell_type": "code",
   "execution_count": null,
   "metadata": {},
   "outputs": [],
   "source": [
    "# Using our model to predict the label\n",
    "def predict(image, model):\n",
    "    # Pass the image through our model\n",
    "    output = model(image)\n",
    "    # Reverse the log function in our output\n",
    "    output = torch.exp(output)\n",
    "    # Get the top predicted class, and the output percentage for\n",
    "    # that class\n",
    "    probs, classes = output.topk(1, dim=1)\n",
    "    return probs.item(), classes.item()"
   ]
  },
  {
   "cell_type": "code",
   "execution_count": null,
   "metadata": {},
   "outputs": [],
   "source": [
    "test_directory = \"./data/test/test/0\"\n",
    "predictions, test_image_fileName = [], []\n",
    "try:\n",
    "    test_images = listdir(test_directory)\n",
    "    for images in test_images:\n",
    "        test_image_fileName.append(images)\n",
    "        image = process_image(f'{test_directory}/{images}')\n",
    "        top_prob, top_class = predict(image, model)\n",
    "        predictions.append(class_names[top_class])\n",
    "except Exception as e:\n",
    "    print(e)"
   ]
  },
  {
   "cell_type": "code",
   "execution_count": null,
   "metadata": {},
   "outputs": [],
   "source": []
  },
  {
   "cell_type": "code",
   "execution_count": null,
   "metadata": {},
   "outputs": [],
   "source": [
    "print(\"[INFO] Creating pandas dataframe\")\n",
    "submission_data = {\"Category\":predictions,\"Id\":test_image_fileName,}\n",
    "submission_data_frame = pd.DataFrame(submission_data)"
   ]
  },
  {
   "cell_type": "code",
   "execution_count": null,
   "metadata": {},
   "outputs": [],
   "source": [
    "submission_data_frame.head()"
   ]
  },
  {
   "cell_type": "code",
   "execution_count": null,
   "metadata": {},
   "outputs": [],
   "source": [
    "submission_data_frame.to_csv('submission'+model_name+'_freeze_86_flip.csv', header=True, index=False)"
   ]
  },
  {
   "cell_type": "code",
   "execution_count": null,
   "metadata": {},
   "outputs": [],
   "source": []
  }
 ],
 "metadata": {
  "kernelspec": {
   "display_name": "Python 3",
   "language": "python",
   "name": "python3"
  },
  "language_info": {
   "codemirror_mode": {
    "name": "ipython",
    "version": 3
   },
   "file_extension": ".py",
   "mimetype": "text/x-python",
   "name": "python",
   "nbconvert_exporter": "python",
   "pygments_lexer": "ipython3",
   "version": "3.6.9"
  }
 },
 "nbformat": 4,
 "nbformat_minor": 4
}
