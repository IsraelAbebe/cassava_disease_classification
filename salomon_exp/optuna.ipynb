{
 "cells": [
  {
   "cell_type": "code",
   "execution_count": 2,
   "metadata": {},
   "outputs": [
    {
     "name": "stdout",
     "output_type": "stream",
     "text": [
      "Collecting optuna\n",
      "  Using cached https://files.pythonhosted.org/packages/85/ee/2688cce5ced0597e12832d1ec4f4383a468f6bddff768eeaa3b5bf4f6500/optuna-1.3.0.tar.gz\n",
      "Collecting alembic\n",
      "  Using cached https://files.pythonhosted.org/packages/60/1e/cabc75a189de0fbb2841d0975243e59bde8b7822bacbb95008ac6fe9ad47/alembic-1.4.2.tar.gz\n",
      "  Installing build dependencies ... \u001b[?25lerror\n",
      "\u001b[31m  ERROR: Command errored out with exit status 1:\n",
      "   command: /opt/anaconda3/bin/python /opt/anaconda3/lib/python3.7/site-packages/pip install --ignore-installed --no-user --prefix /tmp/pip-build-env-rbcvr38r/overlay --no-warn-script-location --no-binary :none: --only-binary :none: -i https://pypi.org/simple -- 'setuptools>=40.8.0' wheel\n",
      "       cwd: None\n",
      "  Complete output (14 lines):\n",
      "  Traceback (most recent call last):\n",
      "    File \"/opt/anaconda3/lib/python3.7/runpy.py\", line 193, in _run_module_as_main\n",
      "      \"__main__\", mod_spec)\n",
      "    File \"/opt/anaconda3/lib/python3.7/runpy.py\", line 85, in _run_code\n",
      "      exec(code, run_globals)\n",
      "    File \"/opt/anaconda3/lib/python3.7/site-packages/pip/__main__.py\", line 16, in <module>\n",
      "      from pip._internal.main import main as _main  # isort:skip # noqa\n",
      "    File \"/opt/anaconda3/lib/python3.7/site-packages/pip/_internal/main.py\", line 8, in <module>\n",
      "      import locale\n",
      "    File \"/opt/anaconda3/lib/python3.7/locale.py\", line 16, in <module>\n",
      "      import re\n",
      "    File \"/opt/anaconda3/lib/python3.7/re.py\", line 143, in <module>\n",
      "      class RegexFlag(enum.IntFlag):\n",
      "  AttributeError: module 'enum' has no attribute 'IntFlag'\n",
      "  ----------------------------------------\u001b[0m\n",
      "\u001b[31mERROR: Command errored out with exit status 1: /opt/anaconda3/bin/python /opt/anaconda3/lib/python3.7/site-packages/pip install --ignore-installed --no-user --prefix /tmp/pip-build-env-rbcvr38r/overlay --no-warn-script-location --no-binary :none: --only-binary :none: -i https://pypi.org/simple -- 'setuptools>=40.8.0' wheel Check the logs for full command output.\u001b[0m\n",
      "\u001b[?25h"
     ]
    }
   ],
   "source": [
    "# !pip install optuna"
   ]
  },
  {
   "cell_type": "code",
   "execution_count": 1,
   "metadata": {},
   "outputs": [],
   "source": [
    "import os\n",
    "\n",
    "import torch\n",
    "import torch.nn as nn\n",
    "import torch.nn.functional as F\n",
    "import torch.optim as optim\n",
    "import torch.utils.data\n",
    "from torchvision import datasets\n",
    "from torchvision import transforms\n",
    "\n",
    "import optuna\n",
    "\n",
    "DEVICE = torch.device(\"cpu\")\n",
    "BATCHSIZE = 128\n",
    "CLASSES = 10\n",
    "DIR = os.getcwd()\n",
    "EPOCHS = 10\n",
    "LOG_INTERVAL = 10\n",
    "N_TRAIN_EXAMPLES = BATCHSIZE * 30\n",
    "N_VALID_EXAMPLES = BATCHSIZE * 10\n",
    "\n",
    "\n",
    "def define_model(trial):\n",
    "    # We optimize the number of layers, hidden untis and dropout ratio in each layer.\n",
    "    n_layers = trial.suggest_int(\"n_layers\", 1, 3)\n",
    "    layers = []\n",
    "\n",
    "    in_features = 28 * 28\n",
    "    for i in range(n_layers):\n",
    "        out_features = trial.suggest_int(\"n_units_l{}\".format(i), 4, 128)\n",
    "        layers.append(nn.Linear(in_features, out_features))\n",
    "        layers.append(nn.ReLU())\n",
    "        p = trial.suggest_uniform(\"dropout_l{}\".format(i), 0.2, 0.5)\n",
    "        layers.append(nn.Dropout(p))\n",
    "\n",
    "        in_features = out_features\n",
    "    layers.append(nn.Linear(in_features, CLASSES))\n",
    "    layers.append(nn.LogSoftmax(dim=1))\n",
    "\n",
    "    return nn.Sequential(*layers)\n",
    "\n",
    "\n",
    "def get_mnist():\n",
    "    # Load MNIST dataset.\n",
    "    train_loader = torch.utils.data.DataLoader(\n",
    "        datasets.MNIST(DIR, train=True, download=True, transform=transforms.ToTensor()),\n",
    "        batch_size=BATCHSIZE,\n",
    "        shuffle=True,\n",
    "    )\n",
    "    valid_loader = torch.utils.data.DataLoader(\n",
    "        datasets.MNIST(DIR, train=False, transform=transforms.ToTensor()),\n",
    "        batch_size=BATCHSIZE,\n",
    "        shuffle=True,\n",
    "    )\n",
    "\n",
    "    return train_loader, valid_loader\n",
    "\n",
    "\n",
    "def objective(trial):\n",
    "\n",
    "    # Generate the model.\n",
    "    model = define_model(trial).to(DEVICE)\n",
    "\n",
    "    # Generate the optimizers.\n",
    "    optimizer_name = trial.suggest_categorical(\"optimizer\", [\"Adam\", \"RMSprop\", \"SGD\"])\n",
    "    lr = trial.suggest_loguniform(\"lr\", 1e-5, 1e-1)\n",
    "    optimizer = getattr(optim, optimizer_name)(model.parameters(), lr=lr)\n",
    "\n",
    "    # Get the MNIST dataset.\n",
    "    train_loader, valid_loader = get_mnist()\n",
    "\n",
    "    # Training of the model.\n",
    "    model.train()\n",
    "    for epoch in range(EPOCHS):\n",
    "        for batch_idx, (data, target) in enumerate(train_loader):\n",
    "            # Limiting training data for faster epochs.\n",
    "            if batch_idx * BATCHSIZE >= N_TRAIN_EXAMPLES:\n",
    "                break\n",
    "\n",
    "            data, target = data.view(-1, 28 * 28).to(DEVICE), target.to(DEVICE)\n",
    "\n",
    "            # Zeroing out gradient buffers.\n",
    "            optimizer.zero_grad()\n",
    "            # Performing a forward pass.\n",
    "            output = model(data)\n",
    "            # Computing negative Log Likelihood loss.\n",
    "            loss = F.nll_loss(output, target)\n",
    "            # Performing a backward pass.\n",
    "            loss.backward()\n",
    "            # Updating the weights.\n",
    "            optimizer.step()\n",
    "\n",
    "    # Validation of the model.\n",
    "    model.eval()\n",
    "    correct = 0\n",
    "    with torch.no_grad():\n",
    "        for batch_idx, (data, target) in enumerate(valid_loader):\n",
    "            # Limiting validation data.\n",
    "            if batch_idx * BATCHSIZE >= N_VALID_EXAMPLES:\n",
    "                break\n",
    "            data, target = data.view(-1, 28 * 28).to(DEVICE), target.to(DEVICE)\n",
    "            output = model(data)\n",
    "            pred = output.argmax(dim=1, keepdim=True)  # Get the index of the max log-probability.\n",
    "            correct += pred.eq(target.view_as(pred)).sum().item()\n",
    "\n",
    "    accuracy = correct / N_VALID_EXAMPLES\n",
    "    return accuracy"
   ]
  },
  {
   "cell_type": "code",
   "execution_count": 2,
   "metadata": {},
   "outputs": [
    {
     "name": "stdout",
     "output_type": "stream",
     "text": [
      "Downloading http://yann.lecun.com/exdb/mnist/train-images-idx3-ubyte.gz to /home/jupyter/cassava_disease_classification/salomon_exp/MNIST/raw/train-images-idx3-ubyte.gz\n"
     ]
    },
    {
     "data": {
      "application/vnd.jupyter.widget-view+json": {
       "model_id": "8851a297c802409dbb4157f20f5486ae",
       "version_major": 2,
       "version_minor": 0
      },
      "text/plain": [
       "HBox(children=(FloatProgress(value=1.0, bar_style='info', max=1.0), HTML(value='')))"
      ]
     },
     "metadata": {},
     "output_type": "display_data"
    },
    {
     "name": "stdout",
     "output_type": "stream",
     "text": [
      "Extracting /home/jupyter/cassava_disease_classification/salomon_exp/MNIST/raw/train-images-idx3-ubyte.gz to /home/jupyter/cassava_disease_classification/salomon_exp/MNIST/raw\n",
      "Downloading http://yann.lecun.com/exdb/mnist/train-labels-idx1-ubyte.gz to /home/jupyter/cassava_disease_classification/salomon_exp/MNIST/raw/train-labels-idx1-ubyte.gz\n"
     ]
    },
    {
     "data": {
      "application/vnd.jupyter.widget-view+json": {
       "model_id": "6a6c1d8cb90444d79371152c52971b8e",
       "version_major": 2,
       "version_minor": 0
      },
      "text/plain": [
       "HBox(children=(FloatProgress(value=1.0, bar_style='info', max=1.0), HTML(value='')))"
      ]
     },
     "metadata": {},
     "output_type": "display_data"
    },
    {
     "name": "stdout",
     "output_type": "stream",
     "text": [
      "Extracting /home/jupyter/cassava_disease_classification/salomon_exp/MNIST/raw/train-labels-idx1-ubyte.gz to /home/jupyter/cassava_disease_classification/salomon_exp/MNIST/raw\n",
      "Downloading http://yann.lecun.com/exdb/mnist/t10k-images-idx3-ubyte.gz to /home/jupyter/cassava_disease_classification/salomon_exp/MNIST/raw/t10k-images-idx3-ubyte.gz\n",
      "\n"
     ]
    },
    {
     "data": {
      "application/vnd.jupyter.widget-view+json": {
       "model_id": "6fa82affaeb84c28a001815b1cebe47a",
       "version_major": 2,
       "version_minor": 0
      },
      "text/plain": [
       "HBox(children=(FloatProgress(value=1.0, bar_style='info', max=1.0), HTML(value='')))"
      ]
     },
     "metadata": {},
     "output_type": "display_data"
    },
    {
     "name": "stdout",
     "output_type": "stream",
     "text": [
      "Extracting /home/jupyter/cassava_disease_classification/salomon_exp/MNIST/raw/t10k-images-idx3-ubyte.gz to /home/jupyter/cassava_disease_classification/salomon_exp/MNIST/raw\n",
      "Downloading http://yann.lecun.com/exdb/mnist/t10k-labels-idx1-ubyte.gz to /home/jupyter/cassava_disease_classification/salomon_exp/MNIST/raw/t10k-labels-idx1-ubyte.gz\n"
     ]
    },
    {
     "data": {
      "application/vnd.jupyter.widget-view+json": {
       "model_id": "5c9031f007bf49fcba23f9ecb7119b06",
       "version_major": 2,
       "version_minor": 0
      },
      "text/plain": [
       "HBox(children=(FloatProgress(value=1.0, bar_style='info', max=1.0), HTML(value='')))"
      ]
     },
     "metadata": {},
     "output_type": "display_data"
    },
    {
     "name": "stdout",
     "output_type": "stream",
     "text": [
      "Extracting /home/jupyter/cassava_disease_classification/salomon_exp/MNIST/raw/t10k-labels-idx1-ubyte.gz to /home/jupyter/cassava_disease_classification/salomon_exp/MNIST/raw\n",
      "Processing...\n",
      "Done!\n",
      "\n",
      "\n",
      "\n"
     ]
    },
    {
     "name": "stderr",
     "output_type": "stream",
     "text": [
      "[I 2020-05-01 01:09:31,575] Finished trial#0 with value: 0.81328125 with parameters: {'n_layers': 1, 'n_units_l0': 10, 'dropout_l0': 0.4954869800966186, 'optimizer': 'SGD', 'lr': 0.05886382632216787}. Best is trial#0 with value: 0.81328125.\n",
      "[I 2020-05-01 01:09:37,441] Finished trial#1 with value: 0.11015625 with parameters: {'n_layers': 3, 'n_units_l0': 73, 'dropout_l0': 0.3843838583578286, 'n_units_l1': 63, 'dropout_l1': 0.23683135777045417, 'n_units_l2': 41, 'dropout_l2': 0.4954059008268575, 'optimizer': 'SGD', 'lr': 0.0004818731785282965}. Best is trial#0 with value: 0.81328125.\n",
      "[I 2020-05-01 01:09:43,852] Finished trial#2 with value: 0.1078125 with parameters: {'n_layers': 2, 'n_units_l0': 10, 'dropout_l0': 0.3249955426549393, 'n_units_l1': 88, 'dropout_l1': 0.34705682711740027, 'optimizer': 'SGD', 'lr': 5.5280630823700153e-05}. Best is trial#0 with value: 0.81328125.\n",
      "[I 2020-05-01 01:09:50,025] Finished trial#3 with value: 0.7109375 with parameters: {'n_layers': 1, 'n_units_l0': 23, 'dropout_l0': 0.40292900847967184, 'optimizer': 'Adam', 'lr': 0.00010971416981544248}. Best is trial#0 with value: 0.81328125.\n",
      "[I 2020-05-01 01:09:56,232] Finished trial#4 with value: 0.56015625 with parameters: {'n_layers': 3, 'n_units_l0': 77, 'dropout_l0': 0.3217779959631302, 'n_units_l1': 57, 'dropout_l1': 0.4164524436249381, 'n_units_l2': 54, 'dropout_l2': 0.4493845125537368, 'optimizer': 'Adam', 'lr': 8.55628277501556e-05}. Best is trial#0 with value: 0.81328125.\n",
      "[I 2020-05-01 01:10:02,911] Finished trial#5 with value: 0.80234375 with parameters: {'n_layers': 2, 'n_units_l0': 10, 'dropout_l0': 0.41808491985690643, 'n_units_l1': 65, 'dropout_l1': 0.25823474288385506, 'optimizer': 'Adam', 'lr': 0.0006049602569149846}. Best is trial#0 with value: 0.81328125.\n",
      "[I 2020-05-01 01:10:09,988] Finished trial#6 with value: 0.35390625 with parameters: {'n_layers': 3, 'n_units_l0': 34, 'dropout_l0': 0.3546736558789767, 'n_units_l1': 85, 'dropout_l1': 0.21636761573577085, 'n_units_l2': 22, 'dropout_l2': 0.46159332182955537, 'optimizer': 'Adam', 'lr': 6.345179481724707e-05}. Best is trial#0 with value: 0.81328125.\n",
      "[I 2020-05-01 01:10:16,231] Finished trial#7 with value: 0.94453125 with parameters: {'n_layers': 1, 'n_units_l0': 107, 'dropout_l0': 0.4323604318962685, 'optimizer': 'Adam', 'lr': 0.008500787189771479}. Best is trial#7 with value: 0.94453125.\n",
      "[I 2020-05-01 01:10:21,940] Finished trial#8 with value: 0.16875 with parameters: {'n_layers': 2, 'n_units_l0': 63, 'dropout_l0': 0.35173672482211565, 'n_units_l1': 47, 'dropout_l1': 0.39295074815926295, 'optimizer': 'SGD', 'lr': 6.948118969984597e-05}. Best is trial#7 with value: 0.94453125.\n",
      "[I 2020-05-01 01:10:27,556] Finished trial#9 with value: 0.12890625 with parameters: {'n_layers': 3, 'n_units_l0': 74, 'dropout_l0': 0.426053509413859, 'n_units_l1': 37, 'dropout_l1': 0.28011317684738124, 'n_units_l2': 19, 'dropout_l2': 0.3323727053864226, 'optimizer': 'SGD', 'lr': 0.0064961020436661}. Best is trial#7 with value: 0.94453125.\n",
      "[I 2020-05-01 01:10:34,334] Finished trial#10 with value: 0.93671875 with parameters: {'n_layers': 1, 'n_units_l0': 126, 'dropout_l0': 0.4949282694615949, 'optimizer': 'RMSprop', 'lr': 0.01586500055199323}. Best is trial#7 with value: 0.94453125.\n",
      "[I 2020-05-01 01:10:40,197] Finished trial#11 with value: 0.93046875 with parameters: {'n_layers': 1, 'n_units_l0': 126, 'dropout_l0': 0.21853008437363186, 'optimizer': 'RMSprop', 'lr': 0.01581875869266115}. Best is trial#7 with value: 0.94453125.\n",
      "[I 2020-05-01 01:10:46,112] Finished trial#12 with value: 0.934375 with parameters: {'n_layers': 1, 'n_units_l0': 126, 'dropout_l0': 0.49485070365400663, 'optimizer': 'RMSprop', 'lr': 0.005769425190633811}. Best is trial#7 with value: 0.94453125.\n",
      "[I 2020-05-01 01:10:51,981] Finished trial#13 with value: 0.634375 with parameters: {'n_layers': 1, 'n_units_l0': 104, 'dropout_l0': 0.44983792092850095, 'optimizer': 'RMSprop', 'lr': 0.08234290385339031}. Best is trial#7 with value: 0.94453125.\n",
      "[I 2020-05-01 01:10:57,925] Finished trial#14 with value: 0.9140625 with parameters: {'n_layers': 1, 'n_units_l0': 105, 'dropout_l0': 0.47702515278858165, 'optimizer': 'RMSprop', 'lr': 0.019514858563655188}. Best is trial#7 with value: 0.94453125.\n",
      "[I 2020-05-01 01:11:03,547] Finished trial#15 with value: 0.928125 with parameters: {'n_layers': 2, 'n_units_l0': 109, 'dropout_l0': 0.4564355826230755, 'n_units_l1': 50, 'dropout_l1': 0.37405285081647055, 'optimizer': 'Adam', 'lr': 0.0021893650855279046}. Best is trial#7 with value: 0.94453125.\n",
      "[I 2020-05-01 01:11:09,191] Finished trial#16 with value: 0.9265625 with parameters: {'n_layers': 1, 'n_units_l0': 92, 'dropout_l0': 0.22821445324258088, 'optimizer': 'RMSprop', 'lr': 0.028823989315252985}. Best is trial#7 with value: 0.94453125.\n",
      "[I 2020-05-01 01:11:14,601] Finished trial#17 with value: 0.93984375 with parameters: {'n_layers': 2, 'n_units_l0': 124, 'dropout_l0': 0.278936507509181, 'n_units_l1': 54, 'dropout_l1': 0.38261378237525384, 'optimizer': 'RMSprop', 'lr': 0.0019436201814355888}. Best is trial#7 with value: 0.94453125.\n",
      "[I 2020-05-01 01:11:20,598] Finished trial#18 with value: 0.93828125 with parameters: {'n_layers': 2, 'n_units_l0': 115, 'dropout_l0': 0.2537899259750718, 'n_units_l1': 109, 'dropout_l1': 0.30438246288356263, 'optimizer': 'Adam', 'lr': 0.0015532649956060947}. Best is trial#7 with value: 0.94453125.\n",
      "[I 2020-05-01 01:11:26,441] Finished trial#19 with value: 0.853125 with parameters: {'n_layers': 2, 'n_units_l0': 89, 'dropout_l0': 0.26989029974024953, 'n_units_l1': 4, 'dropout_l1': 0.49282785953789665, 'optimizer': 'Adam', 'lr': 0.0040416072180028085}. Best is trial#7 with value: 0.94453125.\n",
      "[I 2020-05-01 01:11:31,706] Finished trial#20 with value: 0.89609375 with parameters: {'n_layers': 2, 'n_units_l0': 57, 'dropout_l0': 0.29114668674290967, 'n_units_l1': 126, 'dropout_l1': 0.32247967878410183, 'optimizer': 'RMSprop', 'lr': 0.00033456475104722856}. Best is trial#7 with value: 0.94453125.\n",
      "[I 2020-05-01 01:11:37,727] Finished trial#21 with value: 0.92734375 with parameters: {'n_layers': 2, 'n_units_l0': 115, 'dropout_l0': 0.25237124042191855, 'n_units_l1': 126, 'dropout_l1': 0.4596954895402933, 'optimizer': 'Adam', 'lr': 0.0016441308484888503}. Best is trial#7 with value: 0.94453125.\n",
      "[I 2020-05-01 01:11:43,899] Finished trial#22 with value: 0.9234375 with parameters: {'n_layers': 2, 'n_units_l0': 116, 'dropout_l0': 0.2848084239352167, 'n_units_l1': 97, 'dropout_l1': 0.3109693555446409, 'optimizer': 'Adam', 'lr': 0.0012615029149418934}. Best is trial#7 with value: 0.94453125.\n",
      "[I 2020-05-01 01:11:49,896] Finished trial#23 with value: 0.93046875 with parameters: {'n_layers': 2, 'n_units_l0': 94, 'dropout_l0': 0.20070274512713607, 'n_units_l1': 17, 'dropout_l1': 0.4370149459110698, 'optimizer': 'Adam', 'lr': 0.003108993494735779}. Best is trial#7 with value: 0.94453125.\n",
      "[I 2020-05-01 01:11:56,179] Finished trial#24 with value: 0.90546875 with parameters: {'n_layers': 2, 'n_units_l0': 128, 'dropout_l0': 0.2501913850990577, 'n_units_l1': 107, 'dropout_l1': 0.2959148358493063, 'optimizer': 'Adam', 'lr': 0.0002807786860084808}. Best is trial#7 with value: 0.94453125.\n",
      "[I 2020-05-01 01:12:01,985] Finished trial#25 with value: 0.91015625 with parameters: {'n_layers': 2, 'n_units_l0': 115, 'dropout_l0': 0.3125120197759121, 'n_units_l1': 30, 'dropout_l1': 0.3767933037467555, 'optimizer': 'Adam', 'lr': 0.0010583430365912864}. Best is trial#7 with value: 0.94453125.\n",
      "[I 2020-05-01 01:12:08,189] Finished trial#26 with value: 0.928125 with parameters: {'n_layers': 3, 'n_units_l0': 98, 'dropout_l0': 0.3790243075791164, 'n_units_l1': 75, 'dropout_l1': 0.3485577592801132, 'n_units_l2': 106, 'dropout_l2': 0.2949202068067499, 'optimizer': 'Adam', 'lr': 0.010128371402950889}. Best is trial#7 with value: 0.94453125.\n",
      "[I 2020-05-01 01:12:13,749] Finished trial#27 with value: 0.40859375 with parameters: {'n_layers': 2, 'n_units_l0': 82, 'dropout_l0': 0.23632951467441424, 'n_units_l1': 113, 'dropout_l1': 0.32784727216987397, 'optimizer': 'RMSprop', 'lr': 1.823328163735249e-05}. Best is trial#7 with value: 0.94453125.\n",
      "[I 2020-05-01 01:12:19,178] Finished trial#28 with value: 0.88828125 with parameters: {'n_layers': 2, 'n_units_l0': 50, 'dropout_l0': 0.30170320230385855, 'n_units_l1': 76, 'dropout_l1': 0.27006587425596357, 'optimizer': 'Adam', 'lr': 0.044787816339188144}. Best is trial#7 with value: 0.94453125.\n",
      "[I 2020-05-01 01:12:24,400] Finished trial#29 with value: 0.94609375 with parameters: {'n_layers': 1, 'n_units_l0': 121, 'dropout_l0': 0.26142361558491045, 'optimizer': 'RMSprop', 'lr': 0.0026933132929129497}. Best is trial#29 with value: 0.94609375.\n",
      "[I 2020-05-01 01:12:30,374] Finished trial#30 with value: 0.9375 with parameters: {'n_layers': 1, 'n_units_l0': 121, 'dropout_l0': 0.20255975139638083, 'optimizer': 'RMSprop', 'lr': 0.008548187320429976}. Best is trial#29 with value: 0.94609375.\n",
      "[I 2020-05-01 01:12:37,122] Finished trial#31 with value: 0.94609375 with parameters: {'n_layers': 1, 'n_units_l0': 109, 'dropout_l0': 0.26595543660509646, 'optimizer': 'RMSprop', 'lr': 0.002741470805775874}. Best is trial#29 with value: 0.94609375.\n",
      "[I 2020-05-01 01:12:42,845] Finished trial#32 with value: 0.94296875 with parameters: {'n_layers': 1, 'n_units_l0': 103, 'dropout_l0': 0.2664663353171366, 'optimizer': 'RMSprop', 'lr': 0.0033845774615627266}. Best is trial#29 with value: 0.94609375.\n",
      "[I 2020-05-01 01:12:48,376] Finished trial#33 with value: 0.94296875 with parameters: {'n_layers': 1, 'n_units_l0': 99, 'dropout_l0': 0.2647792903527597, 'optimizer': 'RMSprop', 'lr': 0.00401796999889604}. Best is trial#29 with value: 0.94609375.\n",
      "[I 2020-05-01 01:12:53,848] Finished trial#34 with value: 0.9203125 with parameters: {'n_layers': 1, 'n_units_l0': 88, 'dropout_l0': 0.3354635945317195, 'optimizer': 'RMSprop', 'lr': 0.0006712367479225332}. Best is trial#29 with value: 0.94609375.\n",
      "[I 2020-05-01 01:12:59,594] Finished trial#35 with value: 0.93984375 with parameters: {'n_layers': 1, 'n_units_l0': 108, 'dropout_l0': 0.37662117898984787, 'optimizer': 'RMSprop', 'lr': 0.00274435914664158}. Best is trial#29 with value: 0.94609375.\n",
      "[I 2020-05-01 01:13:04,656] Finished trial#36 with value: 0.9359375 with parameters: {'n_layers': 1, 'n_units_l0': 83, 'dropout_l0': 0.30613838785935393, 'optimizer': 'RMSprop', 'lr': 0.004966085097223284}. Best is trial#29 with value: 0.94609375.\n",
      "[I 2020-05-01 01:13:10,329] Finished trial#37 with value: 0.75546875 with parameters: {'n_layers': 1, 'n_units_l0': 98, 'dropout_l0': 0.33570746092277415, 'optimizer': 'SGD', 'lr': 0.010965160781468393}. Best is trial#29 with value: 0.94609375.\n",
      "[I 2020-05-01 01:13:15,667] Finished trial#38 with value: 0.9328125 with parameters: {'n_layers': 1, 'n_units_l0': 120, 'dropout_l0': 0.2174482010404402, 'optimizer': 'RMSprop', 'lr': 0.0008211036104050147}. Best is trial#29 with value: 0.94609375.\n",
      "[I 2020-05-01 01:13:21,076] Finished trial#39 with value: 0.896875 with parameters: {'n_layers': 1, 'n_units_l0': 111, 'dropout_l0': 0.3991018518346877, 'optimizer': 'RMSprop', 'lr': 0.04115858549170037}. Best is trial#29 with value: 0.94609375.\n",
      "[I 2020-05-01 01:13:26,349] Finished trial#40 with value: 0.6875 with parameters: {'n_layers': 1, 'n_units_l0': 67, 'dropout_l0': 0.23839569025145385, 'optimizer': 'SGD', 'lr': 0.006789954724517832}. Best is trial#29 with value: 0.94609375.\n",
      "[I 2020-05-01 01:13:31,689] Finished trial#41 with value: 0.94609375 with parameters: {'n_layers': 1, 'n_units_l0': 99, 'dropout_l0': 0.26852560300688455, 'optimizer': 'RMSprop', 'lr': 0.003641697449461651}. Best is trial#29 with value: 0.94609375.\n",
      "[I 2020-05-01 01:13:37,381] Finished trial#42 with value: 0.9484375 with parameters: {'n_layers': 1, 'n_units_l0': 99, 'dropout_l0': 0.26339632834221094, 'optimizer': 'RMSprop', 'lr': 0.003971914639708397}. Best is trial#42 with value: 0.9484375.\n",
      "[I 2020-05-01 01:13:42,681] Finished trial#43 with value: 0.9296875 with parameters: {'n_layers': 1, 'n_units_l0': 82, 'dropout_l0': 0.2938821440186801, 'optimizer': 'RMSprop', 'lr': 0.01198324328934823}. Best is trial#42 with value: 0.9484375.\n",
      "[I 2020-05-01 01:13:48,512] Finished trial#44 with value: 0.9125 with parameters: {'n_layers': 1, 'n_units_l0': 101, 'dropout_l0': 0.27775244290620776, 'optimizer': 'RMSprop', 'lr': 0.0223717032152368}. Best is trial#42 with value: 0.9484375.\n",
      "[I 2020-05-01 01:13:54,035] Finished trial#45 with value: 0.934375 with parameters: {'n_layers': 1, 'n_units_l0': 94, 'dropout_l0': 0.2444826767459757, 'optimizer': 'RMSprop', 'lr': 0.006293238562911391}. Best is trial#42 with value: 0.9484375.\n",
      "[I 2020-05-01 01:13:59,782] Finished trial#46 with value: 0.94296875 with parameters: {'n_layers': 1, 'n_units_l0': 110, 'dropout_l0': 0.32324086345331027, 'optimizer': 'RMSprop', 'lr': 0.0024619437589711787}. Best is trial#42 with value: 0.9484375.\n",
      "[I 2020-05-01 01:14:05,148] Finished trial#47 with value: 0.90703125 with parameters: {'n_layers': 1, 'n_units_l0': 121, 'dropout_l0': 0.2194962656252327, 'optimizer': 'RMSprop', 'lr': 0.00035514111570802607}. Best is trial#42 with value: 0.9484375.\n",
      "[I 2020-05-01 01:14:10,025] Finished trial#48 with value: 0.31953125 with parameters: {'n_layers': 1, 'n_units_l0': 106, 'dropout_l0': 0.2669056850874205, 'optimizer': 'SGD', 'lr': 0.0011523872381804534}. Best is trial#42 with value: 0.9484375.\n",
      "[I 2020-05-01 01:14:16,073] Finished trial#49 with value: 0.9390625 with parameters: {'n_layers': 1, 'n_units_l0': 75, 'dropout_l0': 0.36132810481993605, 'optimizer': 'RMSprop', 'lr': 0.0047884035801292425}. Best is trial#42 with value: 0.9484375.\n",
      "[I 2020-05-01 01:14:21,261] Finished trial#50 with value: 0.92734375 with parameters: {'n_layers': 1, 'n_units_l0': 88, 'dropout_l0': 0.25763451353382716, 'optimizer': 'RMSprop', 'lr': 0.015523375368179267}. Best is trial#42 with value: 0.9484375.\n",
      "[I 2020-05-01 01:14:26,443] Finished trial#51 with value: 0.94609375 with parameters: {'n_layers': 1, 'n_units_l0': 109, 'dropout_l0': 0.32529388465029574, 'optimizer': 'RMSprop', 'lr': 0.0023626123720992646}. Best is trial#42 with value: 0.9484375.\n",
      "[I 2020-05-01 01:14:31,976] Finished trial#52 with value: 0.93046875 with parameters: {'n_layers': 1, 'n_units_l0': 110, 'dropout_l0': 0.43598485637422196, 'optimizer': 'RMSprop', 'lr': 0.0019357525992250392}. Best is trial#42 with value: 0.9484375.\n",
      "[I 2020-05-01 01:14:38,152] Finished trial#53 with value: 0.9546875 with parameters: {'n_layers': 1, 'n_units_l0': 117, 'dropout_l0': 0.33666940899323733, 'optimizer': 'RMSprop', 'lr': 0.0028539230608814444}. Best is trial#53 with value: 0.9546875.\n",
      "[I 2020-05-01 01:14:44,003] Finished trial#54 with value: 0.91796875 with parameters: {'n_layers': 1, 'n_units_l0': 118, 'dropout_l0': 0.33328978370327045, 'optimizer': 'RMSprop', 'lr': 0.0004815604423716391}. Best is trial#53 with value: 0.9546875.\n",
      "[I 2020-05-01 01:14:49,575] Finished trial#55 with value: 0.95 with parameters: {'n_layers': 1, 'n_units_l0': 124, 'dropout_l0': 0.35626015563400804, 'optimizer': 'RMSprop', 'lr': 0.0030454150100510885}. Best is trial#53 with value: 0.9546875.\n",
      "[I 2020-05-01 01:14:56,070] Finished trial#56 with value: 0.94140625 with parameters: {'n_layers': 1, 'n_units_l0': 125, 'dropout_l0': 0.3566251052178547, 'optimizer': 'RMSprop', 'lr': 0.0013964513697356747}. Best is trial#53 with value: 0.9546875.\n",
      "[I 2020-05-01 01:15:01,492] Finished trial#57 with value: 0.9421875 with parameters: {'n_layers': 1, 'n_units_l0': 113, 'dropout_l0': 0.3709995284012043, 'optimizer': 'RMSprop', 'lr': 0.003463402691318134}. Best is trial#53 with value: 0.9546875.\n",
      "[I 2020-05-01 01:15:08,313] Finished trial#58 with value: 0.81640625 with parameters: {'n_layers': 1, 'n_units_l0': 20, 'dropout_l0': 0.34715234464790545, 'optimizer': 'RMSprop', 'lr': 0.0001948380322384238}. Best is trial#53 with value: 0.9546875.\n",
      "[I 2020-05-01 01:15:14,523] Finished trial#59 with value: 0.91640625 with parameters: {'n_layers': 1, 'n_units_l0': 123, 'dropout_l0': 0.3965008223413768, 'optimizer': 'RMSprop', 'lr': 0.0008301397954968094}. Best is trial#53 with value: 0.9546875.\n",
      "[I 2020-05-01 01:15:20,018] Finished trial#60 with value: 0.9359375 with parameters: {'n_layers': 1, 'n_units_l0': 118, 'dropout_l0': 0.31107129083266294, 'optimizer': 'RMSprop', 'lr': 0.0021849036714308985}. Best is trial#53 with value: 0.9546875.\n",
      "[I 2020-05-01 01:15:25,892] Finished trial#61 with value: 0.9484375 with parameters: {'n_layers': 1, 'n_units_l0': 104, 'dropout_l0': 0.3442109931218253, 'optimizer': 'RMSprop', 'lr': 0.0029162355786508305}. Best is trial#53 with value: 0.9546875.\n",
      "[I 2020-05-01 01:15:31,548] Finished trial#62 with value: 0.94296875 with parameters: {'n_layers': 1, 'n_units_l0': 105, 'dropout_l0': 0.34597440964774906, 'optimizer': 'RMSprop', 'lr': 0.0016675313802463384}. Best is trial#53 with value: 0.9546875.\n",
      "[I 2020-05-01 01:15:37,002] Finished trial#63 with value: 0.93984375 with parameters: {'n_layers': 1, 'n_units_l0': 97, 'dropout_l0': 0.364558532311439, 'optimizer': 'RMSprop', 'lr': 0.0068306008460860025}. Best is trial#53 with value: 0.9546875.\n",
      "[I 2020-05-01 01:15:44,184] Finished trial#64 with value: 0.946875 with parameters: {'n_layers': 1, 'n_units_l0': 128, 'dropout_l0': 0.39143798292580734, 'optimizer': 'RMSprop', 'lr': 0.0024441751832272344}. Best is trial#53 with value: 0.9546875.\n",
      "[I 2020-05-01 01:15:49,477] Finished trial#65 with value: 0.95 with parameters: {'n_layers': 1, 'n_units_l0': 102, 'dropout_l0': 0.392674533118129, 'optimizer': 'RMSprop', 'lr': 0.0043418811712742904}. Best is trial#53 with value: 0.9546875.\n",
      "[I 2020-05-01 01:15:56,381] Finished trial#66 with value: 0.946875 with parameters: {'n_layers': 1, 'n_units_l0': 127, 'dropout_l0': 0.4180999807851722, 'optimizer': 'RMSprop', 'lr': 0.005091906903986825}. Best is trial#53 with value: 0.9546875.\n",
      "[I 2020-05-01 01:16:02,532] Finished trial#67 with value: 0.94765625 with parameters: {'n_layers': 1, 'n_units_l0': 124, 'dropout_l0': 0.4139077089063306, 'optimizer': 'RMSprop', 'lr': 0.004843164020819306}. Best is trial#53 with value: 0.9546875.\n",
      "[I 2020-05-01 01:16:08,944] Finished trial#68 with value: 0.9421875 with parameters: {'n_layers': 1, 'n_units_l0': 128, 'dropout_l0': 0.39293220537418705, 'optimizer': 'RMSprop', 'lr': 0.00835567451854836}. Best is trial#53 with value: 0.9546875.\n",
      "[I 2020-05-01 01:16:14,570] Finished trial#69 with value: 0.94375 with parameters: {'n_layers': 1, 'n_units_l0': 117, 'dropout_l0': 0.4124488632400037, 'optimizer': 'RMSprop', 'lr': 0.005312238532434557}. Best is trial#53 with value: 0.9546875.\n",
      "[I 2020-05-01 01:16:21,310] Finished trial#70 with value: 0.91484375 with parameters: {'n_layers': 1, 'n_units_l0': 41, 'dropout_l0': 0.4177553449089818, 'optimizer': 'RMSprop', 'lr': 0.013840667724714853}. Best is trial#53 with value: 0.9546875.\n",
      "[I 2020-05-01 01:16:28,159] Finished trial#71 with value: 0.94453125 with parameters: {'n_layers': 1, 'n_units_l0': 128, 'dropout_l0': 0.408933215849227, 'optimizer': 'RMSprop', 'lr': 0.0047977260560724865}. Best is trial#53 with value: 0.9546875.\n",
      "[I 2020-05-01 01:16:35,132] Finished trial#72 with value: 0.93828125 with parameters: {'n_layers': 1, 'n_units_l0': 128, 'dropout_l0': 0.43318077561191026, 'optimizer': 'RMSprop', 'lr': 0.009184179861056643}. Best is trial#53 with value: 0.9546875.\n",
      "[I 2020-05-01 01:16:40,623] Finished trial#73 with value: 0.934375 with parameters: {'n_layers': 1, 'n_units_l0': 124, 'dropout_l0': 0.38936969014097866, 'optimizer': 'RMSprop', 'lr': 0.004061793274519166}. Best is trial#53 with value: 0.9546875.\n",
      "[I 2020-05-01 01:16:46,153] Finished trial#74 with value: 0.934375 with parameters: {'n_layers': 1, 'n_units_l0': 114, 'dropout_l0': 0.45482920921335157, 'optimizer': 'RMSprop', 'lr': 0.0018052241324874399}. Best is trial#53 with value: 0.9546875.\n",
      "[I 2020-05-01 01:16:51,935] Finished trial#75 with value: 0.9390625 with parameters: {'n_layers': 1, 'n_units_l0': 103, 'dropout_l0': 0.3828303960720875, 'optimizer': 'RMSprop', 'lr': 0.007604942692733188}. Best is trial#53 with value: 0.9546875.\n",
      "[I 2020-05-01 01:16:57,249] Finished trial#76 with value: 0.9453125 with parameters: {'n_layers': 1, 'n_units_l0': 113, 'dropout_l0': 0.4251760536491838, 'optimizer': 'RMSprop', 'lr': 0.002838272378964299}. Best is trial#53 with value: 0.9546875.\n",
      "[I 2020-05-01 01:17:02,413] Finished trial#77 with value: 0.590625 with parameters: {'n_layers': 1, 'n_units_l0': 123, 'dropout_l0': 0.4460173574073427, 'optimizer': 'SGD', 'lr': 0.003984758930273791}. Best is trial#53 with value: 0.9546875.\n",
      "[I 2020-05-01 01:17:08,030] Finished trial#78 with value: 0.94140625 with parameters: {'n_layers': 1, 'n_units_l0': 119, 'dropout_l0': 0.37204473397350896, 'optimizer': 'RMSprop', 'lr': 0.0014266150344004298}. Best is trial#53 with value: 0.9546875.\n",
      "[I 2020-05-01 01:17:13,377] Finished trial#79 with value: 0.94765625 with parameters: {'n_layers': 1, 'n_units_l0': 92, 'dropout_l0': 0.4068592295151818, 'optimizer': 'RMSprop', 'lr': 0.005693304246803467}. Best is trial#53 with value: 0.9546875.\n",
      "[I 2020-05-01 01:17:18,586] Finished trial#80 with value: 0.90078125 with parameters: {'n_layers': 3, 'n_units_l0': 93, 'dropout_l0': 0.40362382108276745, 'n_units_l1': 30, 'dropout_l1': 0.41556275161818723, 'n_units_l2': 7, 'dropout_l2': 0.26295332661917875, 'optimizer': 'RMSprop', 'lr': 0.0030063166776223608}. Best is trial#53 with value: 0.9546875.\n",
      "[I 2020-05-01 01:17:24,087] Finished trial#81 with value: 0.9265625 with parameters: {'n_layers': 1, 'n_units_l0': 90, 'dropout_l0': 0.38855702766243644, 'optimizer': 'RMSprop', 'lr': 0.005979828458541412}. Best is trial#53 with value: 0.9546875.\n",
      "[I 2020-05-01 01:17:29,317] Finished trial#82 with value: 0.93671875 with parameters: {'n_layers': 1, 'n_units_l0': 85, 'dropout_l0': 0.42183152453985234, 'optimizer': 'RMSprop', 'lr': 0.004516367347060173}. Best is trial#53 with value: 0.9546875.\n",
      "[I 2020-05-01 01:17:34,446] Finished trial#83 with value: 0.91953125 with parameters: {'n_layers': 1, 'n_units_l0': 106, 'dropout_l0': 0.4666773764093385, 'optimizer': 'RMSprop', 'lr': 0.020645563464889303}. Best is trial#53 with value: 0.9546875.\n",
      "[I 2020-05-01 01:17:40,739] Finished trial#84 with value: 0.92890625 with parameters: {'n_layers': 1, 'n_units_l0': 102, 'dropout_l0': 0.4043152466573731, 'optimizer': 'RMSprop', 'lr': 0.010910427147290031}. Best is trial#53 with value: 0.9546875.\n",
      "[I 2020-05-01 01:17:47,791] Finished trial#85 with value: 0.94375 with parameters: {'n_layers': 1, 'n_units_l0': 128, 'dropout_l0': 0.3413075733126, 'optimizer': 'RMSprop', 'lr': 0.003407696099308918}. Best is trial#53 with value: 0.9546875.\n",
      "[I 2020-05-01 01:17:52,740] Finished trial#86 with value: 0.94140625 with parameters: {'n_layers': 1, 'n_units_l0': 79, 'dropout_l0': 0.443032758520829, 'optimizer': 'RMSprop', 'lr': 0.005643108737236022}. Best is trial#53 with value: 0.9546875.\n",
      "[I 2020-05-01 01:17:56,990] Finished trial#87 with value: 0.9296875 with parameters: {'n_layers': 1, 'n_units_l0': 113, 'dropout_l0': 0.4121917731406595, 'optimizer': 'RMSprop', 'lr': 0.0010101330565924944}. Best is trial#53 with value: 0.9546875.\n",
      "[I 2020-05-01 01:18:01,149] Finished trial#88 with value: 0.91640625 with parameters: {'n_layers': 1, 'n_units_l0': 67, 'dropout_l0': 0.3801621294323131, 'optimizer': 'RMSprop', 'lr': 0.002234908157948316}. Best is trial#53 with value: 0.9546875.\n",
      "[I 2020-05-01 01:18:05,485] Finished trial#89 with value: 0.94296875 with parameters: {'n_layers': 1, 'n_units_l0': 121, 'dropout_l0': 0.36560809775986647, 'optimizer': 'RMSprop', 'lr': 0.008343424106773929}. Best is trial#53 with value: 0.9546875.\n",
      "[I 2020-05-01 01:18:09,777] Finished trial#90 with value: 0.93984375 with parameters: {'n_layers': 1, 'n_units_l0': 97, 'dropout_l0': 0.35490284408375666, 'optimizer': 'RMSprop', 'lr': 0.0031749022388327906}. Best is trial#53 with value: 0.9546875.\n",
      "[I 2020-05-01 01:18:14,092] Finished trial#91 with value: 0.93515625 with parameters: {'n_layers': 1, 'n_units_l0': 125, 'dropout_l0': 0.4168347005761551, 'optimizer': 'RMSprop', 'lr': 0.0026445518952249994}. Best is trial#53 with value: 0.9546875.\n",
      "[I 2020-05-01 01:18:18,325] Finished trial#92 with value: 0.94140625 with parameters: {'n_layers': 1, 'n_units_l0': 120, 'dropout_l0': 0.406322499249671, 'optimizer': 'RMSprop', 'lr': 0.0019862374014424414}. Best is trial#53 with value: 0.9546875.\n",
      "[I 2020-05-01 01:18:22,538] Finished trial#93 with value: 0.9359375 with parameters: {'n_layers': 1, 'n_units_l0': 101, 'dropout_l0': 0.42627567877224376, 'optimizer': 'RMSprop', 'lr': 0.0037114974609518264}. Best is trial#53 with value: 0.9546875.\n",
      "[I 2020-05-01 01:18:26,768] Finished trial#94 with value: 0.940625 with parameters: {'n_layers': 1, 'n_units_l0': 109, 'dropout_l0': 0.33093880277725385, 'optimizer': 'RMSprop', 'lr': 0.005138241099885017}. Best is trial#53 with value: 0.9546875.\n",
      "[I 2020-05-01 01:18:31,018] Finished trial#95 with value: 0.9375 with parameters: {'n_layers': 1, 'n_units_l0': 116, 'dropout_l0': 0.3968730339909703, 'optimizer': 'RMSprop', 'lr': 0.0013455481712299695}. Best is trial#53 with value: 0.9546875.\n",
      "[I 2020-05-01 01:18:35,092] Finished trial#96 with value: 0.69921875 with parameters: {'n_layers': 1, 'n_units_l0': 95, 'dropout_l0': 0.37633142090800553, 'optimizer': 'SGD', 'lr': 0.006919493827491434}. Best is trial#53 with value: 0.9546875.\n",
      "[I 2020-05-01 01:18:39,320] Finished trial#97 with value: 0.93671875 with parameters: {'n_layers': 1, 'n_units_l0': 110, 'dropout_l0': 0.3267146252328837, 'optimizer': 'RMSprop', 'lr': 0.0023768135950379306}. Best is trial#53 with value: 0.9546875.\n",
      "[I 2020-05-01 01:18:43,577] Finished trial#98 with value: 0.940625 with parameters: {'n_layers': 1, 'n_units_l0': 122, 'dropout_l0': 0.31602837942159284, 'optimizer': 'RMSprop', 'lr': 0.002910776596867106}. Best is trial#53 with value: 0.9546875.\n",
      "[I 2020-05-01 01:18:47,804] Finished trial#99 with value: 0.93984375 with parameters: {'n_layers': 1, 'n_units_l0': 106, 'dropout_l0': 0.3002969925163483, 'optimizer': 'RMSprop', 'lr': 0.0016936792189816312}. Best is trial#53 with value: 0.9546875.\n"
     ]
    },
    {
     "name": "stdout",
     "output_type": "stream",
     "text": [
      "Number of finished trials:  100\n",
      "Best trial:\n",
      "  Value:  0.9546875\n",
      "  Params: \n",
      "    n_layers: 1\n",
      "    n_units_l0: 117\n",
      "    dropout_l0: 0.33666940899323733\n",
      "    optimizer: RMSprop\n",
      "    lr: 0.0028539230608814444\n"
     ]
    }
   ],
   "source": [
    "study = optuna.create_study(direction=\"maximize\")\n",
    "study.optimize(objective, n_trials=100)\n",
    "\n",
    "print(\"Number of finished trials: \", len(study.trials))\n",
    "\n",
    "print(\"Best trial:\")\n",
    "trial = study.best_trial\n",
    "\n",
    "print(\"  Value: \", trial.value)\n",
    "\n",
    "print(\"  Params: \")\n",
    "for key, value in trial.params.items():\n",
    "    print(\"    {}: {}\".format(key, value))"
   ]
  },
  {
   "cell_type": "code",
   "execution_count": null,
   "metadata": {},
   "outputs": [],
   "source": []
  }
 ],
 "metadata": {
  "kernelspec": {
   "display_name": "Python 3",
   "language": "python",
   "name": "python3"
  },
  "language_info": {
   "codemirror_mode": {
    "name": "ipython",
    "version": 3
   },
   "file_extension": ".py",
   "mimetype": "text/x-python",
   "name": "python",
   "nbconvert_exporter": "python",
   "pygments_lexer": "ipython3",
   "version": "3.7.4"
  }
 },
 "nbformat": 4,
 "nbformat_minor": 4
}
