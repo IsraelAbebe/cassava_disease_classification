{
 "cells": [
  {
   "cell_type": "markdown",
   "metadata": {
    "colab_type": "text",
    "id": "jF8ZoVrwt0n0"
   },
   "source": [
    "# SimCLR\n",
    "PyTorch implementation of SimCLR: A Simple Framework for Contrastive Learning of Visual Representations by T. Chen et al. With support for the LARS (Layer-wise Adaptive Rate Scaling) optimizer.\n",
    "\n",
    "[Link to paper](https://arxiv.org/pdf/2002.05709.pdf)\n"
   ]
  },
  {
   "cell_type": "markdown",
   "metadata": {
    "colab_type": "text",
    "id": "Lt6WMxjCvN3o"
   },
   "source": [
    "## Setup the repository"
   ]
  },
  {
   "cell_type": "code",
   "execution_count": 1,
   "metadata": {},
   "outputs": [
    {
     "name": "stdout",
     "output_type": "stream",
     "text": [
      "Requirement already satisfied: pretrainedmodels in /usr/local/lib/python3.6/dist-packages (0.7.4)\n",
      "Requirement already satisfied: munch in /usr/local/lib/python3.6/dist-packages (from pretrainedmodels) (2.5.0)\n",
      "Requirement already satisfied: tqdm in /usr/local/lib/python3.6/dist-packages (from pretrainedmodels) (4.41.1)\n",
      "Requirement already satisfied: torch in /usr/local/lib/python3.6/dist-packages (from pretrainedmodels) (1.5.0+cu101)\n",
      "Requirement already satisfied: torchvision in /usr/local/lib/python3.6/dist-packages (from pretrainedmodels) (0.6.0+cu101)\n",
      "Requirement already satisfied: six in /usr/local/lib/python3.6/dist-packages (from munch->pretrainedmodels) (1.12.0)\n",
      "Requirement already satisfied: future in /usr/local/lib/python3.6/dist-packages (from torch->pretrainedmodels) (0.16.0)\n",
      "Requirement already satisfied: numpy in /usr/local/lib/python3.6/dist-packages (from torch->pretrainedmodels) (1.18.4)\n",
      "Requirement already satisfied: pillow>=4.1.1 in /usr/local/lib/python3.6/dist-packages (from torchvision->pretrainedmodels) (7.0.0)\n"
     ]
    }
   ],
   "source": [
    "!pip install pretrainedmodels\n",
    "\n",
    "# !git clone https://github.com/spijkervet/SimCLR.git\n",
    "# %cd SimCLR\n",
    "# !wget https://github.com/Spijkervet/SimCLR/releases/download/1.2/checkpoint_100.tar\n",
    "# !sh setup.sh || python3 -m pip install -r requirements.txt || exit 1\n",
    "# !pip install  pyyaml --upgrade"
   ]
  },
  {
   "cell_type": "code",
   "execution_count": 2,
   "metadata": {
    "colab": {
     "base_uri": "https://localhost:8080/",
     "height": 1000
    },
    "colab_type": "code",
    "id": "53JMIYtat8tT",
    "outputId": "82df4c10-ad67-4917-8963-43ee477f666b"
   },
   "outputs": [
    {
     "name": "stdout",
     "output_type": "stream",
     "text": [
      "/root/cassava_disease_classification/salomon_exp/SimCLR-1\n",
      "setup.sh: 2: setup.sh: conda: not found\n",
      "setup.sh: 2: setup.sh: conda: not found\n",
      "Requirement already satisfied: torch in /usr/local/lib/python3.6/dist-packages (from -r requirements.txt (line 1)) (1.5.0+cu101)\n",
      "Requirement already satisfied: torchvision in /usr/local/lib/python3.6/dist-packages (from -r requirements.txt (line 2)) (0.6.0+cu101)\n",
      "Requirement already satisfied: tensorboard in /usr/local/lib/python3.6/dist-packages (from -r requirements.txt (line 3)) (2.2.1)\n",
      "Collecting sacred\n",
      "\u001b[?25l  Downloading https://files.pythonhosted.org/packages/f9/7f/c5679977f1eceac432c59cc92bd1ddb7272c282c3db8eb846d0e1c03b6a0/sacred-0.8.1.tar.gz (90kB)\n",
      "\u001b[K     |████████████████████████████████| 92kB 3.6MB/s eta 0:00:011\n",
      "\u001b[?25hRequirement already satisfied: PyYAML in /usr/local/lib/python3.6/dist-packages (from -r requirements.txt (line 5)) (3.13)\n",
      "Requirement already satisfied: numpy in /usr/local/lib/python3.6/dist-packages (from torch->-r requirements.txt (line 1)) (1.18.4)\n",
      "Requirement already satisfied: future in /usr/local/lib/python3.6/dist-packages (from torch->-r requirements.txt (line 1)) (0.16.0)\n",
      "Requirement already satisfied: pillow>=4.1.1 in /usr/local/lib/python3.6/dist-packages (from torchvision->-r requirements.txt (line 2)) (7.0.0)\n",
      "Requirement already satisfied: markdown>=2.6.8 in /usr/local/lib/python3.6/dist-packages (from tensorboard->-r requirements.txt (line 3)) (3.2.1)\n",
      "Requirement already satisfied: absl-py>=0.4 in /usr/local/lib/python3.6/dist-packages (from tensorboard->-r requirements.txt (line 3)) (0.9.0)\n",
      "Requirement already satisfied: setuptools>=41.0.0 in /usr/local/lib/python3.6/dist-packages (from tensorboard->-r requirements.txt (line 3)) (46.1.3)\n",
      "Requirement already satisfied: google-auth<2,>=1.6.3 in /usr/local/lib/python3.6/dist-packages (from tensorboard->-r requirements.txt (line 3)) (1.7.2)\n",
      "Requirement already satisfied: six>=1.10.0 in /usr/local/lib/python3.6/dist-packages (from tensorboard->-r requirements.txt (line 3)) (1.12.0)\n",
      "Requirement already satisfied: werkzeug>=0.11.15 in /usr/local/lib/python3.6/dist-packages (from tensorboard->-r requirements.txt (line 3)) (1.0.1)\n",
      "Requirement already satisfied: wheel>=0.26; python_version >= \"3\" in /usr/local/lib/python3.6/dist-packages (from tensorboard->-r requirements.txt (line 3)) (0.34.2)\n",
      "Requirement already satisfied: grpcio>=1.24.3 in /usr/local/lib/python3.6/dist-packages (from tensorboard->-r requirements.txt (line 3)) (1.28.1)\n",
      "Requirement already satisfied: google-auth-oauthlib<0.5,>=0.4.1 in /usr/local/lib/python3.6/dist-packages (from tensorboard->-r requirements.txt (line 3)) (0.4.1)\n",
      "Requirement already satisfied: tensorboard-plugin-wit>=1.6.0 in /usr/local/lib/python3.6/dist-packages (from tensorboard->-r requirements.txt (line 3)) (1.6.0.post3)\n",
      "Requirement already satisfied: protobuf>=3.6.0 in /usr/local/lib/python3.6/dist-packages (from tensorboard->-r requirements.txt (line 3)) (3.10.0)\n",
      "Requirement already satisfied: requests<3,>=2.21.0 in /usr/local/lib/python3.6/dist-packages (from tensorboard->-r requirements.txt (line 3)) (2.23.0)\n",
      "Requirement already satisfied: docopt<1.0,>=0.3 in /usr/local/lib/python3.6/dist-packages (from sacred->-r requirements.txt (line 4)) (0.6.2)\n",
      "Collecting jsonpickle<2.0,>=1.2\n",
      "  Downloading https://files.pythonhosted.org/packages/af/ca/4fee219cc4113a5635e348ad951cf8a2e47fed2e3342312493f5b73d0007/jsonpickle-1.4.1-py2.py3-none-any.whl\n",
      "Requirement already satisfied: munch<3.0,>=2.0.2 in /usr/local/lib/python3.6/dist-packages (from sacred->-r requirements.txt (line 4)) (2.5.0)\n",
      "Requirement already satisfied: wrapt<2.0,>=1.0 in /usr/local/lib/python3.6/dist-packages (from sacred->-r requirements.txt (line 4)) (1.12.1)\n",
      "Collecting py-cpuinfo>=4.0\n",
      "\u001b[?25l  Downloading https://files.pythonhosted.org/packages/42/60/63f28a5401da733043abe7053e7d9591491b4784c4f87c339bf51215aa0a/py-cpuinfo-5.0.0.tar.gz (82kB)\n",
      "\u001b[K     |████████████████████████████████| 92kB 5.1MB/s eta 0:00:011\n",
      "\u001b[?25hCollecting colorama>=0.4\n",
      "  Downloading https://files.pythonhosted.org/packages/c9/dc/45cdef1b4d119eb96316b3117e6d5708a08029992b2fee2c143c7a0a5cc5/colorama-0.4.3-py2.py3-none-any.whl\n",
      "Requirement already satisfied: packaging>=18.0 in /usr/local/lib/python3.6/dist-packages (from sacred->-r requirements.txt (line 4)) (20.3)\n",
      "Collecting GitPython\n",
      "\u001b[?25l  Downloading https://files.pythonhosted.org/packages/44/33/917e6fde1cad13daa7053f39b7c8af3be287314f75f1b1ea8d3fe37a8571/GitPython-3.1.2-py3-none-any.whl (451kB)\n",
      "\u001b[K     |████████████████████████████████| 460kB 8.6MB/s eta 0:00:01\n",
      "\u001b[?25hRequirement already satisfied: pyasn1-modules>=0.2.1 in /usr/local/lib/python3.6/dist-packages (from google-auth<2,>=1.6.3->tensorboard->-r requirements.txt (line 3)) (0.2.8)\n",
      "Requirement already satisfied: rsa<4.1,>=3.1.4 in /usr/local/lib/python3.6/dist-packages (from google-auth<2,>=1.6.3->tensorboard->-r requirements.txt (line 3)) (4.0)\n",
      "Requirement already satisfied: cachetools<3.2,>=2.0.0 in /usr/local/lib/python3.6/dist-packages (from google-auth<2,>=1.6.3->tensorboard->-r requirements.txt (line 3)) (3.1.1)\n",
      "Requirement already satisfied: requests-oauthlib>=0.7.0 in /usr/local/lib/python3.6/dist-packages (from google-auth-oauthlib<0.5,>=0.4.1->tensorboard->-r requirements.txt (line 3)) (1.3.0)\n",
      "Requirement already satisfied: chardet<4,>=3.0.2 in /usr/local/lib/python3.6/dist-packages (from requests<3,>=2.21.0->tensorboard->-r requirements.txt (line 3)) (3.0.4)\n",
      "Requirement already satisfied: idna<3,>=2.5 in /usr/local/lib/python3.6/dist-packages (from requests<3,>=2.21.0->tensorboard->-r requirements.txt (line 3)) (2.9)\n",
      "Requirement already satisfied: urllib3!=1.25.0,!=1.25.1,<1.26,>=1.21.1 in /usr/local/lib/python3.6/dist-packages (from requests<3,>=2.21.0->tensorboard->-r requirements.txt (line 3)) (1.24.3)\n",
      "Requirement already satisfied: certifi>=2017.4.17 in /usr/local/lib/python3.6/dist-packages (from requests<3,>=2.21.0->tensorboard->-r requirements.txt (line 3)) (2020.4.5.1)\n",
      "Requirement already satisfied: importlib-metadata in /usr/local/lib/python3.6/dist-packages (from jsonpickle<2.0,>=1.2->sacred->-r requirements.txt (line 4)) (1.6.0)\n",
      "Requirement already satisfied: pyparsing>=2.0.2 in /usr/local/lib/python3.6/dist-packages (from packaging>=18.0->sacred->-r requirements.txt (line 4)) (2.4.7)\n",
      "Collecting gitdb<5,>=4.0.1\n",
      "\u001b[?25l  Downloading https://files.pythonhosted.org/packages/48/11/d1800bca0a3bae820b84b7d813ad1eff15a48a64caea9c823fc8c1b119e8/gitdb-4.0.5-py3-none-any.whl (63kB)\n",
      "\u001b[K     |████████████████████████████████| 71kB 7.8MB/s  eta 0:00:01\n",
      "\u001b[?25hRequirement already satisfied: pyasn1<0.5.0,>=0.4.6 in /usr/local/lib/python3.6/dist-packages (from pyasn1-modules>=0.2.1->google-auth<2,>=1.6.3->tensorboard->-r requirements.txt (line 3)) (0.4.8)\n",
      "Requirement already satisfied: oauthlib>=3.0.0 in /usr/local/lib/python3.6/dist-packages (from requests-oauthlib>=0.7.0->google-auth-oauthlib<0.5,>=0.4.1->tensorboard->-r requirements.txt (line 3)) (3.1.0)\n",
      "Requirement already satisfied: zipp>=0.5 in /usr/local/lib/python3.6/dist-packages (from importlib-metadata->jsonpickle<2.0,>=1.2->sacred->-r requirements.txt (line 4)) (3.1.0)\n",
      "Collecting smmap<4,>=3.0.1\n",
      "  Downloading https://files.pythonhosted.org/packages/b0/9a/4d409a6234eb940e6a78dfdfc66156e7522262f5f2fecca07dc55915952d/smmap-3.0.4-py2.py3-none-any.whl\n",
      "Building wheels for collected packages: sacred, py-cpuinfo\n",
      "  Building wheel for sacred (setup.py) ... \u001b[?25l\u001b[?25hdone\n",
      "  Created wheel for sacred: filename=sacred-0.8.1-py2.py3-none-any.whl size=105018 sha256=f9f645fb8cb0397cf422eb6285c188d685b603bb42b4daa63bf84fde626203c6\n",
      "  Stored in directory: /root/.cache/pip/wheels/11/a8/f6/1d5f073245cb0a221962713adf81e56c1c9608083f85ecac9b\n",
      "  Building wheel for py-cpuinfo (setup.py) ... \u001b[?25l\u001b[?25hdone\n",
      "  Created wheel for py-cpuinfo: filename=py_cpuinfo-5.0.0-cp36-none-any.whl size=18684 sha256=eda9f224671e5eb7ac246e9b90d711d54f171c3b324fadf99eab11f37d853730\n",
      "  Stored in directory: /root/.cache/pip/wheels/01/7e/a9/b982d0fea22b7e4ae5619de949570cde5ad55420cec16e86a5\n",
      "Successfully built sacred py-cpuinfo\n",
      "Installing collected packages: jsonpickle, py-cpuinfo, colorama, smmap, gitdb, GitPython, sacred\n",
      "Successfully installed GitPython-3.1.2 colorama-0.4.3 gitdb-4.0.5 jsonpickle-1.4.1 py-cpuinfo-5.0.0 sacred-0.8.1 smmap-3.0.4\n",
      "Collecting pyyaml\n",
      "\u001b[?25l  Downloading https://files.pythonhosted.org/packages/64/c2/b80047c7ac2478f9501676c988a5411ed5572f35d1beff9cae07d321512c/PyYAML-5.3.1.tar.gz (269kB)\n",
      "\u001b[K     |████████████████████████████████| 276kB 4.8MB/s eta 0:00:01\n",
      "\u001b[?25hBuilding wheels for collected packages: pyyaml\n",
      "  Building wheel for pyyaml (setup.py) ... \u001b[?25l\u001b[?25hdone\n",
      "  Created wheel for pyyaml: filename=PyYAML-5.3.1-cp36-cp36m-linux_x86_64.whl size=44621 sha256=c644fc1d5a35667c94067796d36d496b63ab65ede2ebe78dcf3495139e1e1aa9\n",
      "  Stored in directory: /root/.cache/pip/wheels/a7/c1/ea/cf5bd31012e735dc1dfea3131a2d5eae7978b251083d6247bd\n",
      "Successfully built pyyaml\n",
      "Installing collected packages: pyyaml\n",
      "  Found existing installation: PyYAML 3.13\n",
      "    Uninstalling PyYAML-3.13:\n",
      "      Successfully uninstalled PyYAML-3.13\n",
      "Successfully installed pyyaml-5.3.1\n"
     ]
    }
   ],
   "source": [
    "# !git clone https://github.com/Kabongosalomon/SimCLR-1.git\n",
    "%cd SimCLR-1\n",
    "# !wget https://github.com/Spijkervet/SimCLR/releases/download/1.2/checkpoint_100.tar\n",
    "!sh setup.sh || python3 -m pip install -r requirements.txt || exit 1\n",
    "!pip install  pyyaml --upgrade"
   ]
  },
  {
   "cell_type": "code",
   "execution_count": 4,
   "metadata": {},
   "outputs": [
    {
     "name": "stdout",
     "output_type": "stream",
     "text": [
      "Collecting ipdb\n",
      "  Downloading https://files.pythonhosted.org/packages/2c/bb/a3e1a441719ebd75c6dac8170d3ddba884b7ee8a5c0f9aefa7297386627a/ipdb-0.13.2.tar.gz\n",
      "Requirement already satisfied: setuptools in /usr/local/lib/python3.6/dist-packages (from ipdb) (46.1.3)\n",
      "Requirement already satisfied: ipython>=5.1.0 in /usr/local/lib/python3.6/dist-packages (from ipdb) (5.5.0)\n",
      "Requirement already satisfied: simplegeneric>0.8 in /usr/local/lib/python3.6/dist-packages (from ipython>=5.1.0->ipdb) (0.8.1)\n",
      "Requirement already satisfied: decorator in /usr/local/lib/python3.6/dist-packages (from ipython>=5.1.0->ipdb) (4.4.2)\n",
      "Requirement already satisfied: traitlets>=4.2 in /usr/local/lib/python3.6/dist-packages (from ipython>=5.1.0->ipdb) (4.3.3)\n",
      "Requirement already satisfied: pygments in /usr/local/lib/python3.6/dist-packages (from ipython>=5.1.0->ipdb) (2.1.3)\n",
      "Requirement already satisfied: pickleshare in /usr/local/lib/python3.6/dist-packages (from ipython>=5.1.0->ipdb) (0.7.5)\n",
      "Requirement already satisfied: pexpect; sys_platform != \"win32\" in /usr/local/lib/python3.6/dist-packages (from ipython>=5.1.0->ipdb) (4.8.0)\n",
      "Requirement already satisfied: prompt-toolkit<2.0.0,>=1.0.4 in /usr/local/lib/python3.6/dist-packages (from ipython>=5.1.0->ipdb) (1.0.18)\n",
      "Requirement already satisfied: ipython-genutils in /usr/local/lib/python3.6/dist-packages (from traitlets>=4.2->ipython>=5.1.0->ipdb) (0.2.0)\n",
      "Requirement already satisfied: six in /usr/local/lib/python3.6/dist-packages (from traitlets>=4.2->ipython>=5.1.0->ipdb) (1.12.0)\n",
      "Requirement already satisfied: ptyprocess>=0.5 in /usr/local/lib/python3.6/dist-packages (from pexpect; sys_platform != \"win32\"->ipython>=5.1.0->ipdb) (0.6.0)\n",
      "Requirement already satisfied: wcwidth in /usr/local/lib/python3.6/dist-packages (from prompt-toolkit<2.0.0,>=1.0.4->ipython>=5.1.0->ipdb) (0.1.9)\n",
      "Building wheels for collected packages: ipdb\n",
      "  Building wheel for ipdb (setup.py) ... \u001b[?25l\u001b[?25hdone\n",
      "  Created wheel for ipdb: filename=ipdb-0.13.2-cp36-none-any.whl size=10522 sha256=e711772779a8f4f3aca85b1e0acaec0331b456888232a3ad5708a1a0a801dc67\n",
      "  Stored in directory: /root/.cache/pip/wheels/60/c2/15/793365e3c9318c46ba914263740d90f1fe67f544b979141ce4\n",
      "Successfully built ipdb\n",
      "Installing collected packages: ipdb\n",
      "Successfully installed ipdb-0.13.2\n"
     ]
    }
   ],
   "source": [
    "!pip install ipdb\n",
    "import ipdb\n",
    "\n",
    "import torch\n",
    "import torchvision\n",
    "import torchvision.transforms as transforms\n",
    "import argparse\n",
    "\n",
    "# from experiment import ex\n",
    "from model import load_model\n",
    "from utils import post_config_hook\n",
    "\n",
    "from modules import LogisticRegression\n",
    "\n",
    "from torch.utils.data import Dataset, DataLoader\n",
    "from torch.utils.data.sampler import SubsetRandomSampler\n",
    "import glob\n",
    "import numpy as np\n",
    "\n",
    "from torchvision import transforms, datasets, models\n",
    "\n",
    "\n",
    "from PIL import Image"
   ]
  },
  {
   "cell_type": "markdown",
   "metadata": {
    "colab_type": "text",
    "id": "fQ3jq3cWynLf"
   },
   "source": [
    "# Part 1:\n",
    "## SimCLR pre-training"
   ]
  },
  {
   "cell_type": "code",
   "execution_count": 5,
   "metadata": {
    "colab": {},
    "colab_type": "code",
    "id": "0jhAv3hv8IHn"
   },
   "outputs": [],
   "source": [
    "# whether to use a TPU or not (set in Runtime -> Change Runtime Type)\n",
    "use_tpu = False"
   ]
  },
  {
   "cell_type": "markdown",
   "metadata": {
    "colab_type": "text",
    "id": "bwW10d2O7pn8"
   },
   "source": [
    "#### Install PyTorch/XLA"
   ]
  },
  {
   "cell_type": "code",
   "execution_count": 6,
   "metadata": {
    "colab": {},
    "colab_type": "code",
    "id": "Vj84aiC27oxS"
   },
   "outputs": [],
   "source": [
    "if use_tpu:\n",
    "    VERSION = \"20200220\" #@param [\"20200220\",\"nightly\", \"xrt==1.15.0\"]\n",
    "    !curl https://raw.githubusercontent.com/pytorch/xla/master/contrib/scripts/env-setup.py -o pytorch-xla-env-setup.py\n",
    "    !python pytorch-xla-env-setup.py --version $VERSION"
   ]
  },
  {
   "cell_type": "code",
   "execution_count": 7,
   "metadata": {
    "colab": {
     "base_uri": "https://localhost:8080/",
     "height": 34
    },
    "colab_type": "code",
    "id": "oNDRcPbbymlX",
    "outputId": "383ea8ab-6aaf-40fd-8e59-57ee443371ed"
   },
   "outputs": [
    {
     "name": "stdout",
     "output_type": "stream",
     "text": [
      "Install the apex package from https://www.github.com/nvidia/apex to use fp16 for training\n"
     ]
    }
   ],
   "source": [
    "import os\n",
    "import torch\n",
    "\n",
    "if use_tpu:\n",
    "    # imports the torch_xla package for TPU support\n",
    "    import torch_xla\n",
    "    import torch_xla.core.xla_model as xm\n",
    "    dev = xm.xla_device()\n",
    "    print(dev)\n",
    "\n",
    "import torchvision\n",
    "import argparse\n",
    "\n",
    "from torch.utils.tensorboard import SummaryWriter\n",
    "\n",
    "apex = False\n",
    "try:\n",
    "    from apex import amp\n",
    "    apex = True\n",
    "except ImportError:\n",
    "    print(\n",
    "        \"Install the apex package from https://www.github.com/nvidia/apex to use fp16 for training\"\n",
    "    )\n",
    "\n",
    "from model import load_model, save_model\n",
    "from modules import NT_Xent\n",
    "from modules.transformations import TransformsSimCLR\n",
    "from utils import post_config_hook"
   ]
  },
  {
   "cell_type": "markdown",
   "metadata": {
    "colab_type": "text",
    "id": "eYbV0fa_y03Z"
   },
   "source": [
    "### Load arguments from `config/config.yaml`"
   ]
  },
  {
   "cell_type": "code",
   "execution_count": 8,
   "metadata": {
    "colab": {},
    "colab_type": "code",
    "id": "1klUf-IuyxdL"
   },
   "outputs": [],
   "source": [
    "from pprint import pprint\n",
    "from utils.yaml_config_hook import yaml_config_hook\n",
    "\n",
    "config = yaml_config_hook(\"./config/config.yaml\")\n",
    "args = argparse.Namespace(**config)\n",
    "\n",
    "if use_tpu:\n",
    "    args.device = dev\n",
    "else:\n",
    "    args.device = torch.device(\"cuda:0\" if torch.cuda.is_available() else \"cpu\")\n",
    "\n",
    "args.out_dir = \"logs\"\n",
    "if not os.path.exists(\"logs\"):\n",
    "    os.makedirs(\"logs\")"
   ]
  },
  {
   "cell_type": "code",
   "execution_count": 9,
   "metadata": {},
   "outputs": [
    {
     "name": "stdout",
     "output_type": "stream",
     "text": [
      "{'batch_size': 128,\n",
      " 'dataset': 'CIFAR10',\n",
      " 'device': device(type='cuda', index=0),\n",
      " 'epoch_num': 100,\n",
      " 'epochs': 100,\n",
      " 'fp16': False,\n",
      " 'fp16_opt_level': 'O2',\n",
      " 'logistic_batch_size': 256,\n",
      " 'logistic_epochs': 500,\n",
      " 'model_path': 'logs/0',\n",
      " 'normalize': True,\n",
      " 'optimizer': 'Adam',\n",
      " 'out_dir': 'logs',\n",
      " 'pretrain': True,\n",
      " 'projection_dim': 64,\n",
      " 'resnet': 'resnet50',\n",
      " 'seed': 42,\n",
      " 'start_epoch': 0,\n",
      " 'temperature': 0.5,\n",
      " 'weight_decay': 1e-06,\n",
      " 'workers': 16}\n"
     ]
    }
   ],
   "source": [
    "pprint(vars(args))"
   ]
  },
  {
   "cell_type": "code",
   "execution_count": 10,
   "metadata": {},
   "outputs": [],
   "source": [
    "# 128/2"
   ]
  },
  {
   "cell_type": "code",
   "execution_count": 11,
   "metadata": {
    "colab": {
     "base_uri": "https://localhost:8080/",
     "height": 374
    },
    "colab_type": "code",
    "id": "O86__UhA0Lvr",
    "outputId": "295583f8-ba5b-488e-ac1a-58015273bb4e"
   },
   "outputs": [
    {
     "name": "stdout",
     "output_type": "stream",
     "text": [
      "{'batch_size': 64,\n",
      " 'dataset': 'CIFAR10',\n",
      " 'device': device(type='cuda', index=0),\n",
      " 'epoch_num': 100,\n",
      " 'epochs': 100,\n",
      " 'fp16': False,\n",
      " 'fp16_opt_level': 'O2',\n",
      " 'logistic_batch_size': 256,\n",
      " 'logistic_epochs': 500,\n",
      " 'model_path': 'logs/0',\n",
      " 'normalize': True,\n",
      " 'optimizer': 'Adam',\n",
      " 'out_dir': 'logs',\n",
      " 'pretrain': True,\n",
      " 'projection_dim': 64,\n",
      " 'resnet': 'resnet18',\n",
      " 'seed': 42,\n",
      " 'start_epoch': 0,\n",
      " 'temperature': 0.5,\n",
      " 'weight_decay': 1e-06,\n",
      " 'workers': 16}\n"
     ]
    }
   ],
   "source": [
    "### override any configuration parameters here, e.g. to adjust for use on GPUs on the Colab platform:\n",
    "args.batch_size = 64\n",
    "args.resnet = \"resnet18\" # se_resnet50, resnet18, se_resnext101_32x4d, resnet50\n",
    "pprint(vars(args))"
   ]
  },
  {
   "cell_type": "code",
   "execution_count": 12,
   "metadata": {},
   "outputs": [],
   "source": [
    "args.dataset = 'casava'"
   ]
  },
  {
   "cell_type": "code",
   "execution_count": 13,
   "metadata": {},
   "outputs": [],
   "source": [
    "# args.epochs = 100\n",
    "# args.epoch_num = 100\n",
    "\n",
    "# args.projection_dim = 64\n",
    "\n",
    "# args.logistic_epochs = 100\n",
    "\n",
    "# args.optimizer = \"LARS\" #\"Adam\""
   ]
  },
  {
   "cell_type": "markdown",
   "metadata": {
    "colab_type": "text",
    "id": "xJfeOM9PzNoF"
   },
   "source": [
    "### Load dataset into train loader"
   ]
  },
  {
   "cell_type": "code",
   "execution_count": 14,
   "metadata": {},
   "outputs": [],
   "source": [
    "data_path = \"../data/train/train\"\n",
    "test_path = \"../data/test/test\"\n",
    "extraimage_path = \"../data/extraimages/extraimages\""
   ]
  },
  {
   "cell_type": "code",
   "execution_count": 15,
   "metadata": {},
   "outputs": [
    {
     "name": "stdout",
     "output_type": "stream",
     "text": [
      "Train set:\n",
      "cgm:773\n",
      "cbb:466\n",
      "cmd:2658\n",
      "cbsd:1443\n",
      "healthy:316\n",
      "(500, 500)\n"
     ]
    },
    {
     "data": {
      "text/plain": [
       "{'cbb': 466, 'cbsd': 1443, 'cgm': 773, 'cmd': 2658, 'healthy': 316}"
      ]
     },
     "execution_count": 15,
     "metadata": {},
     "output_type": "execute_result"
    }
   ],
   "source": [
    "print('Train set:')\n",
    "class_distrbution = {}\n",
    "for cls in os.listdir(data_path):\n",
    "    print('{}:{}'.format(cls, len(os.listdir(os.path.join(data_path, cls)))))\n",
    "    class_distrbution[cls] =  len(os.listdir(os.path.join(data_path, cls)))\n",
    "im = Image.open(data_path+'/cgm/train-cgm-738.jpg')\n",
    "print(im.size)\n",
    "class_distrbution"
   ]
  },
  {
   "cell_type": "code",
   "execution_count": 16,
   "metadata": {},
   "outputs": [],
   "source": [
    "class CassavaDataset(Dataset):\n",
    "    def __init__(self, path, size, s=1, mutation = False):\n",
    "        self.classes = os.listdir(path)\n",
    "        self.path = [f\"{path}/{className}\" for className in self.classes]\n",
    "        self.file_list = [glob.glob(f\"{x}/*\") for x in self.path]\n",
    "        self.mutation = mutation\n",
    "        color_jitter = torchvision.transforms.ColorJitter(\n",
    "            0.8 * s, 0.8 * s, 0.8 * s, 0.2 * s\n",
    "        )\n",
    "        \n",
    "        self.train_transform = torchvision.transforms.Compose(\n",
    "            [\n",
    "                torchvision.transforms.RandomResizedCrop(size),\n",
    "                torchvision.transforms.RandomHorizontalFlip(),  # with 0.5 probability\n",
    "                torchvision.transforms.RandomApply([color_jitter], p=0.8),\n",
    "                torchvision.transforms.RandomGrayscale(p=0.2),\n",
    "                torchvision.transforms.ToTensor(),\n",
    "            ]\n",
    "        )\n",
    "        \n",
    "        self.test_transform = torchvision.transforms.Compose(\n",
    "            [\n",
    "                torchvision.transforms.Resize((size, size)),\n",
    "                torchvision.transforms.ToTensor()\n",
    "            ]\n",
    "        )\n",
    "        \n",
    "\n",
    "        files = []\n",
    "        class_names = {}\n",
    "        for i, className in enumerate(self.classes):\n",
    "            for fileName in self.file_list[i]:\n",
    "                files.append([i, className, fileName])\n",
    "\n",
    "                name = str(i)+'-'+className\n",
    "                if name not in class_names:\n",
    "                    class_names[name] = 1\n",
    "                else:\n",
    "                    class_names[name] += 1\n",
    "        self.file_list = files\n",
    "        files = None\n",
    "    \n",
    "    def __len__(self):\n",
    "        return len(self.file_list)\n",
    "\n",
    "    def __getitem__(self, idx):\n",
    "        fileName = self.file_list[idx][2]\n",
    "        classCategory = self.file_list[idx][0]\n",
    "        image = Image.open(fileName)\n",
    "\n",
    "        if self.mutation:\n",
    "            image1 = self.train_transform(image)\n",
    "            image2 = self.train_transform(image)\n",
    "            \n",
    "            sample = [[image1, image2], classCategory]\n",
    "        else:\n",
    "            \n",
    "            image = self.test_transform(image)\n",
    "            sample = [image, classCategory]\n",
    "\n",
    "        return sample"
   ]
  },
  {
   "cell_type": "code",
   "execution_count": 17,
   "metadata": {},
   "outputs": [],
   "source": [
    "size = 448\n",
    "\n",
    "train_data = CassavaDataset(data_path, size, s=1, mutation = False)\n",
    "\n",
    "test_data = CassavaDataset(test_path, size, s=1, mutation = False)\n",
    "\n",
    "extraimage_data = CassavaDataset(extraimage_path, size, s=1, mutation = True)\n",
    "\n",
    "#######################################################################\n",
    "validation_split = 0.0\n",
    "shuffle_dataset = True\n",
    "# random_seed= 42 #42\n",
    "\n",
    "# Creating data indices for training and validation splits:\n",
    "dataset_size = len(train_data)\n",
    "indices = list(range(dataset_size))\n",
    "split = int(np.floor(validation_split * dataset_size))\n",
    "\n",
    "if shuffle_dataset :\n",
    "#     np.random.seed(random_seed)\n",
    "    np.random.shuffle(indices)\n",
    "\n",
    "train_indices, val_indices = indices[split:], indices[:split]\n",
    "########################################################################\n",
    "\n",
    "train_sampler = SubsetRandomSampler(train_indices)\n",
    "valid_sampler = SubsetRandomSampler(val_indices)\n",
    "\n",
    "batch_size_train = args.batch_size# 125\n",
    "batch_size_eval = args.batch_size#250\n",
    "n_workers = 2\n",
    "\n",
    "# train_loader = torch.utils.data.DataLoader(train_data, batch_size = batch_size_train,\n",
    "#                                              sampler = train_sampler, num_workers = n_workers)\n",
    "\n",
    "# valid_loader = torch.utils.data.DataLoader(train_data, batch_size = batch_size_eval,\n",
    "#                                              sampler = valid_sampler, num_workers = n_workers)\n",
    "\n",
    "unlabeled_loader = torch.utils.data.DataLoader(extraimage_data, batch_size = batch_size_eval, \n",
    "                                              shuffle =shuffle_dataset, num_workers = n_workers)\n"
   ]
  },
  {
   "cell_type": "code",
   "execution_count": 18,
   "metadata": {},
   "outputs": [],
   "source": [
    "# # number of subprocesses to use for data loading\n",
    "# num_workers = 6\n",
    "# # how many samples per batch to load\n",
    "# batch_size = 125\n",
    "\n",
    "# train_data = datasets.ImageFolder(data_path, transform=train_transforms)\n",
    "# test_data = datasets.ImageFolder(test_path, transform=test_transforms)\n",
    "# extraimage_data = datasets.ImageFolder(extraimage_path, transform=train_transforms)\n",
    "\n",
    "# train_loader = torch.utils.data.DataLoader(train_data, batch_size=batch_size,\n",
    "#                                            num_workers=num_workers, shuffle=True)\n",
    "# test_loader = torch.utils.data.DataLoader(test_data, batch_size=batch_size,\n",
    "#                                           num_workers=num_workers)\n",
    "\n",
    "# unlabeled_loader = torch.utils.data.DataLoader(extraimage_data, batch_size=batch_size,\n",
    "#                                                num_workers=num_workers) # to make batch_size work, I had to moove all the unlabeled data in a 0 folder"
   ]
  },
  {
   "cell_type": "code",
   "execution_count": 19,
   "metadata": {},
   "outputs": [],
   "source": [
    "# next(unlabeled_loader.__iter__())"
   ]
  },
  {
   "cell_type": "code",
   "execution_count": 20,
   "metadata": {},
   "outputs": [],
   "source": [
    "# len(next(unlabeled_loader.__iter__())[1])"
   ]
  },
  {
   "cell_type": "code",
   "execution_count": 21,
   "metadata": {
    "colab": {
     "base_uri": "https://localhost:8080/",
     "height": 83,
     "referenced_widgets": [
      "e100213220094b8cbf3e9578bc3a1554",
      "8ecfd2a00a874c6cacacbe39ab3f87cc",
      "e3834039bcc6436489e4b5fc04fb4664",
      "554f93f21a4344ada4a1e7c74fe386b7",
      "6f1d2aed682f44f98524873f26408de6",
      "5bb79baa5d7b4c81896e083f9543b33c",
      "56b658779c7745a885cde6850fae178f",
      "1f62ac17ac704e108fa3ea5f52a9ea8d"
     ]
    },
    "colab_type": "code",
    "id": "YGcskdBsytbj",
    "outputId": "48f0c2a3-9800-4c52-cb8a-071e119c5d0d"
   },
   "outputs": [],
   "source": [
    "# root = \"./datasets\"\n",
    "\n",
    "# train_sampler = None\n",
    "\n",
    "# if args.dataset == \"STL10\":\n",
    "#     train_dataset = torchvision.datasets.STL10(\n",
    "#         root, split=\"unlabeled\", download=True, transform=TransformsSimCLR(size=96)\n",
    "#     )\n",
    "# elif args.dataset == \"CIFAR10\":\n",
    "#     train_dataset = torchvision.datasets.CIFAR10(\n",
    "#         root, download=True, transform=TransformsSimCLR(size=32)\n",
    "#     )\n",
    "# else:\n",
    "#     raise NotImplementedError\n",
    "\n",
    "# train_loader = torch.utils.data.DataLoader(\n",
    "#     train_dataset,\n",
    "#     batch_size=args.batch_size,\n",
    "#     shuffle=(train_sampler is None),\n",
    "#     drop_last=True,\n",
    "#     num_workers=args.workers,\n",
    "#     sampler=train_sampler,\n",
    "# )"
   ]
  },
  {
   "cell_type": "markdown",
   "metadata": {
    "colab_type": "text",
    "id": "RBlXZwvjzPmp"
   },
   "source": [
    "### Load the SimCLR model, optimizer and learning rate scheduler"
   ]
  },
  {
   "cell_type": "code",
   "execution_count": 22,
   "metadata": {},
   "outputs": [
    {
     "name": "stdout",
     "output_type": "stream",
     "text": [
      "{'batch_size': 64,\n",
      " 'dataset': 'casava',\n",
      " 'device': device(type='cuda', index=0),\n",
      " 'epoch_num': 100,\n",
      " 'epochs': 100,\n",
      " 'fp16': False,\n",
      " 'fp16_opt_level': 'O2',\n",
      " 'logistic_batch_size': 256,\n",
      " 'logistic_epochs': 500,\n",
      " 'model_path': 'logs/0',\n",
      " 'normalize': True,\n",
      " 'optimizer': 'Adam',\n",
      " 'out_dir': 'logs',\n",
      " 'pretrain': True,\n",
      " 'projection_dim': 64,\n",
      " 'resnet': 'resnet18',\n",
      " 'seed': 42,\n",
      " 'start_epoch': 0,\n",
      " 'temperature': 0.5,\n",
      " 'weight_decay': 1e-06,\n",
      " 'workers': 16}\n"
     ]
    }
   ],
   "source": [
    "pprint(vars(args))"
   ]
  },
  {
   "cell_type": "code",
   "execution_count": 23,
   "metadata": {},
   "outputs": [],
   "source": [
    "# args.projection_dim = 125"
   ]
  },
  {
   "cell_type": "code",
   "execution_count": 24,
   "metadata": {
    "colab": {},
    "colab_type": "code",
    "id": "xERq_yHSzJRX"
   },
   "outputs": [
    {
     "name": "stderr",
     "output_type": "stream",
     "text": [
      "Downloading: \"http://data.lip6.fr/cadene/pretrainedmodels/se_resnet50-ce0d4300.pth\" to /root/.cache/torch/checkpoints/se_resnet50-ce0d4300.pth\n"
     ]
    },
    {
     "data": {
      "application/vnd.jupyter.widget-view+json": {
       "model_id": "6dd8db70b85844a589ba9564a82a8190",
       "version_major": 2,
       "version_minor": 0
      },
      "text/plain": [
       "HBox(children=(FloatProgress(value=0.0, max=112611220.0), HTML(value='')))"
      ]
     },
     "metadata": {},
     "output_type": "display_data"
    },
    {
     "name": "stdout",
     "output_type": "stream",
     "text": [
      "\n"
     ]
    },
    {
     "name": "stderr",
     "output_type": "stream",
     "text": [
      "Downloading: \"http://data.lip6.fr/cadene/pretrainedmodels/se_resnext101_32x4d-3b2fe3d8.pth\" to /root/.cache/torch/checkpoints/se_resnext101_32x4d-3b2fe3d8.pth\n"
     ]
    },
    {
     "data": {
      "application/vnd.jupyter.widget-view+json": {
       "model_id": "961b6fd077fe420bbd29d220120ac648",
       "version_major": 2,
       "version_minor": 0
      },
      "text/plain": [
       "HBox(children=(FloatProgress(value=0.0, max=196466866.0), HTML(value='')))"
      ]
     },
     "metadata": {},
     "output_type": "display_data"
    },
    {
     "name": "stdout",
     "output_type": "stream",
     "text": [
      "\n"
     ]
    }
   ],
   "source": [
    "model, optimizer, scheduler = load_model(args, unlabeled_loader, reload_model=False)"
   ]
  },
  {
   "cell_type": "code",
   "execution_count": 25,
   "metadata": {},
   "outputs": [
    {
     "data": {
      "text/plain": [
       "SimCLR(\n",
       "  (encoder): ResNet(\n",
       "    (conv1): Conv2d(3, 64, kernel_size=(7, 7), stride=(2, 2), padding=(3, 3), bias=False)\n",
       "    (bn1): BatchNorm2d(64, eps=1e-05, momentum=0.1, affine=True, track_running_stats=True)\n",
       "    (relu): ReLU(inplace=True)\n",
       "    (maxpool): MaxPool2d(kernel_size=3, stride=2, padding=1, dilation=1, ceil_mode=False)\n",
       "    (layer1): Sequential(\n",
       "      (0): BasicBlock(\n",
       "        (conv1): Conv2d(64, 64, kernel_size=(3, 3), stride=(1, 1), padding=(1, 1), bias=False)\n",
       "        (bn1): BatchNorm2d(64, eps=1e-05, momentum=0.1, affine=True, track_running_stats=True)\n",
       "        (relu): ReLU(inplace=True)\n",
       "        (conv2): Conv2d(64, 64, kernel_size=(3, 3), stride=(1, 1), padding=(1, 1), bias=False)\n",
       "        (bn2): BatchNorm2d(64, eps=1e-05, momentum=0.1, affine=True, track_running_stats=True)\n",
       "      )\n",
       "      (1): BasicBlock(\n",
       "        (conv1): Conv2d(64, 64, kernel_size=(3, 3), stride=(1, 1), padding=(1, 1), bias=False)\n",
       "        (bn1): BatchNorm2d(64, eps=1e-05, momentum=0.1, affine=True, track_running_stats=True)\n",
       "        (relu): ReLU(inplace=True)\n",
       "        (conv2): Conv2d(64, 64, kernel_size=(3, 3), stride=(1, 1), padding=(1, 1), bias=False)\n",
       "        (bn2): BatchNorm2d(64, eps=1e-05, momentum=0.1, affine=True, track_running_stats=True)\n",
       "      )\n",
       "    )\n",
       "    (layer2): Sequential(\n",
       "      (0): BasicBlock(\n",
       "        (conv1): Conv2d(64, 128, kernel_size=(3, 3), stride=(2, 2), padding=(1, 1), bias=False)\n",
       "        (bn1): BatchNorm2d(128, eps=1e-05, momentum=0.1, affine=True, track_running_stats=True)\n",
       "        (relu): ReLU(inplace=True)\n",
       "        (conv2): Conv2d(128, 128, kernel_size=(3, 3), stride=(1, 1), padding=(1, 1), bias=False)\n",
       "        (bn2): BatchNorm2d(128, eps=1e-05, momentum=0.1, affine=True, track_running_stats=True)\n",
       "        (downsample): Sequential(\n",
       "          (0): Conv2d(64, 128, kernel_size=(1, 1), stride=(2, 2), bias=False)\n",
       "          (1): BatchNorm2d(128, eps=1e-05, momentum=0.1, affine=True, track_running_stats=True)\n",
       "        )\n",
       "      )\n",
       "      (1): BasicBlock(\n",
       "        (conv1): Conv2d(128, 128, kernel_size=(3, 3), stride=(1, 1), padding=(1, 1), bias=False)\n",
       "        (bn1): BatchNorm2d(128, eps=1e-05, momentum=0.1, affine=True, track_running_stats=True)\n",
       "        (relu): ReLU(inplace=True)\n",
       "        (conv2): Conv2d(128, 128, kernel_size=(3, 3), stride=(1, 1), padding=(1, 1), bias=False)\n",
       "        (bn2): BatchNorm2d(128, eps=1e-05, momentum=0.1, affine=True, track_running_stats=True)\n",
       "      )\n",
       "    )\n",
       "    (layer3): Sequential(\n",
       "      (0): BasicBlock(\n",
       "        (conv1): Conv2d(128, 256, kernel_size=(3, 3), stride=(2, 2), padding=(1, 1), bias=False)\n",
       "        (bn1): BatchNorm2d(256, eps=1e-05, momentum=0.1, affine=True, track_running_stats=True)\n",
       "        (relu): ReLU(inplace=True)\n",
       "        (conv2): Conv2d(256, 256, kernel_size=(3, 3), stride=(1, 1), padding=(1, 1), bias=False)\n",
       "        (bn2): BatchNorm2d(256, eps=1e-05, momentum=0.1, affine=True, track_running_stats=True)\n",
       "        (downsample): Sequential(\n",
       "          (0): Conv2d(128, 256, kernel_size=(1, 1), stride=(2, 2), bias=False)\n",
       "          (1): BatchNorm2d(256, eps=1e-05, momentum=0.1, affine=True, track_running_stats=True)\n",
       "        )\n",
       "      )\n",
       "      (1): BasicBlock(\n",
       "        (conv1): Conv2d(256, 256, kernel_size=(3, 3), stride=(1, 1), padding=(1, 1), bias=False)\n",
       "        (bn1): BatchNorm2d(256, eps=1e-05, momentum=0.1, affine=True, track_running_stats=True)\n",
       "        (relu): ReLU(inplace=True)\n",
       "        (conv2): Conv2d(256, 256, kernel_size=(3, 3), stride=(1, 1), padding=(1, 1), bias=False)\n",
       "        (bn2): BatchNorm2d(256, eps=1e-05, momentum=0.1, affine=True, track_running_stats=True)\n",
       "      )\n",
       "    )\n",
       "    (layer4): Sequential(\n",
       "      (0): BasicBlock(\n",
       "        (conv1): Conv2d(256, 512, kernel_size=(3, 3), stride=(2, 2), padding=(1, 1), bias=False)\n",
       "        (bn1): BatchNorm2d(512, eps=1e-05, momentum=0.1, affine=True, track_running_stats=True)\n",
       "        (relu): ReLU(inplace=True)\n",
       "        (conv2): Conv2d(512, 512, kernel_size=(3, 3), stride=(1, 1), padding=(1, 1), bias=False)\n",
       "        (bn2): BatchNorm2d(512, eps=1e-05, momentum=0.1, affine=True, track_running_stats=True)\n",
       "        (downsample): Sequential(\n",
       "          (0): Conv2d(256, 512, kernel_size=(1, 1), stride=(2, 2), bias=False)\n",
       "          (1): BatchNorm2d(512, eps=1e-05, momentum=0.1, affine=True, track_running_stats=True)\n",
       "        )\n",
       "      )\n",
       "      (1): BasicBlock(\n",
       "        (conv1): Conv2d(512, 512, kernel_size=(3, 3), stride=(1, 1), padding=(1, 1), bias=False)\n",
       "        (bn1): BatchNorm2d(512, eps=1e-05, momentum=0.1, affine=True, track_running_stats=True)\n",
       "        (relu): ReLU(inplace=True)\n",
       "        (conv2): Conv2d(512, 512, kernel_size=(3, 3), stride=(1, 1), padding=(1, 1), bias=False)\n",
       "        (bn2): BatchNorm2d(512, eps=1e-05, momentum=0.1, affine=True, track_running_stats=True)\n",
       "      )\n",
       "    )\n",
       "    (avgpool): AdaptiveAvgPool2d(output_size=(1, 1))\n",
       "    (fc): Identity()\n",
       "  )\n",
       "  (projector): Sequential(\n",
       "    (0): Linear(in_features=512, out_features=512, bias=False)\n",
       "    (1): ReLU()\n",
       "    (2): Linear(in_features=512, out_features=64, bias=False)\n",
       "  )\n",
       ")"
      ]
     },
     "execution_count": 25,
     "metadata": {},
     "output_type": "execute_result"
    }
   ],
   "source": [
    "model"
   ]
  },
  {
   "cell_type": "code",
   "execution_count": 26,
   "metadata": {},
   "outputs": [
    {
     "data": {
      "text/plain": [
       "Adam (\n",
       "Parameter Group 0\n",
       "    amsgrad: False\n",
       "    betas: (0.9, 0.999)\n",
       "    eps: 1e-08\n",
       "    lr: 0.0002\n",
       "    weight_decay: 0\n",
       ")"
      ]
     },
     "execution_count": 26,
     "metadata": {},
     "output_type": "execute_result"
    }
   ],
   "source": [
    "optimizer"
   ]
  },
  {
   "cell_type": "code",
   "execution_count": 27,
   "metadata": {},
   "outputs": [
    {
     "data": {
      "text/plain": [
       "Adam (\n",
       "Parameter Group 0\n",
       "    amsgrad: False\n",
       "    betas: (0.9, 0.999)\n",
       "    eps: 1e-08\n",
       "    lr: 0.0002\n",
       "    weight_decay: 0\n",
       ")"
      ]
     },
     "execution_count": 27,
     "metadata": {},
     "output_type": "execute_result"
    }
   ],
   "source": [
    "optimizer"
   ]
  },
  {
   "cell_type": "code",
   "execution_count": 28,
   "metadata": {},
   "outputs": [],
   "source": [
    "scheduler"
   ]
  },
  {
   "cell_type": "markdown",
   "metadata": {
    "colab_type": "text",
    "id": "RyJ3ulWqzViL"
   },
   "source": [
    "### Setup TensorBoard for logging experiments"
   ]
  },
  {
   "cell_type": "code",
   "execution_count": 29,
   "metadata": {
    "colab": {},
    "colab_type": "code",
    "id": "zZNieMqfzU7H"
   },
   "outputs": [],
   "source": [
    "tb_dir = os.path.join(args.out_dir, \"colab\")\n",
    "if not os.path.exists(tb_dir):\n",
    "    os.makedirs(tb_dir)\n",
    "    \n",
    "writer = SummaryWriter(log_dir=tb_dir)"
   ]
  },
  {
   "cell_type": "markdown",
   "metadata": {
    "colab_type": "text",
    "id": "Xpl6uQiIzbvK"
   },
   "source": [
    "### Create the mask that will remove correlated samples from the negative examples"
   ]
  },
  {
   "cell_type": "markdown",
   "metadata": {
    "colab_type": "text",
    "id": "dtNCVEynzjtV"
   },
   "source": [
    "### Initialize the criterion (NT-Xent loss)"
   ]
  },
  {
   "cell_type": "code",
   "execution_count": 30,
   "metadata": {},
   "outputs": [
    {
     "data": {
      "text/plain": [
       "64"
      ]
     },
     "execution_count": 30,
     "metadata": {},
     "output_type": "execute_result"
    }
   ],
   "source": [
    "args.batch_size"
   ]
  },
  {
   "cell_type": "code",
   "execution_count": 31,
   "metadata": {
    "colab": {},
    "colab_type": "code",
    "id": "u067AY93zh-k"
   },
   "outputs": [],
   "source": [
    "criterion = NT_Xent(args.batch_size, args.temperature, args.device)"
   ]
  },
  {
   "cell_type": "code",
   "execution_count": 32,
   "metadata": {},
   "outputs": [
    {
     "data": {
      "text/plain": [
       "NT_Xent(\n",
       "  (criterion): CrossEntropyLoss()\n",
       "  (similarity_f): CosineSimilarity()\n",
       ")"
      ]
     },
     "execution_count": 32,
     "metadata": {},
     "output_type": "execute_result"
    }
   ],
   "source": [
    "criterion"
   ]
  },
  {
   "cell_type": "markdown",
   "metadata": {
    "colab_type": "text",
    "id": "cN5KBK-yztGD"
   },
   "source": [
    "### Start training"
   ]
  },
  {
   "cell_type": "code",
   "execution_count": 33,
   "metadata": {},
   "outputs": [],
   "source": [
    "def train(args, train_loader, model, criterion, optimizer, writer):\n",
    "    loss_epoch = 0\n",
    "    for step, ((x_i, x_j), _) in enumerate(train_loader):\n",
    "\n",
    "        if x_i.shape[0] != args.batch_size:\n",
    "            continue\n",
    "        optimizer.zero_grad()\n",
    "        x_i = x_i.to(args.device)\n",
    "        x_j = x_j.to(args.device)\n",
    "\n",
    "        # positive pair, with encoding\n",
    "        h_i, z_i = model(x_i)\n",
    "        h_j, z_j = model(x_j)\n",
    "\n",
    "#         ipdb.set_trace()\n",
    "        loss = criterion(z_i, z_j)\n",
    "\n",
    "        if apex and args.fp16:\n",
    "            with amp.scale_loss(loss, optimizer) as scaled_loss:\n",
    "                scaled_loss.backward()\n",
    "        else:\n",
    "            loss.backward()\n",
    "\n",
    "        optimizer.step()\n",
    "\n",
    "        if step % 50 == 0:\n",
    "            print(f\"Step [{step}/{len(train_loader)}]\\t Loss: {loss.item()}\")\n",
    "\n",
    "        writer.add_scalar(\"Loss/train_epoch\", loss.item(), args.global_step)\n",
    "        loss_epoch += loss.item()\n",
    "        args.global_step += 1\n",
    "\n",
    "    return loss_epoch"
   ]
  },
  {
   "cell_type": "code",
   "execution_count": 34,
   "metadata": {},
   "outputs": [
    {
     "name": "stdout",
     "output_type": "stream",
     "text": [
      "Step [0/197]\t Loss: 4.831396102905273\n",
      "Step [50/197]\t Loss: 4.74738883972168\n",
      "Step [100/197]\t Loss: 4.656131267547607\n",
      "Step [150/197]\t Loss: 4.717471122741699\n",
      "Epoch [0/100]\t Loss: 4.653891478698266\t lr: 0.0002\n",
      "Step [0/197]\t Loss: 4.50970458984375\n",
      "Step [50/197]\t Loss: 4.5008721351623535\n",
      "Step [100/197]\t Loss: 4.5789875984191895\n",
      "Step [150/197]\t Loss: 4.267772674560547\n",
      "Epoch [1/100]\t Loss: 4.360394860282162\t lr: 0.0002\n",
      "Step [0/197]\t Loss: 4.344832897186279\n",
      "Step [50/197]\t Loss: 4.176105976104736\n",
      "Step [100/197]\t Loss: 4.2121806144714355\n",
      "Step [150/197]\t Loss: 4.231607437133789\n",
      "Epoch [2/100]\t Loss: 4.078589260275594\t lr: 0.0002\n",
      "Step [0/197]\t Loss: 3.914879083633423\n",
      "Step [50/197]\t Loss: 4.05787467956543\n",
      "Step [100/197]\t Loss: 4.022071361541748\n",
      "Step [150/197]\t Loss: 4.030446529388428\n",
      "Epoch [3/100]\t Loss: 3.89950888290018\t lr: 0.0002\n",
      "Step [0/197]\t Loss: 3.766413927078247\n",
      "Step [50/197]\t Loss: 3.8228940963745117\n",
      "Step [100/197]\t Loss: 3.826023578643799\n",
      "Step [150/197]\t Loss: 3.6736721992492676\n",
      "Epoch [4/100]\t Loss: 3.78241759992493\t lr: 0.0002\n",
      "Step [0/197]\t Loss: 3.7888987064361572\n",
      "Step [50/197]\t Loss: 3.782742977142334\n",
      "Step [100/197]\t Loss: 3.756063222885132\n",
      "Step [150/197]\t Loss: 3.655003309249878\n",
      "Epoch [5/100]\t Loss: 3.70477210688712\t lr: 0.0002\n",
      "Step [0/197]\t Loss: 3.755751371383667\n",
      "Step [50/197]\t Loss: 3.708254337310791\n",
      "Step [100/197]\t Loss: 3.5652923583984375\n",
      "Step [150/197]\t Loss: 3.5865066051483154\n",
      "Epoch [6/100]\t Loss: 3.6534037614231787\t lr: 0.0002\n",
      "Step [0/197]\t Loss: 3.710538387298584\n",
      "Step [50/197]\t Loss: 3.4955692291259766\n",
      "Step [100/197]\t Loss: 3.6952157020568848\n",
      "Step [150/197]\t Loss: 3.586036205291748\n",
      "Epoch [7/100]\t Loss: 3.6078250202430686\t lr: 0.0002\n",
      "Step [0/197]\t Loss: 3.518611431121826\n",
      "Step [50/197]\t Loss: 3.824342727661133\n",
      "Step [100/197]\t Loss: 3.496121883392334\n",
      "Step [150/197]\t Loss: 3.5612380504608154\n",
      "Epoch [8/100]\t Loss: 3.594873791418705\t lr: 0.0002\n",
      "Step [0/197]\t Loss: 3.6521763801574707\n",
      "Step [50/197]\t Loss: 3.578655481338501\n",
      "Step [100/197]\t Loss: 3.543135404586792\n",
      "Step [150/197]\t Loss: 3.5795071125030518\n",
      "Epoch [9/100]\t Loss: 3.5623823289338707\t lr: 0.0002\n",
      "Step [0/197]\t Loss: 3.519641876220703\n",
      "Step [50/197]\t Loss: 3.6131160259246826\n",
      "Step [100/197]\t Loss: 3.5918922424316406\n",
      "Step [150/197]\t Loss: 3.566377878189087\n",
      "Epoch [10/100]\t Loss: 3.5347395415233476\t lr: 0.0002\n",
      "Step [0/197]\t Loss: 3.611201047897339\n",
      "Step [50/197]\t Loss: 3.580173969268799\n",
      "Step [100/197]\t Loss: 3.463028907775879\n",
      "Step [150/197]\t Loss: 3.5290346145629883\n",
      "Epoch [11/100]\t Loss: 3.5237621897973384\t lr: 0.0002\n",
      "Step [0/197]\t Loss: 3.5521833896636963\n",
      "Step [50/197]\t Loss: 3.5088448524475098\n",
      "Step [100/197]\t Loss: 3.487870216369629\n",
      "Step [150/197]\t Loss: 3.538266658782959\n",
      "Epoch [12/100]\t Loss: 3.4949421338018425\t lr: 0.0002\n",
      "Step [0/197]\t Loss: 3.6722171306610107\n",
      "Step [50/197]\t Loss: 3.4291813373565674\n",
      "Step [100/197]\t Loss: 3.4957773685455322\n",
      "Step [150/197]\t Loss: 3.4373738765716553\n",
      "Epoch [13/100]\t Loss: 3.4821175778577778\t lr: 0.0002\n",
      "Step [0/197]\t Loss: 3.4539270401000977\n",
      "Step [50/197]\t Loss: 3.4497170448303223\n",
      "Step [100/197]\t Loss: 3.486302375793457\n",
      "Step [150/197]\t Loss: 3.4601902961730957\n",
      "Epoch [14/100]\t Loss: 3.471021174174275\t lr: 0.0002\n",
      "Step [0/197]\t Loss: 3.4314281940460205\n",
      "Step [50/197]\t Loss: 3.5071933269500732\n",
      "Step [100/197]\t Loss: 3.5297703742980957\n",
      "Step [150/197]\t Loss: 3.5137505531311035\n",
      "Epoch [15/100]\t Loss: 3.4685945184097675\t lr: 0.0002\n",
      "Step [0/197]\t Loss: 3.5364186763763428\n",
      "Step [50/197]\t Loss: 3.472055673599243\n",
      "Step [100/197]\t Loss: 3.431929349899292\n",
      "Step [150/197]\t Loss: 3.4963459968566895\n",
      "Epoch [16/100]\t Loss: 3.4534999343949524\t lr: 0.0002\n",
      "Step [0/197]\t Loss: 3.4364798069000244\n",
      "Step [50/197]\t Loss: 3.4811275005340576\n",
      "Step [100/197]\t Loss: 3.5006601810455322\n",
      "Step [150/197]\t Loss: 3.4496195316314697\n",
      "Epoch [17/100]\t Loss: 3.4425789269093934\t lr: 0.0002\n",
      "Step [0/197]\t Loss: 3.475980758666992\n",
      "Step [50/197]\t Loss: 3.4590747356414795\n",
      "Step [100/197]\t Loss: 3.4111757278442383\n",
      "Step [150/197]\t Loss: 3.4400341510772705\n",
      "Epoch [18/100]\t Loss: 3.4350516989751516\t lr: 0.0002\n",
      "Step [0/197]\t Loss: 3.40981388092041\n",
      "Step [50/197]\t Loss: 3.400355339050293\n",
      "Step [100/197]\t Loss: 3.5097286701202393\n",
      "Step [150/197]\t Loss: 3.3849942684173584\n",
      "Epoch [19/100]\t Loss: 3.4228743526536194\t lr: 0.0002\n",
      "Step [0/197]\t Loss: 3.3931987285614014\n",
      "Step [50/197]\t Loss: 3.4355416297912598\n",
      "Step [100/197]\t Loss: 3.3653881549835205\n",
      "Step [150/197]\t Loss: 3.4431939125061035\n",
      "Epoch [20/100]\t Loss: 3.40959448499728\t lr: 0.0002\n",
      "Step [0/197]\t Loss: 3.37455415725708\n",
      "Step [50/197]\t Loss: 3.475569486618042\n",
      "Step [100/197]\t Loss: 3.456070899963379\n",
      "Epoch [21/100]\t Loss: 3.4044677037272963\t lr: 0.0002\n",
      "Step [0/197]\t Loss: 3.5219569206237793\n",
      "Step [50/197]\t Loss: 3.413069009780884\n",
      "Step [100/197]\t Loss: 3.460374355316162\n",
      "Step [150/197]\t Loss: 3.326172113418579\n",
      "Epoch [22/100]\t Loss: 3.3999739685639514\t lr: 0.0002\n",
      "Step [0/197]\t Loss: 3.468564510345459\n",
      "Step [50/197]\t Loss: 3.4438107013702393\n",
      "Step [100/197]\t Loss: 3.4214437007904053\n",
      "Step [150/197]\t Loss: 3.3573811054229736\n",
      "Epoch [23/100]\t Loss: 3.3936127938594915\t lr: 0.0002\n",
      "Step [0/197]\t Loss: 3.4154980182647705\n",
      "Step [50/197]\t Loss: 3.5853335857391357\n",
      "Step [100/197]\t Loss: 3.442253351211548\n",
      "Step [150/197]\t Loss: 3.3663272857666016\n",
      "Epoch [24/100]\t Loss: 3.38571046693676\t lr: 0.0002\n",
      "Step [0/197]\t Loss: 3.3508384227752686\n",
      "Step [50/197]\t Loss: 3.41677188873291\n",
      "Step [100/197]\t Loss: 3.3532958030700684\n",
      "Step [150/197]\t Loss: 3.443305492401123\n",
      "Epoch [25/100]\t Loss: 3.376181155897034\t lr: 0.0002\n",
      "Step [0/197]\t Loss: 3.3366267681121826\n",
      "Step [50/197]\t Loss: 3.3481485843658447\n",
      "Step [100/197]\t Loss: 3.3930554389953613\n",
      "Step [150/197]\t Loss: 3.4348411560058594\n",
      "Epoch [26/100]\t Loss: 3.364963889727133\t lr: 0.0002\n",
      "Step [0/197]\t Loss: 3.3344664573669434\n",
      "Step [50/197]\t Loss: 3.427732229232788\n",
      "Step [100/197]\t Loss: 3.380200147628784\n",
      "Step [150/197]\t Loss: 3.3759517669677734\n",
      "Epoch [27/100]\t Loss: 3.3632077021042104\t lr: 0.0002\n",
      "Step [0/197]\t Loss: 3.405968189239502\n",
      "Step [50/197]\t Loss: 3.405277967453003\n",
      "Step [100/197]\t Loss: 3.423107385635376\n",
      "Step [150/197]\t Loss: 3.3160157203674316\n",
      "Epoch [28/100]\t Loss: 3.360554541428077\t lr: 0.0002\n",
      "Step [0/197]\t Loss: 3.365509271621704\n",
      "Step [50/197]\t Loss: 3.3458046913146973\n",
      "Step [100/197]\t Loss: 3.3774330615997314\n",
      "Step [150/197]\t Loss: 3.396927833557129\n",
      "Epoch [29/100]\t Loss: 3.356892204526717\t lr: 0.0002\n",
      "Step [0/197]\t Loss: 3.3844218254089355\n",
      "Step [50/197]\t Loss: 3.392836570739746\n",
      "Step [100/197]\t Loss: 3.287736415863037\n",
      "Step [150/197]\t Loss: 3.350865602493286\n",
      "Epoch [30/100]\t Loss: 3.352617792671707\t lr: 0.0002\n",
      "Step [0/197]\t Loss: 3.3934035301208496\n",
      "Step [50/197]\t Loss: 3.333791971206665\n",
      "Step [100/197]\t Loss: 3.3589906692504883\n",
      "Step [150/197]\t Loss: 3.447385549545288\n",
      "Epoch [31/100]\t Loss: 3.342899938525282\t lr: 0.0002\n",
      "Step [0/197]\t Loss: 3.3140761852264404\n",
      "Step [50/197]\t Loss: 3.4315576553344727\n",
      "Step [100/197]\t Loss: 3.423781633377075\n",
      "Step [150/197]\t Loss: 3.3901476860046387\n",
      "Epoch [32/100]\t Loss: 3.341482584851647\t lr: 0.0002\n",
      "Step [0/197]\t Loss: 3.3585050106048584\n",
      "Step [50/197]\t Loss: 3.365771532058716\n",
      "Step [100/197]\t Loss: 3.4229652881622314\n",
      "Step [150/197]\t Loss: 3.402647018432617\n",
      "Epoch [33/100]\t Loss: 3.338117111757927\t lr: 0.0002\n",
      "Step [0/197]\t Loss: 3.3673834800720215\n",
      "Step [50/197]\t Loss: 3.3522534370422363\n",
      "Step [100/197]\t Loss: 3.372157335281372\n",
      "Step [150/197]\t Loss: 3.3360671997070312\n",
      "Epoch [34/100]\t Loss: 3.326208900074063\t lr: 0.0002\n",
      "Step [0/197]\t Loss: 3.310614585876465\n",
      "Step [50/197]\t Loss: 3.2909951210021973\n",
      "Step [100/197]\t Loss: 3.3955721855163574\n",
      "Step [150/197]\t Loss: 3.3483941555023193\n",
      "Epoch [35/100]\t Loss: 3.3251281305012967\t lr: 0.0002\n",
      "Step [0/197]\t Loss: 3.4602649211883545\n",
      "Step [50/197]\t Loss: 3.342303514480591\n",
      "Step [100/197]\t Loss: 3.336055278778076\n",
      "Step [150/197]\t Loss: 3.3215157985687256\n",
      "Epoch [36/100]\t Loss: 3.3265706972422335\t lr: 0.0002\n",
      "Step [0/197]\t Loss: 3.2625269889831543\n",
      "Step [50/197]\t Loss: 3.3446033000946045\n",
      "Step [100/197]\t Loss: 3.3328962326049805\n",
      "Step [150/197]\t Loss: 3.323390483856201\n",
      "Epoch [37/100]\t Loss: 3.325649849654454\t lr: 0.0002\n",
      "Step [0/197]\t Loss: 3.374892234802246\n",
      "Step [50/197]\t Loss: 3.327752113342285\n",
      "Step [100/197]\t Loss: 3.3644981384277344\n",
      "Step [150/197]\t Loss: 3.362602949142456\n",
      "Epoch [38/100]\t Loss: 3.3163276820013365\t lr: 0.0002\n",
      "Step [0/197]\t Loss: 3.3539299964904785\n",
      "Step [50/197]\t Loss: 3.400826930999756\n",
      "Step [100/197]\t Loss: 3.2755990028381348\n",
      "Step [150/197]\t Loss: 3.303039312362671\n",
      "Epoch [39/100]\t Loss: 3.30967177473349\t lr: 0.0002\n",
      "Step [0/197]\t Loss: 3.3406970500946045\n",
      "Step [50/197]\t Loss: 3.299351215362549\n",
      "Step [100/197]\t Loss: 3.275940418243408\n",
      "Step [150/197]\t Loss: 3.2576630115509033\n",
      "Epoch [40/100]\t Loss: 3.306329621881398\t lr: 0.0002\n",
      "Step [0/197]\t Loss: 3.3791046142578125\n",
      "Step [50/197]\t Loss: 3.2996842861175537\n",
      "Step [100/197]\t Loss: 3.2819550037384033\n",
      "Step [150/197]\t Loss: 3.3515994548797607\n",
      "Epoch [41/100]\t Loss: 3.3016268626082366\t lr: 0.0002\n",
      "Step [0/197]\t Loss: 3.3182365894317627\n",
      "Step [50/197]\t Loss: 3.3378028869628906\n",
      "Step [100/197]\t Loss: 3.336199998855591\n",
      "Step [150/197]\t Loss: 3.3468527793884277\n",
      "Epoch [42/100]\t Loss: 3.305488458139642\t lr: 0.0002\n",
      "Step [0/197]\t Loss: 3.3339695930480957\n",
      "Step [50/197]\t Loss: 3.283602476119995\n",
      "Step [100/197]\t Loss: 3.317258358001709\n",
      "Step [150/197]\t Loss: 3.3236491680145264\n",
      "Epoch [43/100]\t Loss: 3.3007907250205877\t lr: 0.0002\n",
      "Step [0/197]\t Loss: 3.2580690383911133\n",
      "Step [50/197]\t Loss: 3.287454128265381\n",
      "Step [100/197]\t Loss: 3.3416943550109863\n",
      "Step [150/197]\t Loss: 3.331435203552246\n",
      "Epoch [44/100]\t Loss: 3.294454914664254\t lr: 0.0002\n",
      "Step [0/197]\t Loss: 3.3771584033966064\n",
      "Step [50/197]\t Loss: 3.2727715969085693\n",
      "Step [100/197]\t Loss: 3.3080575466156006\n",
      "Step [150/197]\t Loss: 3.361553192138672\n",
      "Epoch [45/100]\t Loss: 3.2934139319482796\t lr: 0.0002\n",
      "Step [0/197]\t Loss: 3.372039556503296\n",
      "Step [50/197]\t Loss: 3.2900357246398926\n",
      "Step [100/197]\t Loss: 3.3130440711975098\n",
      "Step [150/197]\t Loss: 3.2652804851531982\n",
      "Epoch [46/100]\t Loss: 3.2907454664937132\t lr: 0.0002\n",
      "Step [0/197]\t Loss: 3.298923969268799\n",
      "Step [50/197]\t Loss: 3.2806448936462402\n",
      "Step [100/197]\t Loss: 3.272976875305176\n",
      "Step [150/197]\t Loss: 3.302063465118408\n",
      "Epoch [47/100]\t Loss: 3.2882972320324275\t lr: 0.0002\n",
      "Step [0/197]\t Loss: 3.316505193710327\n",
      "Step [50/197]\t Loss: 3.2808213233947754\n",
      "Step [100/197]\t Loss: 3.306810140609741\n",
      "Step [150/197]\t Loss: 3.4013898372650146\n",
      "Epoch [48/100]\t Loss: 3.2909970985451324\t lr: 0.0002\n",
      "Step [0/197]\t Loss: 3.364105224609375\n",
      "Step [50/197]\t Loss: 3.358962059020996\n",
      "Step [100/197]\t Loss: 3.3115153312683105\n",
      "Step [150/197]\t Loss: 3.239563465118408\n",
      "Epoch [49/100]\t Loss: 3.288232773088562\t lr: 0.0002\n",
      "Step [0/197]\t Loss: 3.235031843185425\n",
      "Step [50/197]\t Loss: 3.297196626663208\n",
      "Step [100/197]\t Loss: 3.225799560546875\n",
      "Step [150/197]\t Loss: 3.3328285217285156\n",
      "Epoch [50/100]\t Loss: 3.2839366312559486\t lr: 0.0002\n",
      "Step [0/197]\t Loss: 3.331773281097412\n",
      "Step [50/197]\t Loss: 3.2870168685913086\n",
      "Step [100/197]\t Loss: 3.2518296241760254\n",
      "Step [150/197]\t Loss: 3.366708278656006\n",
      "Epoch [51/100]\t Loss: 3.276351612836576\t lr: 0.0002\n",
      "Step [0/197]\t Loss: 3.318368673324585\n",
      "Step [50/197]\t Loss: 3.299431085586548\n",
      "Step [100/197]\t Loss: 3.29058575630188\n",
      "Step [150/197]\t Loss: 3.348414182662964\n",
      "Epoch [52/100]\t Loss: 3.275447073321657\t lr: 0.0002\n",
      "Step [0/197]\t Loss: 3.316315174102783\n",
      "Step [50/197]\t Loss: 3.271394729614258\n",
      "Step [100/197]\t Loss: 3.3365347385406494\n",
      "Step [150/197]\t Loss: 3.2269742488861084\n",
      "Epoch [53/100]\t Loss: 3.2691629453358915\t lr: 0.0002\n",
      "Step [0/197]\t Loss: 3.291268825531006\n",
      "Step [50/197]\t Loss: 3.227715253829956\n",
      "Step [100/197]\t Loss: 3.306952953338623\n",
      "Step [150/197]\t Loss: 3.2753536701202393\n",
      "Epoch [54/100]\t Loss: 3.2689095656883898\t lr: 0.0002\n",
      "Step [0/197]\t Loss: 3.2825779914855957\n",
      "Step [50/197]\t Loss: 3.2645983695983887\n",
      "Step [100/197]\t Loss: 3.2208635807037354\n",
      "Step [150/197]\t Loss: 3.3674027919769287\n",
      "Epoch [55/100]\t Loss: 3.2661862276532325\t lr: 0.0002\n",
      "Step [0/197]\t Loss: 3.2361819744110107\n",
      "Step [50/197]\t Loss: 3.293950080871582\n",
      "Step [100/197]\t Loss: 3.2534708976745605\n",
      "Step [150/197]\t Loss: 3.253626823425293\n",
      "Epoch [56/100]\t Loss: 3.2689364355832793\t lr: 0.0002\n",
      "Step [0/197]\t Loss: 3.3373327255249023\n",
      "Step [50/197]\t Loss: 3.267507314682007\n",
      "Step [100/197]\t Loss: 3.3097596168518066\n",
      "Step [150/197]\t Loss: 3.380850076675415\n",
      "Epoch [57/100]\t Loss: 3.2672623329356236\t lr: 0.0002\n",
      "Step [0/197]\t Loss: 3.2790451049804688\n",
      "Step [50/197]\t Loss: 3.2438337802886963\n",
      "Step [100/197]\t Loss: 3.263165235519409\n",
      "Step [150/197]\t Loss: 3.283046245574951\n",
      "Epoch [58/100]\t Loss: 3.2634418083326464\t lr: 0.0002\n",
      "Step [0/197]\t Loss: 3.2941994667053223\n",
      "Step [50/197]\t Loss: 3.243466377258301\n",
      "Step [100/197]\t Loss: 3.315857410430908\n",
      "Step [150/197]\t Loss: 3.2348380088806152\n",
      "Epoch [59/100]\t Loss: 3.2627575760565435\t lr: 0.0002\n",
      "Step [0/197]\t Loss: 3.3006696701049805\n",
      "Step [50/197]\t Loss: 3.2793853282928467\n",
      "Step [100/197]\t Loss: 3.24504017829895\n",
      "Step [150/197]\t Loss: 3.2820756435394287\n",
      "Epoch [60/100]\t Loss: 3.2566669786036924\t lr: 0.0002\n",
      "Step [0/197]\t Loss: 3.332573175430298\n",
      "Step [50/197]\t Loss: 3.242335557937622\n",
      "Step [100/197]\t Loss: 3.299086332321167\n",
      "Step [150/197]\t Loss: 3.2714602947235107\n",
      "Epoch [61/100]\t Loss: 3.2584286607461532\t lr: 0.0002\n",
      "Step [0/197]\t Loss: 3.2954001426696777\n",
      "Step [50/197]\t Loss: 3.287822961807251\n",
      "Step [100/197]\t Loss: 3.2299766540527344\n",
      "Step [150/197]\t Loss: 3.2564198970794678\n",
      "Epoch [62/100]\t Loss: 3.2570012269286335\t lr: 0.0002\n",
      "Step [0/197]\t Loss: 3.2575440406799316\n",
      "Step [50/197]\t Loss: 3.2317745685577393\n",
      "Step [100/197]\t Loss: 3.307654619216919\n",
      "Step [150/197]\t Loss: 3.234137535095215\n",
      "Epoch [63/100]\t Loss: 3.2550807519612577\t lr: 0.0002\n",
      "Step [0/197]\t Loss: 3.335954189300537\n",
      "Step [50/197]\t Loss: 3.259042739868164\n",
      "Step [100/197]\t Loss: 3.286876678466797\n",
      "Step [150/197]\t Loss: 3.2804417610168457\n",
      "Epoch [64/100]\t Loss: 3.2522985632649535\t lr: 0.0002\n",
      "Step [0/197]\t Loss: 3.202674388885498\n",
      "Step [50/197]\t Loss: 3.362112283706665\n",
      "Step [100/197]\t Loss: 3.257906913757324\n",
      "Step [150/197]\t Loss: 3.3058571815490723\n",
      "Epoch [65/100]\t Loss: 3.248410090577179\t lr: 0.0002\n",
      "Step [0/197]\t Loss: 3.2987608909606934\n",
      "Step [50/197]\t Loss: 3.217507839202881\n",
      "Step [100/197]\t Loss: 3.3150200843811035\n",
      "Step [150/197]\t Loss: 3.29805850982666\n",
      "Epoch [66/100]\t Loss: 3.2509617067230536\t lr: 0.0002\n",
      "Step [0/197]\t Loss: 3.222054958343506\n",
      "Step [50/197]\t Loss: 3.2717044353485107\n",
      "Step [100/197]\t Loss: 3.20554256439209\n",
      "Step [150/197]\t Loss: 3.1824564933776855\n",
      "Epoch [67/100]\t Loss: 3.2400295819122777\t lr: 0.0002\n",
      "Step [0/197]\t Loss: 3.2659711837768555\n",
      "Step [50/197]\t Loss: 3.3397955894470215\n",
      "Step [100/197]\t Loss: 3.3030898571014404\n",
      "Step [150/197]\t Loss: 3.288950204849243\n",
      "Epoch [68/100]\t Loss: 3.2433683436534126\t lr: 0.0002\n",
      "Step [0/197]\t Loss: 3.238297462463379\n",
      "Step [50/197]\t Loss: 3.264841318130493\n",
      "Step [100/197]\t Loss: 3.25933837890625\n",
      "Step [150/197]\t Loss: 3.260230779647827\n",
      "Epoch [69/100]\t Loss: 3.246362406590263\t lr: 0.0002\n",
      "Step [0/197]\t Loss: 3.2978439331054688\n",
      "Step [50/197]\t Loss: 3.2693541049957275\n",
      "Step [100/197]\t Loss: 3.2786166667938232\n",
      "Step [150/197]\t Loss: 3.231630802154541\n",
      "Epoch [70/100]\t Loss: 3.2440622433793123\t lr: 0.0002\n",
      "Step [0/197]\t Loss: 3.2348520755767822\n",
      "Step [50/197]\t Loss: 3.2138965129852295\n",
      "Step [100/197]\t Loss: 3.2700035572052\n",
      "Step [150/197]\t Loss: 3.2119691371917725\n",
      "Epoch [71/100]\t Loss: 3.246926078941616\t lr: 0.0002\n",
      "Step [0/197]\t Loss: 3.3025588989257812\n",
      "Step [50/197]\t Loss: 3.2558681964874268\n",
      "Step [100/197]\t Loss: 3.264378309249878\n",
      "Step [150/197]\t Loss: 3.230062246322632\n",
      "Epoch [72/100]\t Loss: 3.2330407660624703\t lr: 0.0002\n",
      "Step [0/197]\t Loss: 3.289557695388794\n",
      "Step [50/197]\t Loss: 3.2286133766174316\n",
      "Step [100/197]\t Loss: 3.279261589050293\n",
      "Step [150/197]\t Loss: 3.2167699337005615\n",
      "Epoch [73/100]\t Loss: 3.2337093861575053\t lr: 0.0002\n",
      "Step [0/197]\t Loss: 3.327700614929199\n",
      "Step [50/197]\t Loss: 3.259040594100952\n",
      "Step [100/197]\t Loss: 3.2444851398468018\n",
      "Step [150/197]\t Loss: 3.2685959339141846\n",
      "Epoch [74/100]\t Loss: 3.2331182932490625\t lr: 0.0002\n",
      "Step [0/197]\t Loss: 3.258380651473999\n",
      "Step [50/197]\t Loss: 3.2332961559295654\n",
      "Step [100/197]\t Loss: 3.2618274688720703\n",
      "Step [150/197]\t Loss: 3.2809746265411377\n",
      "Epoch [75/100]\t Loss: 3.2381497276615976\t lr: 0.0002\n",
      "Step [0/197]\t Loss: 3.2538487911224365\n",
      "Step [50/197]\t Loss: 3.266558885574341\n",
      "Step [100/197]\t Loss: 3.297245979309082\n",
      "Step [150/197]\t Loss: 3.255784511566162\n",
      "Epoch [76/100]\t Loss: 3.235759364771964\t lr: 0.0002\n",
      "Step [0/197]\t Loss: 3.207087516784668\n",
      "Step [50/197]\t Loss: 3.2314188480377197\n",
      "Step [100/197]\t Loss: 3.272981643676758\n",
      "Step [150/197]\t Loss: 3.266916513442993\n",
      "Epoch [77/100]\t Loss: 3.2262535724543073\t lr: 0.0002\n",
      "Step [0/197]\t Loss: 3.2582650184631348\n",
      "Step [50/197]\t Loss: 3.249150037765503\n",
      "Step [100/197]\t Loss: 3.2546563148498535\n",
      "Step [150/197]\t Loss: 3.2309038639068604\n",
      "Epoch [78/100]\t Loss: 3.2292564096789675\t lr: 0.0002\n",
      "Step [0/197]\t Loss: 3.233569622039795\n",
      "Step [50/197]\t Loss: 3.2670063972473145\n",
      "Step [100/197]\t Loss: 3.203930377960205\n",
      "Step [150/197]\t Loss: 3.270453691482544\n",
      "Epoch [79/100]\t Loss: 3.225989128732439\t lr: 0.0002\n",
      "Step [0/197]\t Loss: 3.2641217708587646\n",
      "Step [50/197]\t Loss: 3.2175590991973877\n",
      "Step [100/197]\t Loss: 3.2173526287078857\n",
      "Step [150/197]\t Loss: 3.2388932704925537\n",
      "Epoch [80/100]\t Loss: 3.2266833576454124\t lr: 0.0002\n",
      "Step [0/197]\t Loss: 3.1957004070281982\n",
      "Step [50/197]\t Loss: 3.2726869583129883\n",
      "Step [100/197]\t Loss: 3.278754949569702\n",
      "Step [150/197]\t Loss: 3.2512993812561035\n",
      "Epoch [81/100]\t Loss: 3.2279356905651575\t lr: 0.0002\n",
      "Step [0/197]\t Loss: 3.2535619735717773\n",
      "Step [50/197]\t Loss: 3.26343035697937\n",
      "Step [100/197]\t Loss: 3.250357151031494\n",
      "Step [150/197]\t Loss: 3.210564136505127\n",
      "Epoch [82/100]\t Loss: 3.2224243836959605\t lr: 0.0002\n",
      "Step [0/197]\t Loss: 3.211446523666382\n",
      "Step [50/197]\t Loss: 3.197166919708252\n",
      "Step [100/197]\t Loss: 3.2561404705047607\n",
      "Step [150/197]\t Loss: 3.232337236404419\n",
      "Epoch [83/100]\t Loss: 3.2180687340382996\t lr: 0.0002\n",
      "Step [0/197]\t Loss: 3.215536117553711\n",
      "Step [50/197]\t Loss: 3.1791253089904785\n",
      "Step [100/197]\t Loss: 3.2431156635284424\n",
      "Step [150/197]\t Loss: 3.1791648864746094\n",
      "Epoch [84/100]\t Loss: 3.2216195394545037\t lr: 0.0002\n",
      "Step [0/197]\t Loss: 3.2266249656677246\n",
      "Step [50/197]\t Loss: 3.1789016723632812\n",
      "Step [100/197]\t Loss: 3.2518622875213623\n",
      "Step [150/197]\t Loss: 3.264645576477051\n",
      "Epoch [85/100]\t Loss: 3.221766525113643\t lr: 0.0002\n",
      "Step [0/197]\t Loss: 3.2239861488342285\n",
      "Step [50/197]\t Loss: 3.227053165435791\n",
      "Step [100/197]\t Loss: 3.1900904178619385\n",
      "Step [150/197]\t Loss: 3.231889009475708\n",
      "Epoch [86/100]\t Loss: 3.2148462939383413\t lr: 0.0002\n",
      "Step [0/197]\t Loss: 3.249650716781616\n",
      "Step [50/197]\t Loss: 3.255174398422241\n",
      "Step [100/197]\t Loss: 3.1844000816345215\n",
      "Step [150/197]\t Loss: 3.216049909591675\n",
      "Epoch [87/100]\t Loss: 3.213514980325844\t lr: 0.0002\n",
      "Step [0/197]\t Loss: 3.2723093032836914\n",
      "Step [50/197]\t Loss: 3.216691732406616\n",
      "Step [100/197]\t Loss: 3.283496618270874\n",
      "Step [150/197]\t Loss: 3.2308058738708496\n",
      "Epoch [88/100]\t Loss: 3.215764964292497\t lr: 0.0002\n",
      "Step [0/197]\t Loss: 3.227827787399292\n",
      "Step [50/197]\t Loss: 3.2134902477264404\n",
      "Step [100/197]\t Loss: 3.222659111022949\n",
      "Step [150/197]\t Loss: 3.2336394786834717\n",
      "Epoch [89/100]\t Loss: 3.2130581679077923\t lr: 0.0002\n",
      "Step [0/197]\t Loss: 3.2593750953674316\n",
      "Step [50/197]\t Loss: 3.206857919692993\n",
      "Step [100/197]\t Loss: 3.207439661026001\n",
      "Step [150/197]\t Loss: 3.251497507095337\n",
      "Epoch [90/100]\t Loss: 3.210031419841166\t lr: 0.0002\n",
      "Step [0/197]\t Loss: 3.1988399028778076\n",
      "Step [50/197]\t Loss: 3.2334413528442383\n",
      "Step [100/197]\t Loss: 3.218010902404785\n",
      "Step [150/197]\t Loss: 3.23773455619812\n",
      "Epoch [91/100]\t Loss: 3.21042090987191\t lr: 0.0002\n",
      "Step [0/197]\t Loss: 3.2537903785705566\n",
      "Step [50/197]\t Loss: 3.1868770122528076\n",
      "Step [100/197]\t Loss: 3.1852235794067383\n",
      "Step [150/197]\t Loss: 3.1999776363372803\n",
      "Epoch [92/100]\t Loss: 3.213589423804114\t lr: 0.0002\n",
      "Step [0/197]\t Loss: 3.2062582969665527\n",
      "Step [50/197]\t Loss: 3.238793134689331\n",
      "Step [100/197]\t Loss: 3.27638840675354\n",
      "Step [150/197]\t Loss: 3.1707050800323486\n",
      "Epoch [93/100]\t Loss: 3.207384461678829\t lr: 0.0002\n",
      "Step [0/197]\t Loss: 3.2123970985412598\n",
      "Step [50/197]\t Loss: 3.1783485412597656\n",
      "Step [100/197]\t Loss: 3.2602527141571045\n",
      "Step [150/197]\t Loss: 3.2620933055877686\n",
      "Epoch [94/100]\t Loss: 3.2076493314074987\t lr: 0.0002\n",
      "Step [0/197]\t Loss: 3.2498538494110107\n",
      "Step [50/197]\t Loss: 3.1669070720672607\n",
      "Step [100/197]\t Loss: 3.2002694606781006\n",
      "Step [150/197]\t Loss: 3.1844544410705566\n",
      "Epoch [95/100]\t Loss: 3.2046177556672073\t lr: 0.0002\n",
      "Step [0/197]\t Loss: 3.208240270614624\n",
      "Step [50/197]\t Loss: 3.2688801288604736\n",
      "Step [100/197]\t Loss: 3.24160099029541\n",
      "Step [150/197]\t Loss: 3.272873640060425\n",
      "Epoch [96/100]\t Loss: 3.205620360253426\t lr: 0.0002\n",
      "Step [0/197]\t Loss: 3.2096996307373047\n",
      "Step [50/197]\t Loss: 3.1800270080566406\n",
      "Step [100/197]\t Loss: 3.2492008209228516\n",
      "Step [150/197]\t Loss: 3.221081018447876\n",
      "Epoch [97/100]\t Loss: 3.2066140695271756\t lr: 0.0002\n",
      "Step [0/197]\t Loss: 3.2775402069091797\n",
      "Step [50/197]\t Loss: 3.2370903491973877\n",
      "Step [100/197]\t Loss: 3.19618558883667\n",
      "Step [150/197]\t Loss: 3.237680673599243\n",
      "Epoch [98/100]\t Loss: 3.2052138190584136\t lr: 0.0002\n",
      "Step [0/197]\t Loss: 3.1630985736846924\n",
      "Step [50/197]\t Loss: 3.232889175415039\n",
      "Step [100/197]\t Loss: 3.1969118118286133\n",
      "Step [150/197]\t Loss: 3.17921781539917\n",
      "Epoch [99/100]\t Loss: 3.20346329296906\t lr: 0.0002\n"
     ]
    }
   ],
   "source": [
    "import pdb, traceback, sys\n",
    "\n",
    "if __name__ == '__main__':\n",
    "    try:\n",
    "        \n",
    "        args.global_step = 0\n",
    "        args.current_epoch = 0\n",
    "        for epoch in range(args.start_epoch, args.epochs):\n",
    "            lr = optimizer.param_groups[0]['lr']\n",
    "        #     ipdb.set_trace()\n",
    "            loss_epoch = train(args, unlabeled_loader, model, criterion, optimizer, writer)\n",
    "\n",
    "            if scheduler:\n",
    "                scheduler.step()\n",
    "\n",
    "            if epoch % 100 == 0:\n",
    "                save_model(args, model, optimizer)\n",
    "\n",
    "            writer.add_scalar(\"Loss/train\", loss_epoch / len(unlabeled_loader), epoch)\n",
    "            writer.add_scalar(\"Misc/learning_rate\", lr, epoch)\n",
    "            print(\n",
    "                f\"Epoch [{epoch}/{args.epochs}]\\t Loss: {loss_epoch / len(unlabeled_loader)}\\t lr: {round(lr, 5)}\"\n",
    "            )\n",
    "            args.current_epoch += 1\n",
    "\n",
    "        ## end training\n",
    "        save_model(args, model, optimizer)\n",
    "    except:\n",
    "        extype, value, tb = sys.exc_info()\n",
    "        traceback.print_exc()\n",
    "        pdb.post_mortem(tb)"
   ]
  },
  {
   "cell_type": "code",
   "execution_count": 35,
   "metadata": {},
   "outputs": [],
   "source": [
    "save_model(args, model, optimizer)"
   ]
  },
  {
   "cell_type": "code",
   "execution_count": 31,
   "metadata": {},
   "outputs": [],
   "source": [
    "# import pdb, traceback, sys\n",
    "\n",
    "# def bombs():\n",
    "#     a = []\n",
    "#     print (a[0])\n",
    "\n",
    "# if __name__ == '__main__':\n",
    "#     try:\n",
    "#         bombs()\n",
    "#     except:\n",
    "#         extype, value, tb = sys.exc_info()\n",
    "#         traceback.print_exc()\n",
    "#         pdb.post_mortem(tb)"
   ]
  },
  {
   "cell_type": "markdown",
   "metadata": {
    "colab_type": "text",
    "id": "77BXUR9_4hNc"
   },
   "source": [
    "## Download last checkpoint to local drive (replace `100` with `args.epochs`)"
   ]
  },
  {
   "cell_type": "code",
   "execution_count": 39,
   "metadata": {
    "colab": {},
    "colab_type": "code",
    "id": "d7eHATk04Sgu"
   },
   "outputs": [],
   "source": [
    "# from google.colab import files\n",
    "# files.download('./logs/checkpoint_'+args.epochs.tar) # checkpoint_100.tar"
   ]
  },
  {
   "cell_type": "markdown",
   "metadata": {
    "colab_type": "text",
    "id": "tAQpjiuJy61N"
   },
   "source": [
    "# Part 2:\n",
    "## Linear evaluation using logistic regression, using weights from frozen, pre-trained SimCLR model"
   ]
  },
  {
   "cell_type": "markdown",
   "metadata": {
    "colab_type": "text",
    "id": "24wrzMP2vYcV"
   },
   "source": []
  },
  {
   "cell_type": "code",
   "execution_count": null,
   "metadata": {
    "colab": {},
    "colab_type": "code",
    "id": "kFyS9RvpuCuC"
   },
   "outputs": [],
   "source": [
    "\n"
   ]
  },
  {
   "cell_type": "code",
   "execution_count": 36,
   "metadata": {
    "colab": {},
    "colab_type": "code",
    "id": "pZRtPBCLvgqz"
   },
   "outputs": [],
   "source": [
    "def train(args, loader, simclr_model, model, criterion, optimizer):\n",
    "    loss_epoch = 0\n",
    "    accuracy_epoch = 0\n",
    "    for step, (x, y) in enumerate(loader):\n",
    "        optimizer.zero_grad()\n",
    "\n",
    "        x = x.to(args.device)\n",
    "        y = y.to(args.device)\n",
    "\n",
    "        # get encoding\n",
    "        with torch.no_grad():\n",
    "            h, z = simclr_model(x)\n",
    "            # h = 512\n",
    "            # z = 64\n",
    "\n",
    "        output = model(h)\n",
    "        loss = criterion(output, y)\n",
    "\n",
    "        predicted = output.argmax(1)\n",
    "        acc = (predicted == y).sum().item() / y.size(0)\n",
    "        accuracy_epoch += acc\n",
    "\n",
    "        loss.backward()\n",
    "        optimizer.step()\n",
    "\n",
    "        loss_epoch += loss.item()\n",
    "        if step % 100 == 0:\n",
    "            print(f\"Step [{step}/{len(loader)}]\\t Loss: {loss.item()}\\t Accuracy: {acc}\")\n",
    "\n",
    "    return loss_epoch, accuracy_epoch"
   ]
  },
  {
   "cell_type": "code",
   "execution_count": 37,
   "metadata": {
    "colab": {},
    "colab_type": "code",
    "id": "skBYAPb2uKB5"
   },
   "outputs": [],
   "source": [
    "def test(args, loader, simclr_model, model, criterion, optimizer):\n",
    "    loss_epoch = 0\n",
    "    accuracy_epoch = 0\n",
    "    model.eval()\n",
    "    for step, (x, y) in enumerate(loader):\n",
    "        model.zero_grad()\n",
    "\n",
    "        x = x.to(args.device)\n",
    "        y = y.to(args.device)\n",
    "\n",
    "        # get encoding\n",
    "        with torch.no_grad():\n",
    "            h, z = simclr_model(x)\n",
    "            # h = 512\n",
    "            # z = 64\n",
    "\n",
    "        output = model(h)\n",
    "        loss = criterion(output, y)\n",
    "\n",
    "        predicted = output.argmax(1)\n",
    "        acc = (predicted == y).sum().item() / y.size(0)\n",
    "        accuracy_epoch += acc\n",
    "\n",
    "        loss_epoch += loss.item()\n",
    "\n",
    "\n",
    "    return loss_epoch, accuracy_epoch"
   ]
  },
  {
   "cell_type": "code",
   "execution_count": 32,
   "metadata": {
    "colab": {
     "base_uri": "https://localhost:8080/",
     "height": 323
    },
    "colab_type": "code",
    "id": "OJk4-nc-vkF0",
    "outputId": "403ed12f-844f-4a05-e0db-cc5ffca627d3"
   },
   "outputs": [
    {
     "name": "stdout",
     "output_type": "stream",
     "text": [
      "{'batch_size': 128,\n",
      " 'dataset': 'CIFAR10',\n",
      " 'epoch_num': 100,\n",
      " 'epochs': 100,\n",
      " 'fp16': False,\n",
      " 'fp16_opt_level': 'O2',\n",
      " 'logistic_batch_size': 256,\n",
      " 'logistic_epochs': 500,\n",
      " 'model_path': 'logs/0',\n",
      " 'normalize': True,\n",
      " 'optimizer': 'Adam',\n",
      " 'pretrain': True,\n",
      " 'projection_dim': 64,\n",
      " 'resnet': 'resnet50',\n",
      " 'seed': 42,\n",
      " 'start_epoch': 0,\n",
      " 'temperature': 0.5,\n",
      " 'weight_decay': 1e-06,\n",
      " 'workers': 16}\n"
     ]
    }
   ],
   "source": [
    "# from pprint import pprint\n",
    "# from utils.yaml_config_hook import yaml_config_hook\n",
    "\n",
    "# config = yaml_config_hook(\"./config/config.yaml\")\n",
    "# pprint(config)\n",
    "# args = argparse.Namespace(**config)\n",
    "\n",
    "# if use_tpu:\n",
    "#     args.device = dev\n",
    "# else:\n",
    "#     args.device = torch.device(\"cuda:0\" if torch.cuda.is_available() else \"cpu\")"
   ]
  },
  {
   "cell_type": "code",
   "execution_count": 33,
   "metadata": {
    "colab": {},
    "colab_type": "code",
    "id": "_7cSwhu55KJc"
   },
   "outputs": [],
   "source": [
    "# args.batch_size = 32\n",
    "# args.resnet = \"se_resnext101_32x4d\" # \n",
    "# args.model_path = \"logs\"\n",
    "# args.epoch_num = 20 # 100\n",
    "# args.projection_dim = 32\n",
    "\n",
    "# args.logistic_epochs = 100"
   ]
  },
  {
   "cell_type": "markdown",
   "metadata": {
    "colab_type": "text",
    "id": "GWRuVrZZ5Vm1"
   },
   "source": [
    "### Load dataset into train/test dataloaders"
   ]
  },
  {
   "cell_type": "code",
   "execution_count": 35,
   "metadata": {
    "colab": {
     "base_uri": "https://localhost:8080/",
     "height": 51
    },
    "colab_type": "code",
    "id": "iPGuFjLW5PF9",
    "outputId": "42131d22-129f-4d12-efaf-b01c29d78588"
   },
   "outputs": [],
   "source": [
    "# root = \"./datasets\"\n",
    "# transform = transforms.Compose([\n",
    "#     transforms.ToTensor(),\n",
    "#     transforms.Normalize((0.5, 0.5, 0.5), (0.5, 0.5, 0.5))])\n",
    "\n",
    "# if args.dataset == \"STL10\":\n",
    "#     train_dataset = torchvision.datasets.STL10(\n",
    "#         root, split=\"train\", download=True, transform=torchvision.transforms.ToTensor()\n",
    "#     )\n",
    "#     test_dataset = torchvision.datasets.STL10(\n",
    "#         root, split=\"test\", download=True, transform=torchvision.transforms.ToTensor()\n",
    "#     )\n",
    "# elif args.dataset == \"CIFAR10\":\n",
    "#     train_dataset = torchvision.datasets.CIFAR10(\n",
    "#         root, train=True, download=True, transform=transform\n",
    "#     )\n",
    "#     test_dataset = torchvision.datasets.CIFAR10(\n",
    "#         root, train=False, download=True, transform=transform\n",
    "#     )\n",
    "# else:\n",
    "#     raise NotImplementedError\n",
    "\n",
    "# train_loader = torch.utils.data.DataLoader(\n",
    "#     train_dataset,\n",
    "#     batch_size=args.logistic_batch_size,\n",
    "#     shuffle=True,\n",
    "#     drop_last=True,\n",
    "#     num_workers=args.workers,\n",
    "# )\n",
    "\n",
    "# test_loader = torch.utils.data.DataLoader(\n",
    "#     test_dataset,\n",
    "#     batch_size=args.logistic_batch_size,\n",
    "#     shuffle=False,\n",
    "#     drop_last=True,\n",
    "#     num_workers=args.workers,\n",
    "# )"
   ]
  },
  {
   "cell_type": "markdown",
   "metadata": {
    "colab_type": "text",
    "id": "TmwXqVBH5ZX6"
   },
   "source": [
    "### Load SimCLR model and load model weights"
   ]
  },
  {
   "cell_type": "code",
   "execution_count": 39,
   "metadata": {},
   "outputs": [
    {
     "data": {
      "text/plain": [
       "<torch.utils.data.sampler.SubsetRandomSampler at 0x7fa01e793c88>"
      ]
     },
     "execution_count": 39,
     "metadata": {},
     "output_type": "execute_result"
    }
   ],
   "source": [
    "train_sampler"
   ]
  },
  {
   "cell_type": "code",
   "execution_count": 40,
   "metadata": {},
   "outputs": [],
   "source": [
    "train_loader = torch.utils.data.DataLoader(train_data, batch_size = batch_size_train,\n",
    "                                             sampler = train_sampler, num_workers = n_workers)\n",
    "\n",
    "valid_loader = torch.utils.data.DataLoader(train_data, batch_size = batch_size_eval,\n",
    "                                             sampler = valid_sampler, num_workers = n_workers)"
   ]
  },
  {
   "cell_type": "code",
   "execution_count": 43,
   "metadata": {},
   "outputs": [
    {
     "name": "stdout",
     "output_type": "stream",
     "text": [
      "LICENSE      config\t      logs     model.py\t\t run_all.sh\ttesting\n",
      "README.md    environment.yml  main.py  modules\t\t setup.sh\tutils\n",
      "__pycache__  experiment.py    media    requirements.txt  setup_apex.sh\n"
     ]
    }
   ],
   "source": [
    "!ls"
   ]
  },
  {
   "cell_type": "code",
   "execution_count": 46,
   "metadata": {},
   "outputs": [
    {
     "data": {
      "text/plain": [
       "'logs/0'"
      ]
     },
     "execution_count": 46,
     "metadata": {},
     "output_type": "execute_result"
    }
   ],
   "source": [
    "args.model_path"
   ]
  },
  {
   "cell_type": "code",
   "execution_count": 47,
   "metadata": {},
   "outputs": [],
   "source": [
    "args.model_path = 'logs'"
   ]
  },
  {
   "cell_type": "code",
   "execution_count": 48,
   "metadata": {
    "colab": {
     "base_uri": "https://localhost:8080/",
     "height": 1000
    },
    "colab_type": "code",
    "id": "RTVnvx2a5QnX",
    "outputId": "380865bd-d974-45c4-cf81-956366ddf0f2"
   },
   "outputs": [
    {
     "data": {
      "text/plain": [
       "SimCLR(\n",
       "  (encoder): ResNet(\n",
       "    (conv1): Conv2d(3, 64, kernel_size=(7, 7), stride=(2, 2), padding=(3, 3), bias=False)\n",
       "    (bn1): BatchNorm2d(64, eps=1e-05, momentum=0.1, affine=True, track_running_stats=True)\n",
       "    (relu): ReLU(inplace=True)\n",
       "    (maxpool): MaxPool2d(kernel_size=3, stride=2, padding=1, dilation=1, ceil_mode=False)\n",
       "    (layer1): Sequential(\n",
       "      (0): BasicBlock(\n",
       "        (conv1): Conv2d(64, 64, kernel_size=(3, 3), stride=(1, 1), padding=(1, 1), bias=False)\n",
       "        (bn1): BatchNorm2d(64, eps=1e-05, momentum=0.1, affine=True, track_running_stats=True)\n",
       "        (relu): ReLU(inplace=True)\n",
       "        (conv2): Conv2d(64, 64, kernel_size=(3, 3), stride=(1, 1), padding=(1, 1), bias=False)\n",
       "        (bn2): BatchNorm2d(64, eps=1e-05, momentum=0.1, affine=True, track_running_stats=True)\n",
       "      )\n",
       "      (1): BasicBlock(\n",
       "        (conv1): Conv2d(64, 64, kernel_size=(3, 3), stride=(1, 1), padding=(1, 1), bias=False)\n",
       "        (bn1): BatchNorm2d(64, eps=1e-05, momentum=0.1, affine=True, track_running_stats=True)\n",
       "        (relu): ReLU(inplace=True)\n",
       "        (conv2): Conv2d(64, 64, kernel_size=(3, 3), stride=(1, 1), padding=(1, 1), bias=False)\n",
       "        (bn2): BatchNorm2d(64, eps=1e-05, momentum=0.1, affine=True, track_running_stats=True)\n",
       "      )\n",
       "    )\n",
       "    (layer2): Sequential(\n",
       "      (0): BasicBlock(\n",
       "        (conv1): Conv2d(64, 128, kernel_size=(3, 3), stride=(2, 2), padding=(1, 1), bias=False)\n",
       "        (bn1): BatchNorm2d(128, eps=1e-05, momentum=0.1, affine=True, track_running_stats=True)\n",
       "        (relu): ReLU(inplace=True)\n",
       "        (conv2): Conv2d(128, 128, kernel_size=(3, 3), stride=(1, 1), padding=(1, 1), bias=False)\n",
       "        (bn2): BatchNorm2d(128, eps=1e-05, momentum=0.1, affine=True, track_running_stats=True)\n",
       "        (downsample): Sequential(\n",
       "          (0): Conv2d(64, 128, kernel_size=(1, 1), stride=(2, 2), bias=False)\n",
       "          (1): BatchNorm2d(128, eps=1e-05, momentum=0.1, affine=True, track_running_stats=True)\n",
       "        )\n",
       "      )\n",
       "      (1): BasicBlock(\n",
       "        (conv1): Conv2d(128, 128, kernel_size=(3, 3), stride=(1, 1), padding=(1, 1), bias=False)\n",
       "        (bn1): BatchNorm2d(128, eps=1e-05, momentum=0.1, affine=True, track_running_stats=True)\n",
       "        (relu): ReLU(inplace=True)\n",
       "        (conv2): Conv2d(128, 128, kernel_size=(3, 3), stride=(1, 1), padding=(1, 1), bias=False)\n",
       "        (bn2): BatchNorm2d(128, eps=1e-05, momentum=0.1, affine=True, track_running_stats=True)\n",
       "      )\n",
       "    )\n",
       "    (layer3): Sequential(\n",
       "      (0): BasicBlock(\n",
       "        (conv1): Conv2d(128, 256, kernel_size=(3, 3), stride=(2, 2), padding=(1, 1), bias=False)\n",
       "        (bn1): BatchNorm2d(256, eps=1e-05, momentum=0.1, affine=True, track_running_stats=True)\n",
       "        (relu): ReLU(inplace=True)\n",
       "        (conv2): Conv2d(256, 256, kernel_size=(3, 3), stride=(1, 1), padding=(1, 1), bias=False)\n",
       "        (bn2): BatchNorm2d(256, eps=1e-05, momentum=0.1, affine=True, track_running_stats=True)\n",
       "        (downsample): Sequential(\n",
       "          (0): Conv2d(128, 256, kernel_size=(1, 1), stride=(2, 2), bias=False)\n",
       "          (1): BatchNorm2d(256, eps=1e-05, momentum=0.1, affine=True, track_running_stats=True)\n",
       "        )\n",
       "      )\n",
       "      (1): BasicBlock(\n",
       "        (conv1): Conv2d(256, 256, kernel_size=(3, 3), stride=(1, 1), padding=(1, 1), bias=False)\n",
       "        (bn1): BatchNorm2d(256, eps=1e-05, momentum=0.1, affine=True, track_running_stats=True)\n",
       "        (relu): ReLU(inplace=True)\n",
       "        (conv2): Conv2d(256, 256, kernel_size=(3, 3), stride=(1, 1), padding=(1, 1), bias=False)\n",
       "        (bn2): BatchNorm2d(256, eps=1e-05, momentum=0.1, affine=True, track_running_stats=True)\n",
       "      )\n",
       "    )\n",
       "    (layer4): Sequential(\n",
       "      (0): BasicBlock(\n",
       "        (conv1): Conv2d(256, 512, kernel_size=(3, 3), stride=(2, 2), padding=(1, 1), bias=False)\n",
       "        (bn1): BatchNorm2d(512, eps=1e-05, momentum=0.1, affine=True, track_running_stats=True)\n",
       "        (relu): ReLU(inplace=True)\n",
       "        (conv2): Conv2d(512, 512, kernel_size=(3, 3), stride=(1, 1), padding=(1, 1), bias=False)\n",
       "        (bn2): BatchNorm2d(512, eps=1e-05, momentum=0.1, affine=True, track_running_stats=True)\n",
       "        (downsample): Sequential(\n",
       "          (0): Conv2d(256, 512, kernel_size=(1, 1), stride=(2, 2), bias=False)\n",
       "          (1): BatchNorm2d(512, eps=1e-05, momentum=0.1, affine=True, track_running_stats=True)\n",
       "        )\n",
       "      )\n",
       "      (1): BasicBlock(\n",
       "        (conv1): Conv2d(512, 512, kernel_size=(3, 3), stride=(1, 1), padding=(1, 1), bias=False)\n",
       "        (bn1): BatchNorm2d(512, eps=1e-05, momentum=0.1, affine=True, track_running_stats=True)\n",
       "        (relu): ReLU(inplace=True)\n",
       "        (conv2): Conv2d(512, 512, kernel_size=(3, 3), stride=(1, 1), padding=(1, 1), bias=False)\n",
       "        (bn2): BatchNorm2d(512, eps=1e-05, momentum=0.1, affine=True, track_running_stats=True)\n",
       "      )\n",
       "    )\n",
       "    (avgpool): AdaptiveAvgPool2d(output_size=(1, 1))\n",
       "    (fc): Identity()\n",
       "  )\n",
       "  (projector): Sequential(\n",
       "    (0): Linear(in_features=512, out_features=512, bias=False)\n",
       "    (1): ReLU()\n",
       "    (2): Linear(in_features=512, out_features=64, bias=False)\n",
       "  )\n",
       ")"
      ]
     },
     "execution_count": 48,
     "metadata": {},
     "output_type": "execute_result"
    }
   ],
   "source": [
    "simclr_model, _, _ = load_model(args, train_loader, reload_model=True)\n",
    "simclr_model = simclr_model.to(args.device)\n",
    "simclr_model.eval()"
   ]
  },
  {
   "cell_type": "code",
   "execution_count": 51,
   "metadata": {},
   "outputs": [
    {
     "data": {
      "text/plain": [
       "Namespace(batch_size=64, current_epoch=100, dataset='casava', device=device(type='cuda', index=0), epoch_num=100, epochs=100, fp16=False, fp16_opt_level='O2', global_step=19600, logistic_batch_size=256, logistic_epochs=500, model_path='logs', normalize=True, optimizer='Adam', out_dir='logs', pretrain=True, projection_dim=64, resnet='resnet18', seed=42, start_epoch=0, temperature=0.5, weight_decay=1e-06, workers=16)"
      ]
     },
     "execution_count": 51,
     "metadata": {},
     "output_type": "execute_result"
    }
   ],
   "source": [
    "args"
   ]
  },
  {
   "cell_type": "code",
   "execution_count": 52,
   "metadata": {},
   "outputs": [],
   "source": [
    "args.logistic_epochs = 100"
   ]
  },
  {
   "cell_type": "code",
   "execution_count": 53,
   "metadata": {
    "colab": {},
    "colab_type": "code",
    "id": "HZoABGRr5Q8_"
   },
   "outputs": [],
   "source": [
    "## Logistic Regression\n",
    "n_classes = 5 # stl-10\n",
    "model = LogisticRegression(simclr_model.n_features, n_classes)\n",
    "model = model.to(args.device)"
   ]
  },
  {
   "cell_type": "code",
   "execution_count": 54,
   "metadata": {
    "colab": {},
    "colab_type": "code",
    "id": "T694n_HQ5Tad"
   },
   "outputs": [],
   "source": [
    "optimizer = torch.optim.Adam(model.parameters(), lr=2e-4)\n",
    "criterion = torch.nn.CrossEntropyLoss()"
   ]
  },
  {
   "cell_type": "code",
   "execution_count": 58,
   "metadata": {},
   "outputs": [],
   "source": [
    "# best_acc = 0.80\n",
    "# for epoch in range(args.logistic_epochs):\n",
    "#     loss_epoch, accuracy_epoch = train(args, train_loader, simclr_model, model, criterion, optimizer)\n",
    "#     print(f\"Epoch [{epoch}/{args.logistic_epochs}]\\t Loss: {loss_epoch / len(train_loader)}\\t Accuracy: {accuracy_epoch / len(train_loader)}\")\n",
    "    \n",
    "#     # final testing\n",
    "#     loss_epoch, accuracy_epoch = test(args, valid_loader, simclr_model, model, criterion, optimizer)\n",
    "#     print(f\"[FINAL]\\t Loss: {loss_epoch / len(valid_loader)}\\t Accuracy: {accuracy_epoch / len(valid_loader)}\")\n",
    "#     if accuracy_epoch / len(valid_loader) > best_acc :  \n",
    "#         print(f\"Model {valid_loader}_{accuracy_epoch / len(valid_loader)} saved\")\n",
    "#         save_model(args, simclr_model, optimizer)\n",
    "\n",
    "# # final testing\n",
    "# loss_epoch, accuracy_epoch = test(args, valid_loader, simclr_model, model, criterion, optimizer)\n",
    "# print(f\"[FINAL]\\t Loss: {loss_epoch / len(valid_loader)}\\t Accuracy: {accuracy_epoch / len(valid_loader)}\")"
   ]
  },
  {
   "cell_type": "code",
   "execution_count": null,
   "metadata": {},
   "outputs": [
    {
     "name": "stdout",
     "output_type": "stream",
     "text": [
      "Step [0/89]\t Loss: 1.007338285446167\t Accuracy: 0.640625\n",
      "Epoch [0/100]\t Loss: 1.002496210376868\t Accuracy: 0.6399812734082397\n",
      "Step [0/89]\t Loss: 0.9683483839035034\t Accuracy: 0.59375\n",
      "Epoch [1/100]\t Loss: 0.9244304379720366\t Accuracy: 0.667251872659176\n",
      "Step [0/89]\t Loss: 1.0559744834899902\t Accuracy: 0.625\n",
      "Epoch [2/100]\t Loss: 0.8896373309446185\t Accuracy: 0.6776685393258427\n",
      "Step [0/89]\t Loss: 0.8689053058624268\t Accuracy: 0.65625\n",
      "Epoch [3/100]\t Loss: 0.8646878231777234\t Accuracy: 0.6818235018726592\n",
      "Step [0/89]\t Loss: 0.8029615879058838\t Accuracy: 0.734375\n",
      "Epoch [4/100]\t Loss: 0.8489039111673162\t Accuracy: 0.6904260299625468\n",
      "Step [0/89]\t Loss: 0.7241063117980957\t Accuracy: 0.734375\n"
     ]
    }
   ],
   "source": [
    "for epoch in range(args.logistic_epochs):\n",
    "    loss_epoch, accuracy_epoch = train(args, train_loader, simclr_model, model, criterion, optimizer)\n",
    "    print(f\"Epoch [{epoch}/{args.logistic_epochs}]\\t Loss: {loss_epoch / len(train_loader)}\\t Accuracy: {accuracy_epoch / len(train_loader)}\")\n",
    "\n",
    "# final testing\n",
    "loss_epoch, accuracy_epoch = test(args, test_loader, simclr_model, model, criterion, optimizer)\n",
    "print(f\"[FINAL]\\t Loss: {loss_epoch / len(test_loader)}\\t Accuracy: {accuracy_epoch / len(test_loader)}\")"
   ]
  },
  {
   "cell_type": "code",
   "execution_count": 38,
   "metadata": {},
   "outputs": [
    {
     "name": "stdout",
     "output_type": "stream",
     "text": [
      "[FINAL]\t Loss: 1.3014336422913604\t Accuracy: 0.8099747474747475\n"
     ]
    }
   ],
   "source": [
    "oss_epoch, accuracy_epoch = test(args, valid_loader, simclr_model, model, criterion, optimizer)\n",
    "print(f\"[FINAL]\\t Loss: {loss_epoch / len(valid_loader)}\\t Accuracy: {accuracy_epoch / len(valid_loader)}\")"
   ]
  },
  {
   "cell_type": "code",
   "execution_count": null,
   "metadata": {},
   "outputs": [],
   "source": []
  },
  {
   "cell_type": "code",
   "execution_count": null,
   "metadata": {},
   "outputs": [],
   "source": []
  },
  {
   "cell_type": "code",
   "execution_count": 41,
   "metadata": {},
   "outputs": [
    {
     "name": "stdout",
     "output_type": "stream",
     "text": [
      "[FINAL]\t Loss: 2.2546271115541456\t Accuracy: 0.7482666666666666\n"
     ]
    }
   ],
   "source": [
    "oss_epoch, accuracy_epoch = test(args, valid_loader, simclr_model, model, criterion, optimizer)\n",
    "print(f\"[FINAL]\\t Loss: {loss_epoch / len(valid_loader)}\\t Accuracy: {accuracy_epoch / len(valid_loader)}\")"
   ]
  },
  {
   "cell_type": "code",
   "execution_count": null,
   "metadata": {},
   "outputs": [],
   "source": []
  },
  {
   "cell_type": "code",
   "execution_count": 39,
   "metadata": {
    "colab": {
     "base_uri": "https://localhost:8080/",
     "height": 1000
    },
    "colab_type": "code",
    "id": "vLaebM9Qvztx",
    "outputId": "17fd9ef1-5154-41f5-e8f0-0959e0f82f68"
   },
   "outputs": [
    {
     "name": "stdout",
     "output_type": "stream",
     "text": [
      "Step [0/37]\t Loss: 1.8033009767532349\t Accuracy: 0.136\n",
      "Epoch [0/500]\t Loss: 1.3058979640135895\t Accuracy: 0.5074594594594597\n",
      "Step [0/37]\t Loss: 1.1310392618179321\t Accuracy: 0.56\n",
      "Epoch [1/500]\t Loss: 1.1025966373649803\t Accuracy: 0.5943783783783785\n",
      "Step [0/37]\t Loss: 1.1083776950836182\t Accuracy: 0.608\n",
      "Epoch [2/500]\t Loss: 1.0608275178316477\t Accuracy: 0.6023783783783784\n",
      "Step [0/37]\t Loss: 0.9856696724891663\t Accuracy: 0.672\n",
      "Epoch [3/500]\t Loss: 1.0526621744439408\t Accuracy: 0.6019459459459459\n",
      "Step [0/37]\t Loss: 1.1596343517303467\t Accuracy: 0.56\n",
      "Epoch [4/500]\t Loss: 1.0424807184451335\t Accuracy: 0.6056216216216217\n",
      "Step [0/37]\t Loss: 1.0736558437347412\t Accuracy: 0.576\n",
      "Epoch [5/500]\t Loss: 1.0309529691129118\t Accuracy: 0.6099459459459459\n",
      "Step [0/37]\t Loss: 1.16108238697052\t Accuracy: 0.544\n",
      "Epoch [6/500]\t Loss: 1.0287092763024408\t Accuracy: 0.6116756756756757\n",
      "Step [0/37]\t Loss: 0.9434301853179932\t Accuracy: 0.688\n",
      "Epoch [7/500]\t Loss: 1.0198058888718888\t Accuracy: 0.6147027027027027\n",
      "Step [0/37]\t Loss: 1.113943099975586\t Accuracy: 0.552\n",
      "Epoch [8/500]\t Loss: 1.0225735532270896\t Accuracy: 0.6101621621621621\n",
      "Step [0/37]\t Loss: 1.0189629793167114\t Accuracy: 0.6\n",
      "Epoch [9/500]\t Loss: 1.0173781030886881\t Accuracy: 0.6142702702702704\n",
      "Step [0/37]\t Loss: 1.0884902477264404\t Accuracy: 0.536\n",
      "Epoch [10/500]\t Loss: 1.0238684464145351\t Accuracy: 0.6114594594594596\n",
      "Step [0/37]\t Loss: 1.0873640775680542\t Accuracy: 0.6\n",
      "Epoch [11/500]\t Loss: 1.0141767488943565\t Accuracy: 0.612972972972973\n",
      "Step [0/37]\t Loss: 1.033854365348816\t Accuracy: 0.64\n",
      "Epoch [12/500]\t Loss: 1.008228297169144\t Accuracy: 0.6229189189189188\n",
      "Step [0/37]\t Loss: 0.9485524296760559\t Accuracy: 0.648\n",
      "Epoch [13/500]\t Loss: 1.012501690838788\t Accuracy: 0.616\n",
      "Step [0/37]\t Loss: 1.1229203939437866\t Accuracy: 0.608\n",
      "Epoch [14/500]\t Loss: 1.011778104949642\t Accuracy: 0.6116756756756757\n",
      "Step [0/37]\t Loss: 0.9500762224197388\t Accuracy: 0.672\n",
      "Epoch [15/500]\t Loss: 1.0029996681857754\t Accuracy: 0.6214054054054055\n",
      "Step [0/37]\t Loss: 0.9587697386741638\t Accuracy: 0.648\n",
      "Epoch [16/500]\t Loss: 1.0014339411580884\t Accuracy: 0.6201081081081081\n",
      "Step [0/37]\t Loss: 0.9559009671211243\t Accuracy: 0.68\n",
      "Epoch [17/500]\t Loss: 1.0083174367208738\t Accuracy: 0.6183783783783784\n",
      "Step [0/37]\t Loss: 1.1889280080795288\t Accuracy: 0.552\n",
      "Epoch [18/500]\t Loss: 1.0010022537128345\t Accuracy: 0.6194594594594595\n",
      "Step [0/37]\t Loss: 1.0365569591522217\t Accuracy: 0.624\n",
      "Epoch [19/500]\t Loss: 0.9979361182934529\t Accuracy: 0.6261621621621621\n",
      "Step [0/37]\t Loss: 1.013893961906433\t Accuracy: 0.648\n",
      "Epoch [20/500]\t Loss: 0.9931009814545915\t Accuracy: 0.6220540540540539\n",
      "Step [0/37]\t Loss: 1.1179018020629883\t Accuracy: 0.616\n",
      "Epoch [21/500]\t Loss: 0.9930059426539654\t Accuracy: 0.6218378378378379\n",
      "Step [0/37]\t Loss: 1.015285849571228\t Accuracy: 0.6\n",
      "Epoch [22/500]\t Loss: 1.0047405507113483\t Accuracy: 0.6224864864864865\n",
      "Step [0/37]\t Loss: 0.9152193069458008\t Accuracy: 0.672\n",
      "Epoch [23/500]\t Loss: 0.9946665779964344\t Accuracy: 0.6252972972972973\n",
      "Step [0/37]\t Loss: 1.115788459777832\t Accuracy: 0.584\n",
      "Epoch [24/500]\t Loss: 0.9997544755806794\t Accuracy: 0.619891891891892\n",
      "Step [0/37]\t Loss: 0.9976512789726257\t Accuracy: 0.608\n",
      "Epoch [25/500]\t Loss: 0.9928673473564354\t Accuracy: 0.6257297297297297\n",
      "Step [0/37]\t Loss: 0.9223300814628601\t Accuracy: 0.68\n",
      "Epoch [26/500]\t Loss: 0.9976288740699356\t Accuracy: 0.6214054054054055\n",
      "Step [0/37]\t Loss: 0.9461998343467712\t Accuracy: 0.656\n",
      "Epoch [27/500]\t Loss: 0.9956010032344509\t Accuracy: 0.6211891891891892\n",
      "Step [0/37]\t Loss: 1.0611393451690674\t Accuracy: 0.576\n",
      "Epoch [28/500]\t Loss: 0.9861307160274403\t Accuracy: 0.6276756756756757\n",
      "Step [0/37]\t Loss: 1.0447298288345337\t Accuracy: 0.584\n",
      "Epoch [29/500]\t Loss: 0.9891293886545542\t Accuracy: 0.628108108108108\n",
      "Step [0/37]\t Loss: 1.0635769367218018\t Accuracy: 0.6\n",
      "Epoch [30/500]\t Loss: 0.9943820109238496\t Accuracy: 0.6235675675675676\n",
      "Step [0/37]\t Loss: 1.1241897344589233\t Accuracy: 0.584\n",
      "Epoch [31/500]\t Loss: 0.9889136891107302\t Accuracy: 0.6255135135135134\n",
      "Step [0/37]\t Loss: 0.8885579705238342\t Accuracy: 0.672\n",
      "Epoch [32/500]\t Loss: 0.9877686903283402\t Accuracy: 0.624864864864865\n",
      "Step [0/37]\t Loss: 0.9491863250732422\t Accuracy: 0.656\n",
      "Epoch [33/500]\t Loss: 0.9808122612334587\t Accuracy: 0.6302702702702703\n",
      "Step [0/37]\t Loss: 0.9717525243759155\t Accuracy: 0.64\n",
      "Epoch [34/500]\t Loss: 0.9800167293161959\t Accuracy: 0.6296216216216217\n",
      "Step [0/37]\t Loss: 0.9412503838539124\t Accuracy: 0.656\n",
      "Epoch [35/500]\t Loss: 0.978393591739036\t Accuracy: 0.6324324324324325\n",
      "Step [0/37]\t Loss: 0.8845765590667725\t Accuracy: 0.648\n",
      "Epoch [36/500]\t Loss: 0.9832291538650925\t Accuracy: 0.6255135135135135\n",
      "Step [0/37]\t Loss: 1.1710538864135742\t Accuracy: 0.48\n",
      "Epoch [37/500]\t Loss: 0.9889631947955569\t Accuracy: 0.6233513513513514\n",
      "Step [0/37]\t Loss: 0.9217975735664368\t Accuracy: 0.656\n",
      "Epoch [38/500]\t Loss: 0.9858019754693315\t Accuracy: 0.6263783783783785\n",
      "Step [0/37]\t Loss: 1.0927571058273315\t Accuracy: 0.608\n",
      "Epoch [39/500]\t Loss: 0.9774902028006476\t Accuracy: 0.6311351351351352\n",
      "Step [0/37]\t Loss: 1.013459324836731\t Accuracy: 0.648\n",
      "Epoch [40/500]\t Loss: 0.9844006364409988\t Accuracy: 0.6259459459459459\n",
      "Step [0/37]\t Loss: 0.96531081199646\t Accuracy: 0.624\n",
      "Epoch [41/500]\t Loss: 0.9799570795652028\t Accuracy: 0.6300540540540539\n",
      "Step [0/37]\t Loss: 0.9787879586219788\t Accuracy: 0.648\n",
      "Epoch [42/500]\t Loss: 0.980630244757678\t Accuracy: 0.6322162162162163\n",
      "Step [0/37]\t Loss: 0.916633665561676\t Accuracy: 0.672\n",
      "Epoch [43/500]\t Loss: 0.9758370550903114\t Accuracy: 0.6281081081081081\n",
      "Step [0/37]\t Loss: 0.9701990485191345\t Accuracy: 0.624\n",
      "Epoch [44/500]\t Loss: 0.9809103157069232\t Accuracy: 0.6291891891891892\n",
      "Step [0/37]\t Loss: 0.95835280418396\t Accuracy: 0.632\n",
      "Epoch [45/500]\t Loss: 0.975676860358264\t Accuracy: 0.6274594594594595\n",
      "Step [0/37]\t Loss: 0.9946370720863342\t Accuracy: 0.632\n",
      "Epoch [46/500]\t Loss: 0.9775510639757723\t Accuracy: 0.6324324324324326\n",
      "Step [0/37]\t Loss: 0.9622368812561035\t Accuracy: 0.656\n",
      "Epoch [47/500]\t Loss: 0.9740126712902172\t Accuracy: 0.6315675675675674\n",
      "Step [0/37]\t Loss: 1.0243192911148071\t Accuracy: 0.616\n",
      "Epoch [48/500]\t Loss: 0.9699419173034461\t Accuracy: 0.6343783783783784\n",
      "Step [0/37]\t Loss: 1.0600663423538208\t Accuracy: 0.624\n",
      "Epoch [49/500]\t Loss: 0.9704662029807632\t Accuracy: 0.6352432432432433\n",
      "Step [0/37]\t Loss: 0.9606145024299622\t Accuracy: 0.624\n",
      "Epoch [50/500]\t Loss: 0.9722542988287436\t Accuracy: 0.6322162162162164\n",
      "Step [0/37]\t Loss: 1.1357265710830688\t Accuracy: 0.592\n",
      "Epoch [51/500]\t Loss: 0.9715521657789076\t Accuracy: 0.6345945945945947\n",
      "Step [0/37]\t Loss: 0.8836181163787842\t Accuracy: 0.656\n",
      "Epoch [52/500]\t Loss: 0.9718232170955555\t Accuracy: 0.6315675675675676\n",
      "Step [0/37]\t Loss: 1.0258432626724243\t Accuracy: 0.608\n",
      "Epoch [53/500]\t Loss: 0.9720781058878512\t Accuracy: 0.6311351351351352\n",
      "Step [0/37]\t Loss: 0.9228202700614929\t Accuracy: 0.648\n",
      "Epoch [54/500]\t Loss: 0.973266289040849\t Accuracy: 0.6343783783783784\n",
      "Step [0/37]\t Loss: 1.1420886516571045\t Accuracy: 0.536\n",
      "Epoch [55/500]\t Loss: 0.974487757360613\t Accuracy: 0.6296216216216216\n",
      "Step [0/37]\t Loss: 1.024275302886963\t Accuracy: 0.608\n",
      "Epoch [56/500]\t Loss: 0.970441773131087\t Accuracy: 0.6313513513513516\n",
      "Step [0/37]\t Loss: 0.9729394912719727\t Accuracy: 0.64\n",
      "Epoch [57/500]\t Loss: 0.9699945030985652\t Accuracy: 0.6345945945945948\n",
      "Step [0/37]\t Loss: 0.929798424243927\t Accuracy: 0.68\n",
      "Epoch [58/500]\t Loss: 0.9590459627074164\t Accuracy: 0.6404324324324325\n",
      "Step [0/37]\t Loss: 1.0574895143508911\t Accuracy: 0.576\n",
      "Epoch [59/500]\t Loss: 0.9644181760581764\t Accuracy: 0.6365405405405405\n",
      "Step [0/37]\t Loss: 1.0646651983261108\t Accuracy: 0.56\n",
      "Epoch [60/500]\t Loss: 0.9665242949047604\t Accuracy: 0.6341621621621624\n",
      "Step [0/37]\t Loss: 0.8326179385185242\t Accuracy: 0.688\n"
     ]
    },
    {
     "ename": "KeyboardInterrupt",
     "evalue": "",
     "output_type": "error",
     "traceback": [
      "\u001b[0;31m---------------------------------------------------------------------------\u001b[0m",
      "\u001b[0;31mKeyboardInterrupt\u001b[0m                         Traceback (most recent call last)",
      "\u001b[0;32m<ipython-input-39-aab1da4690d0>\u001b[0m in \u001b[0;36m<module>\u001b[0;34m\u001b[0m\n\u001b[1;32m      1\u001b[0m \u001b[0;32mfor\u001b[0m \u001b[0mepoch\u001b[0m \u001b[0;32min\u001b[0m \u001b[0mrange\u001b[0m\u001b[0;34m(\u001b[0m\u001b[0margs\u001b[0m\u001b[0;34m.\u001b[0m\u001b[0mlogistic_epochs\u001b[0m\u001b[0;34m)\u001b[0m\u001b[0;34m:\u001b[0m\u001b[0;34m\u001b[0m\u001b[0;34m\u001b[0m\u001b[0m\n\u001b[0;32m----> 2\u001b[0;31m     \u001b[0mloss_epoch\u001b[0m\u001b[0;34m,\u001b[0m \u001b[0maccuracy_epoch\u001b[0m \u001b[0;34m=\u001b[0m \u001b[0mtrain\u001b[0m\u001b[0;34m(\u001b[0m\u001b[0margs\u001b[0m\u001b[0;34m,\u001b[0m \u001b[0mtrain_loader\u001b[0m\u001b[0;34m,\u001b[0m \u001b[0msimclr_model\u001b[0m\u001b[0;34m,\u001b[0m \u001b[0mmodel\u001b[0m\u001b[0;34m,\u001b[0m \u001b[0mcriterion\u001b[0m\u001b[0;34m,\u001b[0m \u001b[0moptimizer\u001b[0m\u001b[0;34m)\u001b[0m\u001b[0;34m\u001b[0m\u001b[0;34m\u001b[0m\u001b[0m\n\u001b[0m\u001b[1;32m      3\u001b[0m     \u001b[0mprint\u001b[0m\u001b[0;34m(\u001b[0m\u001b[0;34mf\"Epoch [{epoch}/{args.logistic_epochs}]\\t Loss: {loss_epoch / len(train_loader)}\\t Accuracy: {accuracy_epoch / len(train_loader)}\"\u001b[0m\u001b[0;34m)\u001b[0m\u001b[0;34m\u001b[0m\u001b[0;34m\u001b[0m\u001b[0m\n\u001b[1;32m      4\u001b[0m \u001b[0;34m\u001b[0m\u001b[0m\n\u001b[1;32m      5\u001b[0m \u001b[0;31m# final testing\u001b[0m\u001b[0;34m\u001b[0m\u001b[0;34m\u001b[0m\u001b[0;34m\u001b[0m\u001b[0m\n",
      "\u001b[0;32m<ipython-input-31-4f1c640c4e7f>\u001b[0m in \u001b[0;36mtrain\u001b[0;34m(args, loader, simclr_model, model, criterion, optimizer)\u001b[0m\n\u001b[1;32m      2\u001b[0m     \u001b[0mloss_epoch\u001b[0m \u001b[0;34m=\u001b[0m \u001b[0;36m0\u001b[0m\u001b[0;34m\u001b[0m\u001b[0;34m\u001b[0m\u001b[0m\n\u001b[1;32m      3\u001b[0m     \u001b[0maccuracy_epoch\u001b[0m \u001b[0;34m=\u001b[0m \u001b[0;36m0\u001b[0m\u001b[0;34m\u001b[0m\u001b[0;34m\u001b[0m\u001b[0m\n\u001b[0;32m----> 4\u001b[0;31m     \u001b[0;32mfor\u001b[0m \u001b[0mstep\u001b[0m\u001b[0;34m,\u001b[0m \u001b[0;34m(\u001b[0m\u001b[0mx\u001b[0m\u001b[0;34m,\u001b[0m \u001b[0my\u001b[0m\u001b[0;34m)\u001b[0m \u001b[0;32min\u001b[0m \u001b[0menumerate\u001b[0m\u001b[0;34m(\u001b[0m\u001b[0mloader\u001b[0m\u001b[0;34m)\u001b[0m\u001b[0;34m:\u001b[0m\u001b[0;34m\u001b[0m\u001b[0;34m\u001b[0m\u001b[0m\n\u001b[0m\u001b[1;32m      5\u001b[0m         \u001b[0moptimizer\u001b[0m\u001b[0;34m.\u001b[0m\u001b[0mzero_grad\u001b[0m\u001b[0;34m(\u001b[0m\u001b[0;34m)\u001b[0m\u001b[0;34m\u001b[0m\u001b[0;34m\u001b[0m\u001b[0m\n\u001b[1;32m      6\u001b[0m \u001b[0;34m\u001b[0m\u001b[0m\n",
      "\u001b[0;32m~/anaconda3/envs/simclr/lib/python3.8/site-packages/torch/utils/data/dataloader.py\u001b[0m in \u001b[0;36m__next__\u001b[0;34m(self)\u001b[0m\n\u001b[1;32m    343\u001b[0m \u001b[0;34m\u001b[0m\u001b[0m\n\u001b[1;32m    344\u001b[0m     \u001b[0;32mdef\u001b[0m \u001b[0m__next__\u001b[0m\u001b[0;34m(\u001b[0m\u001b[0mself\u001b[0m\u001b[0;34m)\u001b[0m\u001b[0;34m:\u001b[0m\u001b[0;34m\u001b[0m\u001b[0;34m\u001b[0m\u001b[0m\n\u001b[0;32m--> 345\u001b[0;31m         \u001b[0mdata\u001b[0m \u001b[0;34m=\u001b[0m \u001b[0mself\u001b[0m\u001b[0;34m.\u001b[0m\u001b[0m_next_data\u001b[0m\u001b[0;34m(\u001b[0m\u001b[0;34m)\u001b[0m\u001b[0;34m\u001b[0m\u001b[0;34m\u001b[0m\u001b[0m\n\u001b[0m\u001b[1;32m    346\u001b[0m         \u001b[0mself\u001b[0m\u001b[0;34m.\u001b[0m\u001b[0m_num_yielded\u001b[0m \u001b[0;34m+=\u001b[0m \u001b[0;36m1\u001b[0m\u001b[0;34m\u001b[0m\u001b[0;34m\u001b[0m\u001b[0m\n\u001b[1;32m    347\u001b[0m         \u001b[0;32mif\u001b[0m \u001b[0mself\u001b[0m\u001b[0;34m.\u001b[0m\u001b[0m_dataset_kind\u001b[0m \u001b[0;34m==\u001b[0m \u001b[0m_DatasetKind\u001b[0m\u001b[0;34m.\u001b[0m\u001b[0mIterable\u001b[0m \u001b[0;32mand\u001b[0m\u001b[0;31m \u001b[0m\u001b[0;31m\\\u001b[0m\u001b[0;34m\u001b[0m\u001b[0;34m\u001b[0m\u001b[0m\n",
      "\u001b[0;32m~/anaconda3/envs/simclr/lib/python3.8/site-packages/torch/utils/data/dataloader.py\u001b[0m in \u001b[0;36m_next_data\u001b[0;34m(self)\u001b[0m\n\u001b[1;32m    839\u001b[0m \u001b[0;34m\u001b[0m\u001b[0m\n\u001b[1;32m    840\u001b[0m             \u001b[0;32massert\u001b[0m \u001b[0;32mnot\u001b[0m \u001b[0mself\u001b[0m\u001b[0;34m.\u001b[0m\u001b[0m_shutdown\u001b[0m \u001b[0;32mand\u001b[0m \u001b[0mself\u001b[0m\u001b[0;34m.\u001b[0m\u001b[0m_tasks_outstanding\u001b[0m \u001b[0;34m>\u001b[0m \u001b[0;36m0\u001b[0m\u001b[0;34m\u001b[0m\u001b[0;34m\u001b[0m\u001b[0m\n\u001b[0;32m--> 841\u001b[0;31m             \u001b[0midx\u001b[0m\u001b[0;34m,\u001b[0m \u001b[0mdata\u001b[0m \u001b[0;34m=\u001b[0m \u001b[0mself\u001b[0m\u001b[0;34m.\u001b[0m\u001b[0m_get_data\u001b[0m\u001b[0;34m(\u001b[0m\u001b[0;34m)\u001b[0m\u001b[0;34m\u001b[0m\u001b[0;34m\u001b[0m\u001b[0m\n\u001b[0m\u001b[1;32m    842\u001b[0m             \u001b[0mself\u001b[0m\u001b[0;34m.\u001b[0m\u001b[0m_tasks_outstanding\u001b[0m \u001b[0;34m-=\u001b[0m \u001b[0;36m1\u001b[0m\u001b[0;34m\u001b[0m\u001b[0;34m\u001b[0m\u001b[0m\n\u001b[1;32m    843\u001b[0m \u001b[0;34m\u001b[0m\u001b[0m\n",
      "\u001b[0;32m~/anaconda3/envs/simclr/lib/python3.8/site-packages/torch/utils/data/dataloader.py\u001b[0m in \u001b[0;36m_get_data\u001b[0;34m(self)\u001b[0m\n\u001b[1;32m    806\u001b[0m         \u001b[0;32melse\u001b[0m\u001b[0;34m:\u001b[0m\u001b[0;34m\u001b[0m\u001b[0;34m\u001b[0m\u001b[0m\n\u001b[1;32m    807\u001b[0m             \u001b[0;32mwhile\u001b[0m \u001b[0;32mTrue\u001b[0m\u001b[0;34m:\u001b[0m\u001b[0;34m\u001b[0m\u001b[0;34m\u001b[0m\u001b[0m\n\u001b[0;32m--> 808\u001b[0;31m                 \u001b[0msuccess\u001b[0m\u001b[0;34m,\u001b[0m \u001b[0mdata\u001b[0m \u001b[0;34m=\u001b[0m \u001b[0mself\u001b[0m\u001b[0;34m.\u001b[0m\u001b[0m_try_get_data\u001b[0m\u001b[0;34m(\u001b[0m\u001b[0;34m)\u001b[0m\u001b[0;34m\u001b[0m\u001b[0;34m\u001b[0m\u001b[0m\n\u001b[0m\u001b[1;32m    809\u001b[0m                 \u001b[0;32mif\u001b[0m \u001b[0msuccess\u001b[0m\u001b[0;34m:\u001b[0m\u001b[0;34m\u001b[0m\u001b[0;34m\u001b[0m\u001b[0m\n\u001b[1;32m    810\u001b[0m                     \u001b[0;32mreturn\u001b[0m \u001b[0mdata\u001b[0m\u001b[0;34m\u001b[0m\u001b[0;34m\u001b[0m\u001b[0m\n",
      "\u001b[0;32m~/anaconda3/envs/simclr/lib/python3.8/site-packages/torch/utils/data/dataloader.py\u001b[0m in \u001b[0;36m_try_get_data\u001b[0;34m(self, timeout)\u001b[0m\n\u001b[1;32m    759\u001b[0m         \u001b[0;31m#   (bool: whether successfully get data, any: data if successful else None)\u001b[0m\u001b[0;34m\u001b[0m\u001b[0;34m\u001b[0m\u001b[0;34m\u001b[0m\u001b[0m\n\u001b[1;32m    760\u001b[0m         \u001b[0;32mtry\u001b[0m\u001b[0;34m:\u001b[0m\u001b[0;34m\u001b[0m\u001b[0;34m\u001b[0m\u001b[0m\n\u001b[0;32m--> 761\u001b[0;31m             \u001b[0mdata\u001b[0m \u001b[0;34m=\u001b[0m \u001b[0mself\u001b[0m\u001b[0;34m.\u001b[0m\u001b[0m_data_queue\u001b[0m\u001b[0;34m.\u001b[0m\u001b[0mget\u001b[0m\u001b[0;34m(\u001b[0m\u001b[0mtimeout\u001b[0m\u001b[0;34m=\u001b[0m\u001b[0mtimeout\u001b[0m\u001b[0;34m)\u001b[0m\u001b[0;34m\u001b[0m\u001b[0;34m\u001b[0m\u001b[0m\n\u001b[0m\u001b[1;32m    762\u001b[0m             \u001b[0;32mreturn\u001b[0m \u001b[0;34m(\u001b[0m\u001b[0;32mTrue\u001b[0m\u001b[0;34m,\u001b[0m \u001b[0mdata\u001b[0m\u001b[0;34m)\u001b[0m\u001b[0;34m\u001b[0m\u001b[0;34m\u001b[0m\u001b[0m\n\u001b[1;32m    763\u001b[0m         \u001b[0;32mexcept\u001b[0m \u001b[0mException\u001b[0m \u001b[0;32mas\u001b[0m \u001b[0me\u001b[0m\u001b[0;34m:\u001b[0m\u001b[0;34m\u001b[0m\u001b[0;34m\u001b[0m\u001b[0m\n",
      "\u001b[0;32m~/anaconda3/envs/simclr/lib/python3.8/multiprocessing/queues.py\u001b[0m in \u001b[0;36mget\u001b[0;34m(self, block, timeout)\u001b[0m\n\u001b[1;32m    105\u001b[0m                 \u001b[0;32mif\u001b[0m \u001b[0mblock\u001b[0m\u001b[0;34m:\u001b[0m\u001b[0;34m\u001b[0m\u001b[0;34m\u001b[0m\u001b[0m\n\u001b[1;32m    106\u001b[0m                     \u001b[0mtimeout\u001b[0m \u001b[0;34m=\u001b[0m \u001b[0mdeadline\u001b[0m \u001b[0;34m-\u001b[0m \u001b[0mtime\u001b[0m\u001b[0;34m.\u001b[0m\u001b[0mmonotonic\u001b[0m\u001b[0;34m(\u001b[0m\u001b[0;34m)\u001b[0m\u001b[0;34m\u001b[0m\u001b[0;34m\u001b[0m\u001b[0m\n\u001b[0;32m--> 107\u001b[0;31m                     \u001b[0;32mif\u001b[0m \u001b[0;32mnot\u001b[0m \u001b[0mself\u001b[0m\u001b[0;34m.\u001b[0m\u001b[0m_poll\u001b[0m\u001b[0;34m(\u001b[0m\u001b[0mtimeout\u001b[0m\u001b[0;34m)\u001b[0m\u001b[0;34m:\u001b[0m\u001b[0;34m\u001b[0m\u001b[0;34m\u001b[0m\u001b[0m\n\u001b[0m\u001b[1;32m    108\u001b[0m                         \u001b[0;32mraise\u001b[0m \u001b[0mEmpty\u001b[0m\u001b[0;34m\u001b[0m\u001b[0;34m\u001b[0m\u001b[0m\n\u001b[1;32m    109\u001b[0m                 \u001b[0;32melif\u001b[0m \u001b[0;32mnot\u001b[0m \u001b[0mself\u001b[0m\u001b[0;34m.\u001b[0m\u001b[0m_poll\u001b[0m\u001b[0;34m(\u001b[0m\u001b[0;34m)\u001b[0m\u001b[0;34m:\u001b[0m\u001b[0;34m\u001b[0m\u001b[0;34m\u001b[0m\u001b[0m\n",
      "\u001b[0;32m~/anaconda3/envs/simclr/lib/python3.8/multiprocessing/connection.py\u001b[0m in \u001b[0;36mpoll\u001b[0;34m(self, timeout)\u001b[0m\n\u001b[1;32m    255\u001b[0m         \u001b[0mself\u001b[0m\u001b[0;34m.\u001b[0m\u001b[0m_check_closed\u001b[0m\u001b[0;34m(\u001b[0m\u001b[0;34m)\u001b[0m\u001b[0;34m\u001b[0m\u001b[0;34m\u001b[0m\u001b[0m\n\u001b[1;32m    256\u001b[0m         \u001b[0mself\u001b[0m\u001b[0;34m.\u001b[0m\u001b[0m_check_readable\u001b[0m\u001b[0;34m(\u001b[0m\u001b[0;34m)\u001b[0m\u001b[0;34m\u001b[0m\u001b[0;34m\u001b[0m\u001b[0m\n\u001b[0;32m--> 257\u001b[0;31m         \u001b[0;32mreturn\u001b[0m \u001b[0mself\u001b[0m\u001b[0;34m.\u001b[0m\u001b[0m_poll\u001b[0m\u001b[0;34m(\u001b[0m\u001b[0mtimeout\u001b[0m\u001b[0;34m)\u001b[0m\u001b[0;34m\u001b[0m\u001b[0;34m\u001b[0m\u001b[0m\n\u001b[0m\u001b[1;32m    258\u001b[0m \u001b[0;34m\u001b[0m\u001b[0m\n\u001b[1;32m    259\u001b[0m     \u001b[0;32mdef\u001b[0m \u001b[0m__enter__\u001b[0m\u001b[0;34m(\u001b[0m\u001b[0mself\u001b[0m\u001b[0;34m)\u001b[0m\u001b[0;34m:\u001b[0m\u001b[0;34m\u001b[0m\u001b[0;34m\u001b[0m\u001b[0m\n",
      "\u001b[0;32m~/anaconda3/envs/simclr/lib/python3.8/multiprocessing/connection.py\u001b[0m in \u001b[0;36m_poll\u001b[0;34m(self, timeout)\u001b[0m\n\u001b[1;32m    422\u001b[0m \u001b[0;34m\u001b[0m\u001b[0m\n\u001b[1;32m    423\u001b[0m     \u001b[0;32mdef\u001b[0m \u001b[0m_poll\u001b[0m\u001b[0;34m(\u001b[0m\u001b[0mself\u001b[0m\u001b[0;34m,\u001b[0m \u001b[0mtimeout\u001b[0m\u001b[0;34m)\u001b[0m\u001b[0;34m:\u001b[0m\u001b[0;34m\u001b[0m\u001b[0;34m\u001b[0m\u001b[0m\n\u001b[0;32m--> 424\u001b[0;31m         \u001b[0mr\u001b[0m \u001b[0;34m=\u001b[0m \u001b[0mwait\u001b[0m\u001b[0;34m(\u001b[0m\u001b[0;34m[\u001b[0m\u001b[0mself\u001b[0m\u001b[0;34m]\u001b[0m\u001b[0;34m,\u001b[0m \u001b[0mtimeout\u001b[0m\u001b[0;34m)\u001b[0m\u001b[0;34m\u001b[0m\u001b[0;34m\u001b[0m\u001b[0m\n\u001b[0m\u001b[1;32m    425\u001b[0m         \u001b[0;32mreturn\u001b[0m \u001b[0mbool\u001b[0m\u001b[0;34m(\u001b[0m\u001b[0mr\u001b[0m\u001b[0;34m)\u001b[0m\u001b[0;34m\u001b[0m\u001b[0;34m\u001b[0m\u001b[0m\n\u001b[1;32m    426\u001b[0m \u001b[0;34m\u001b[0m\u001b[0m\n",
      "\u001b[0;32m~/anaconda3/envs/simclr/lib/python3.8/multiprocessing/connection.py\u001b[0m in \u001b[0;36mwait\u001b[0;34m(object_list, timeout)\u001b[0m\n\u001b[1;32m    928\u001b[0m \u001b[0;34m\u001b[0m\u001b[0m\n\u001b[1;32m    929\u001b[0m             \u001b[0;32mwhile\u001b[0m \u001b[0;32mTrue\u001b[0m\u001b[0;34m:\u001b[0m\u001b[0;34m\u001b[0m\u001b[0;34m\u001b[0m\u001b[0m\n\u001b[0;32m--> 930\u001b[0;31m                 \u001b[0mready\u001b[0m \u001b[0;34m=\u001b[0m \u001b[0mselector\u001b[0m\u001b[0;34m.\u001b[0m\u001b[0mselect\u001b[0m\u001b[0;34m(\u001b[0m\u001b[0mtimeout\u001b[0m\u001b[0;34m)\u001b[0m\u001b[0;34m\u001b[0m\u001b[0;34m\u001b[0m\u001b[0m\n\u001b[0m\u001b[1;32m    931\u001b[0m                 \u001b[0;32mif\u001b[0m \u001b[0mready\u001b[0m\u001b[0;34m:\u001b[0m\u001b[0;34m\u001b[0m\u001b[0;34m\u001b[0m\u001b[0m\n\u001b[1;32m    932\u001b[0m                     \u001b[0;32mreturn\u001b[0m \u001b[0;34m[\u001b[0m\u001b[0mkey\u001b[0m\u001b[0;34m.\u001b[0m\u001b[0mfileobj\u001b[0m \u001b[0;32mfor\u001b[0m \u001b[0;34m(\u001b[0m\u001b[0mkey\u001b[0m\u001b[0;34m,\u001b[0m \u001b[0mevents\u001b[0m\u001b[0;34m)\u001b[0m \u001b[0;32min\u001b[0m \u001b[0mready\u001b[0m\u001b[0;34m]\u001b[0m\u001b[0;34m\u001b[0m\u001b[0;34m\u001b[0m\u001b[0m\n",
      "\u001b[0;32m~/anaconda3/envs/simclr/lib/python3.8/selectors.py\u001b[0m in \u001b[0;36mselect\u001b[0;34m(self, timeout)\u001b[0m\n\u001b[1;32m    413\u001b[0m         \u001b[0mready\u001b[0m \u001b[0;34m=\u001b[0m \u001b[0;34m[\u001b[0m\u001b[0;34m]\u001b[0m\u001b[0;34m\u001b[0m\u001b[0;34m\u001b[0m\u001b[0m\n\u001b[1;32m    414\u001b[0m         \u001b[0;32mtry\u001b[0m\u001b[0;34m:\u001b[0m\u001b[0;34m\u001b[0m\u001b[0;34m\u001b[0m\u001b[0m\n\u001b[0;32m--> 415\u001b[0;31m             \u001b[0mfd_event_list\u001b[0m \u001b[0;34m=\u001b[0m \u001b[0mself\u001b[0m\u001b[0;34m.\u001b[0m\u001b[0m_selector\u001b[0m\u001b[0;34m.\u001b[0m\u001b[0mpoll\u001b[0m\u001b[0;34m(\u001b[0m\u001b[0mtimeout\u001b[0m\u001b[0;34m)\u001b[0m\u001b[0;34m\u001b[0m\u001b[0;34m\u001b[0m\u001b[0m\n\u001b[0m\u001b[1;32m    416\u001b[0m         \u001b[0;32mexcept\u001b[0m \u001b[0mInterruptedError\u001b[0m\u001b[0;34m:\u001b[0m\u001b[0;34m\u001b[0m\u001b[0;34m\u001b[0m\u001b[0m\n\u001b[1;32m    417\u001b[0m             \u001b[0;32mreturn\u001b[0m \u001b[0mready\u001b[0m\u001b[0;34m\u001b[0m\u001b[0;34m\u001b[0m\u001b[0m\n",
      "\u001b[0;31mKeyboardInterrupt\u001b[0m: "
     ]
    }
   ],
   "source": [
    "for epoch in range(args.logistic_epochs):\n",
    "    loss_epoch, accuracy_epoch = train(args, train_loader, simclr_model, model, criterion, optimizer)\n",
    "    print(f\"Epoch [{epoch}/{args.logistic_epochs}]\\t Loss: {loss_epoch / len(train_loader)}\\t Accuracy: {accuracy_epoch / len(train_loader)}\")\n",
    "\n",
    "# final testing\n",
    "loss_epoch, accuracy_epoch = test(args, test_loader, simclr_model, model, criterion, optimizer)\n",
    "print(f\"[FINAL]\\t Loss: {loss_epoch / len(test_loader)}\\t Accuracy: {accuracy_epoch / len(test_loader)}\")"
   ]
  },
  {
   "cell_type": "code",
   "execution_count": null,
   "metadata": {},
   "outputs": [],
   "source": []
  },
  {
   "cell_type": "code",
   "execution_count": 89,
   "metadata": {},
   "outputs": [],
   "source": [
    "class_names = {0:'cbsd', 1: 'cgm', 2: 'cbb', 3: 'healthy', 4: 'cmd'}"
   ]
  },
  {
   "cell_type": "code",
   "execution_count": 90,
   "metadata": {},
   "outputs": [],
   "source": [
    "def process_image(image_dir):\n",
    "    # Process a PIL image for use in a PyTorch model\n",
    "    # tensor.numpy().transpose(1, 2, 0)\n",
    "    image = Image.open(image_dir)\n",
    "    preprocess = transforms.Compose([ transforms.Resize(224),\n",
    "                                       transforms.CenterCrop(224),\n",
    "                                       transforms.ToTensor(),\n",
    "                                      transforms.Normalize(mean=mean,std=std)])\n",
    "    image = preprocess(image)\n",
    "    # Convert 2D image to 1D vector\n",
    "    image = np.expand_dims(image, 0)\n",
    "    image = torch.from_numpy(image)\n",
    "    inputs = image.to(device)\n",
    "    return inputs"
   ]
  },
  {
   "cell_type": "code",
   "execution_count": null,
   "metadata": {},
   "outputs": [],
   "source": []
  },
  {
   "cell_type": "code",
   "execution_count": 93,
   "metadata": {},
   "outputs": [],
   "source": [
    "# Using our model to predict the label\n",
    "def predict(image1, model, linear_classifier):\n",
    "    # Pass the image through our model\n",
    "    output_hat = simclr_model(image1)\n",
    "    output = model(output_hat)\n",
    "    # Reverse the log function in our output\n",
    "    output = torch.exp(output)\n",
    "    # Get the top predicted class, and the output percentage for\n",
    "    # that class\n",
    "    probs, classes = output.topk(1, dim=1)\n",
    "    return probs.item(), classes.item()"
   ]
  },
  {
   "cell_type": "code",
   "execution_count": 94,
   "metadata": {},
   "outputs": [],
   "source": [
    "test_directory = \"./data/test/test/0\"\n",
    "predictions, test_image_fileName = [], []\n",
    "try:\n",
    "    test_images = listdir(test_directory)\n",
    "    for images in test_images:\n",
    "        test_image_fileName.append(images)\n",
    "        image = process_image(f'{test_directory}/{images}')\n",
    "        top_prob, top_class = predict(image, model, linear_classifier)\n",
    "        predictions.append(class_names[top_class])\n",
    "except Exception as e:\n",
    "    print(e)"
   ]
  },
  {
   "cell_type": "code",
   "execution_count": null,
   "metadata": {},
   "outputs": [],
   "source": []
  },
  {
   "cell_type": "code",
   "execution_count": 95,
   "metadata": {},
   "outputs": [
    {
     "name": "stdout",
     "output_type": "stream",
     "text": [
      "[INFO] Creating pandas dataframe\n"
     ]
    }
   ],
   "source": [
    "print(\"[INFO] Creating pandas dataframe\")\n",
    "submission_data = {\"Category\":predictions,\"Id\":test_image_fileName,}\n",
    "submission_data_frame = pd.DataFrame(submission_data)"
   ]
  },
  {
   "cell_type": "code",
   "execution_count": 97,
   "metadata": {},
   "outputs": [
    {
     "data": {
      "text/html": [
       "<div>\n",
       "<style scoped>\n",
       "    .dataframe tbody tr th:only-of-type {\n",
       "        vertical-align: middle;\n",
       "    }\n",
       "\n",
       "    .dataframe tbody tr th {\n",
       "        vertical-align: top;\n",
       "    }\n",
       "\n",
       "    .dataframe thead th {\n",
       "        text-align: right;\n",
       "    }\n",
       "</style>\n",
       "<table border=\"1\" class=\"dataframe\">\n",
       "  <thead>\n",
       "    <tr style=\"text-align: right;\">\n",
       "      <th></th>\n",
       "      <th>Category</th>\n",
       "      <th>Id</th>\n",
       "    </tr>\n",
       "  </thead>\n",
       "  <tbody>\n",
       "    <tr>\n",
       "      <th>0</th>\n",
       "      <td>cbsd</td>\n",
       "      <td>test-img-2547.jpg</td>\n",
       "    </tr>\n",
       "    <tr>\n",
       "      <th>1</th>\n",
       "      <td>cbsd</td>\n",
       "      <td>test-img-1415.jpg</td>\n",
       "    </tr>\n",
       "    <tr>\n",
       "      <th>2</th>\n",
       "      <td>cbsd</td>\n",
       "      <td>test-img-2683.jpg</td>\n",
       "    </tr>\n",
       "    <tr>\n",
       "      <th>3</th>\n",
       "      <td>cbb</td>\n",
       "      <td>test-img-683.jpg</td>\n",
       "    </tr>\n",
       "    <tr>\n",
       "      <th>4</th>\n",
       "      <td>cmd</td>\n",
       "      <td>test-img-3585.jpg</td>\n",
       "    </tr>\n",
       "  </tbody>\n",
       "</table>\n",
       "</div>"
      ],
      "text/plain": [
       "  Category                 Id\n",
       "0     cbsd  test-img-2547.jpg\n",
       "1     cbsd  test-img-1415.jpg\n",
       "2     cbsd  test-img-2683.jpg\n",
       "3      cbb   test-img-683.jpg\n",
       "4      cmd  test-img-3585.jpg"
      ]
     },
     "execution_count": 97,
     "metadata": {},
     "output_type": "execute_result"
    }
   ],
   "source": [
    "submission_data_frame.head()"
   ]
  },
  {
   "cell_type": "code",
   "execution_count": 98,
   "metadata": {},
   "outputs": [],
   "source": []
  },
  {
   "cell_type": "code",
   "execution_count": 98,
   "metadata": {},
   "outputs": [],
   "source": [
    "submission_data_frame.to_csv('submission'+model_name+'_freeze_86_flip.csv', header=True, index=False)"
   ]
  }
 ],
 "metadata": {
  "accelerator": "TPU",
  "colab": {
   "collapsed_sections": [],
   "name": "SimCLR Notebook.ipynb",
   "provenance": []
  },
  "kernelspec": {
   "display_name": "Python 3",
   "language": "python",
   "name": "python3"
  },
  "language_info": {
   "codemirror_mode": {
    "name": "ipython",
    "version": 3
   },
   "file_extension": ".py",
   "mimetype": "text/x-python",
   "name": "python",
   "nbconvert_exporter": "python",
   "pygments_lexer": "ipython3",
   "version": "3.6.9"
  },
  "widgets": {
   "application/vnd.jupyter.widget-state+json": {
    "1f62ac17ac704e108fa3ea5f52a9ea8d": {
     "model_module": "@jupyter-widgets/base",
     "model_name": "LayoutModel",
     "state": {
      "_model_module": "@jupyter-widgets/base",
      "_model_module_version": "1.2.0",
      "_model_name": "LayoutModel",
      "_view_count": null,
      "_view_module": "@jupyter-widgets/base",
      "_view_module_version": "1.2.0",
      "_view_name": "LayoutView",
      "align_content": null,
      "align_items": null,
      "align_self": null,
      "border": null,
      "bottom": null,
      "display": null,
      "flex": null,
      "flex_flow": null,
      "grid_area": null,
      "grid_auto_columns": null,
      "grid_auto_flow": null,
      "grid_auto_rows": null,
      "grid_column": null,
      "grid_gap": null,
      "grid_row": null,
      "grid_template_areas": null,
      "grid_template_columns": null,
      "grid_template_rows": null,
      "height": null,
      "justify_content": null,
      "justify_items": null,
      "left": null,
      "margin": null,
      "max_height": null,
      "max_width": null,
      "min_height": null,
      "min_width": null,
      "object_fit": null,
      "object_position": null,
      "order": null,
      "overflow": null,
      "overflow_x": null,
      "overflow_y": null,
      "padding": null,
      "right": null,
      "top": null,
      "visibility": null,
      "width": null
     }
    },
    "554f93f21a4344ada4a1e7c74fe386b7": {
     "model_module": "@jupyter-widgets/controls",
     "model_name": "HTMLModel",
     "state": {
      "_dom_classes": [],
      "_model_module": "@jupyter-widgets/controls",
      "_model_module_version": "1.5.0",
      "_model_name": "HTMLModel",
      "_view_count": null,
      "_view_module": "@jupyter-widgets/controls",
      "_view_module_version": "1.5.0",
      "_view_name": "HTMLView",
      "description": "",
      "description_tooltip": null,
      "layout": "IPY_MODEL_1f62ac17ac704e108fa3ea5f52a9ea8d",
      "placeholder": "​",
      "style": "IPY_MODEL_56b658779c7745a885cde6850fae178f",
      "value": " 170500096/? [00:19&lt;00:00, 93331221.18it/s]"
     }
    },
    "56b658779c7745a885cde6850fae178f": {
     "model_module": "@jupyter-widgets/controls",
     "model_name": "DescriptionStyleModel",
     "state": {
      "_model_module": "@jupyter-widgets/controls",
      "_model_module_version": "1.5.0",
      "_model_name": "DescriptionStyleModel",
      "_view_count": null,
      "_view_module": "@jupyter-widgets/base",
      "_view_module_version": "1.2.0",
      "_view_name": "StyleView",
      "description_width": ""
     }
    },
    "5bb79baa5d7b4c81896e083f9543b33c": {
     "model_module": "@jupyter-widgets/base",
     "model_name": "LayoutModel",
     "state": {
      "_model_module": "@jupyter-widgets/base",
      "_model_module_version": "1.2.0",
      "_model_name": "LayoutModel",
      "_view_count": null,
      "_view_module": "@jupyter-widgets/base",
      "_view_module_version": "1.2.0",
      "_view_name": "LayoutView",
      "align_content": null,
      "align_items": null,
      "align_self": null,
      "border": null,
      "bottom": null,
      "display": null,
      "flex": null,
      "flex_flow": null,
      "grid_area": null,
      "grid_auto_columns": null,
      "grid_auto_flow": null,
      "grid_auto_rows": null,
      "grid_column": null,
      "grid_gap": null,
      "grid_row": null,
      "grid_template_areas": null,
      "grid_template_columns": null,
      "grid_template_rows": null,
      "height": null,
      "justify_content": null,
      "justify_items": null,
      "left": null,
      "margin": null,
      "max_height": null,
      "max_width": null,
      "min_height": null,
      "min_width": null,
      "object_fit": null,
      "object_position": null,
      "order": null,
      "overflow": null,
      "overflow_x": null,
      "overflow_y": null,
      "padding": null,
      "right": null,
      "top": null,
      "visibility": null,
      "width": null
     }
    },
    "6f1d2aed682f44f98524873f26408de6": {
     "model_module": "@jupyter-widgets/controls",
     "model_name": "ProgressStyleModel",
     "state": {
      "_model_module": "@jupyter-widgets/controls",
      "_model_module_version": "1.5.0",
      "_model_name": "ProgressStyleModel",
      "_view_count": null,
      "_view_module": "@jupyter-widgets/base",
      "_view_module_version": "1.2.0",
      "_view_name": "StyleView",
      "bar_color": null,
      "description_width": "initial"
     }
    },
    "8ecfd2a00a874c6cacacbe39ab3f87cc": {
     "model_module": "@jupyter-widgets/base",
     "model_name": "LayoutModel",
     "state": {
      "_model_module": "@jupyter-widgets/base",
      "_model_module_version": "1.2.0",
      "_model_name": "LayoutModel",
      "_view_count": null,
      "_view_module": "@jupyter-widgets/base",
      "_view_module_version": "1.2.0",
      "_view_name": "LayoutView",
      "align_content": null,
      "align_items": null,
      "align_self": null,
      "border": null,
      "bottom": null,
      "display": null,
      "flex": null,
      "flex_flow": null,
      "grid_area": null,
      "grid_auto_columns": null,
      "grid_auto_flow": null,
      "grid_auto_rows": null,
      "grid_column": null,
      "grid_gap": null,
      "grid_row": null,
      "grid_template_areas": null,
      "grid_template_columns": null,
      "grid_template_rows": null,
      "height": null,
      "justify_content": null,
      "justify_items": null,
      "left": null,
      "margin": null,
      "max_height": null,
      "max_width": null,
      "min_height": null,
      "min_width": null,
      "object_fit": null,
      "object_position": null,
      "order": null,
      "overflow": null,
      "overflow_x": null,
      "overflow_y": null,
      "padding": null,
      "right": null,
      "top": null,
      "visibility": null,
      "width": null
     }
    },
    "e100213220094b8cbf3e9578bc3a1554": {
     "model_module": "@jupyter-widgets/controls",
     "model_name": "HBoxModel",
     "state": {
      "_dom_classes": [],
      "_model_module": "@jupyter-widgets/controls",
      "_model_module_version": "1.5.0",
      "_model_name": "HBoxModel",
      "_view_count": null,
      "_view_module": "@jupyter-widgets/controls",
      "_view_module_version": "1.5.0",
      "_view_name": "HBoxView",
      "box_style": "",
      "children": [
       "IPY_MODEL_e3834039bcc6436489e4b5fc04fb4664",
       "IPY_MODEL_554f93f21a4344ada4a1e7c74fe386b7"
      ],
      "layout": "IPY_MODEL_8ecfd2a00a874c6cacacbe39ab3f87cc"
     }
    },
    "e3834039bcc6436489e4b5fc04fb4664": {
     "model_module": "@jupyter-widgets/controls",
     "model_name": "IntProgressModel",
     "state": {
      "_dom_classes": [],
      "_model_module": "@jupyter-widgets/controls",
      "_model_module_version": "1.5.0",
      "_model_name": "IntProgressModel",
      "_view_count": null,
      "_view_module": "@jupyter-widgets/controls",
      "_view_module_version": "1.5.0",
      "_view_name": "ProgressView",
      "bar_style": "info",
      "description": "",
      "description_tooltip": null,
      "layout": "IPY_MODEL_5bb79baa5d7b4c81896e083f9543b33c",
      "max": 1,
      "min": 0,
      "orientation": "horizontal",
      "style": "IPY_MODEL_6f1d2aed682f44f98524873f26408de6",
      "value": 1
     }
    }
   }
  }
 },
 "nbformat": 4,
 "nbformat_minor": 4
}
